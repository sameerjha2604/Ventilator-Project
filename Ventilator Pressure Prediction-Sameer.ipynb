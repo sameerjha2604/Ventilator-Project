{
 "cells": [
  {
   "cell_type": "code",
   "execution_count": 1,
   "id": "bef9d7bc",
   "metadata": {
    "execution": {
     "iopub.execute_input": "2022-05-24T07:01:40.901843Z",
     "iopub.status.busy": "2022-05-24T07:01:40.901484Z",
     "iopub.status.idle": "2022-05-24T07:01:51.634061Z",
     "shell.execute_reply": "2022-05-24T07:01:51.632961Z"
    },
    "papermill": {
     "duration": 10.794597,
     "end_time": "2022-05-24T07:01:51.637375",
     "exception": false,
     "start_time": "2022-05-24T07:01:40.842778",
     "status": "completed"
    },
    "tags": []
   },
   "outputs": [],
   "source": [
    "#!pip install xgboost"
   ]
  },
  {
   "cell_type": "code",
   "execution_count": 2,
   "id": "7c2ca7c1",
   "metadata": {
    "execution": {
     "iopub.execute_input": "2022-05-24T07:01:51.748348Z",
     "iopub.status.busy": "2022-05-24T07:01:51.747256Z",
     "iopub.status.idle": "2022-05-24T07:02:00.698987Z",
     "shell.execute_reply": "2022-05-24T07:02:00.698036Z"
    },
    "papermill": {
     "duration": 9.009781,
     "end_time": "2022-05-24T07:02:00.701159",
     "exception": false,
     "start_time": "2022-05-24T07:01:51.691378",
     "status": "completed"
    },
    "tags": []
   },
   "outputs": [],
   "source": [
    "#!pip install lightgbm"
   ]
  },
  {
   "cell_type": "code",
   "execution_count": 18,
   "id": "f3ebafc1",
   "metadata": {
    "execution": {
     "iopub.execute_input": "2022-05-24T07:02:00.811827Z",
     "iopub.status.busy": "2022-05-24T07:02:00.811512Z",
     "iopub.status.idle": "2022-05-24T07:02:03.329515Z",
     "shell.execute_reply": "2022-05-24T07:02:03.328618Z"
    },
    "papermill": {
     "duration": 2.575727,
     "end_time": "2022-05-24T07:02:03.331937",
     "exception": false,
     "start_time": "2022-05-24T07:02:00.756210",
     "status": "completed"
    },
    "tags": []
   },
   "outputs": [],
   "source": [
    "#import xgboost as xgb\n",
    "import numpy as np\n",
    "import pandas as pd\n",
    "import seaborn as sns\n",
    "import matplotlib.pyplot as plt\n",
    "%matplotlib inline\n",
    "import missingno as msno\n",
    "import lightgbm as lgb\n",
    "\n",
    "# Data Missing Value Treatment\n",
    "from sklearn.impute import SimpleImputer\n",
    "from sklearn.model_selection import train_test_split\n",
    "from sklearn.linear_model import LinearRegression\n",
    "from sklearn.ensemble import RandomForestRegressor\n",
    "\n",
    "from xgboost import XGBRegressor\n",
    "from sklearn.svm import SVR\n",
    "from sklearn.pipeline import make_pipeline\n",
    "from sklearn.preprocessing import StandardScaler\n",
    "from lightgbm import LGBMRegressor\n",
    "from lightgbm import LGBMClassifier\n",
    "from sklearn.metrics import mean_squared_error,roc_auc_score,precision_score\n",
    "from math import sqrt\n",
    "from sklearn.metrics import mean_absolute_error\n",
    "from sklearn.metrics import mean_absolute_percentage_error\n",
    "from sklearn.metrics import accuracy_score\n",
    "\n",
    "from sklearn.metrics import r2_score #accuracy_score, roc_auc_score\n",
    "\n",
    "from sklearn.model_selection import GroupKFold\n",
    "from sklearn import metrics\n"
   ]
  },
  {
   "cell_type": "markdown",
   "id": "695956e6",
   "metadata": {
    "papermill": {
     "duration": 0.054701,
     "end_time": "2022-05-24T07:02:03.441010",
     "exception": false,
     "start_time": "2022-05-24T07:02:03.386309",
     "status": "completed"
    },
    "tags": []
   },
   "source": [
    "#Understanding each variable role given in Data with help of Diagram:-\n",
    "1)\tid - globally-unique time step identifier across an entire file\n",
    "\n",
    "2)\tbreath_id - globally-unique time step for breaths\n",
    "\n",
    "3)\tR :- lung attribute indicating how restricted the airway is (in cmH2O/L/S). Physically, this is the change in pressure per change in flow (air volume per time). Intuitively, one can imagine blowing up a balloon through a straw. We can change R by changing the diameter of the straw, with higher R being harder to blow. Normal airway resistance is estimated at 2 to 3 cm H2O/L/sec.\n",
    "\n",
    "4)\t C:- Lung attribute indicating how compliant the lung is (in mL/cmH2O). Physically, this is the change in volume per change in pressure. Intuitively, one can imagine the same balloon example. We can change C by changing the thickness of the balloon’s latex, with higher C having thinner latex and easier to blow. \n",
    "\n",
    "Both lung characteristics, control how the lungs would responds to the influx of air.  \n",
    "\n",
    "5)\tu_in: variable indicating the percentage of the input valve open, can be seen analogous to the volume of air let inside the lungs. The first control input (u_in )(Inspiratory Valve Green) is a continuous variable from 0 to 100 representing the percentage the inspiratory solenoid valve is open to let air into the lung (i.e., 0 is completely closed and no air is let in and 100 is completely open).\n",
    "6)\tu_out : The second control input is a binary variable representing whether the exploratory valve (Blue i.e. u_out )  is open (1) or closed (0) to let air out.\n",
    "\n",
    "7)\ttime_step - the actual time stamp.\n",
    "\n",
    "8)\tpressure - the airway pressure measured in the respiratory circuit, measured in cmH2O\n",
    "It is measured in centimeters of water pressure (cm H2O)\n"
   ]
  },
  {
   "cell_type": "markdown",
   "id": "ca721255",
   "metadata": {
    "papermill": {
     "duration": 0.05478,
     "end_time": "2022-05-24T07:02:03.549634",
     "exception": false,
     "start_time": "2022-05-24T07:02:03.494854",
     "status": "completed"
    },
    "tags": []
   },
   "source": [
    "# Importing Data set and Understanding Data"
   ]
  },
  {
   "cell_type": "code",
   "execution_count": 19,
   "id": "bcae1082",
   "metadata": {},
   "outputs": [
    {
     "data": {
      "text/plain": [
       "'C:\\\\Users\\\\rajes\\\\Desktop\\\\BYOP Group I'"
      ]
     },
     "execution_count": 19,
     "metadata": {},
     "output_type": "execute_result"
    }
   ],
   "source": [
    "import os\n",
    "os.getcwd()"
   ]
  },
  {
   "cell_type": "code",
   "execution_count": 20,
   "id": "77ad9b76",
   "metadata": {},
   "outputs": [],
   "source": [
    "path = '/Users/sameerkumar/Python Tutorial/BYOP Project'"
   ]
  },
  {
   "cell_type": "code",
   "execution_count": 21,
   "id": "4064d298",
   "metadata": {
    "execution": {
     "iopub.execute_input": "2022-05-24T07:02:03.661391Z",
     "iopub.status.busy": "2022-05-24T07:02:03.660834Z",
     "iopub.status.idle": "2022-05-24T07:02:16.497018Z",
     "shell.execute_reply": "2022-05-24T07:02:16.496369Z"
    },
    "papermill": {
     "duration": 12.895057,
     "end_time": "2022-05-24T07:02:16.499379",
     "exception": false,
     "start_time": "2022-05-24T07:02:03.604322",
     "status": "completed"
    },
    "tags": []
   },
   "outputs": [],
   "source": [
    "train = pd.read_csv(os.path.join(path, 'train.csv'))\n",
    "test = pd.read_csv(os.path.join(path, 'test.csv'))"
   ]
  },
  {
   "cell_type": "code",
   "execution_count": 22,
   "id": "16082c73",
   "metadata": {
    "execution": {
     "iopub.execute_input": "2022-05-24T07:02:16.610318Z",
     "iopub.status.busy": "2022-05-24T07:02:16.610074Z",
     "iopub.status.idle": "2022-05-24T07:02:16.625566Z",
     "shell.execute_reply": "2022-05-24T07:02:16.624687Z"
    },
    "papermill": {
     "duration": 0.072521,
     "end_time": "2022-05-24T07:02:16.627589",
     "exception": false,
     "start_time": "2022-05-24T07:02:16.555068",
     "status": "completed"
    },
    "tags": []
   },
   "outputs": [
    {
     "data": {
      "text/html": [
       "<div>\n",
       "<style scoped>\n",
       "    .dataframe tbody tr th:only-of-type {\n",
       "        vertical-align: middle;\n",
       "    }\n",
       "\n",
       "    .dataframe tbody tr th {\n",
       "        vertical-align: top;\n",
       "    }\n",
       "\n",
       "    .dataframe thead th {\n",
       "        text-align: right;\n",
       "    }\n",
       "</style>\n",
       "<table border=\"1\" class=\"dataframe\">\n",
       "  <thead>\n",
       "    <tr style=\"text-align: right;\">\n",
       "      <th></th>\n",
       "      <th>Rows</th>\n",
       "      <th>Columns</th>\n",
       "    </tr>\n",
       "  </thead>\n",
       "  <tbody>\n",
       "    <tr>\n",
       "      <th>Train Dataset</th>\n",
       "      <td>6036000</td>\n",
       "      <td>8</td>\n",
       "    </tr>\n",
       "    <tr>\n",
       "      <th>Test Dataset</th>\n",
       "      <td>4024000</td>\n",
       "      <td>7</td>\n",
       "    </tr>\n",
       "  </tbody>\n",
       "</table>\n",
       "</div>"
      ],
      "text/plain": [
       "                  Rows  Columns\n",
       "Train Dataset  6036000        8\n",
       "Test Dataset   4024000        7"
      ]
     },
     "execution_count": 22,
     "metadata": {},
     "output_type": "execute_result"
    }
   ],
   "source": [
    "pd.DataFrame({'Rows':[train.shape[0],test.shape[0]], 'Columns':[train.shape[1], test.shape[1]]},\n",
    "                  index = ['Train Dataset', 'Test Dataset'])\n"
   ]
  },
  {
   "cell_type": "code",
   "execution_count": 7,
   "id": "cbb73325",
   "metadata": {
    "execution": {
     "iopub.execute_input": "2022-05-24T07:02:16.860609Z",
     "iopub.status.busy": "2022-05-24T07:02:16.860189Z",
     "iopub.status.idle": "2022-05-24T07:02:16.872924Z",
     "shell.execute_reply": "2022-05-24T07:02:16.872074Z"
    },
    "papermill": {
     "duration": 0.071861,
     "end_time": "2022-05-24T07:02:16.875229",
     "exception": false,
     "start_time": "2022-05-24T07:02:16.803368",
     "status": "completed"
    },
    "tags": []
   },
   "outputs": [
    {
     "data": {
      "text/html": [
       "<div>\n",
       "<style scoped>\n",
       "    .dataframe tbody tr th:only-of-type {\n",
       "        vertical-align: middle;\n",
       "    }\n",
       "\n",
       "    .dataframe tbody tr th {\n",
       "        vertical-align: top;\n",
       "    }\n",
       "\n",
       "    .dataframe thead th {\n",
       "        text-align: right;\n",
       "    }\n",
       "</style>\n",
       "<table border=\"1\" class=\"dataframe\">\n",
       "  <thead>\n",
       "    <tr style=\"text-align: right;\">\n",
       "      <th></th>\n",
       "      <th>id</th>\n",
       "      <th>breath_id</th>\n",
       "      <th>R</th>\n",
       "      <th>C</th>\n",
       "      <th>time_step</th>\n",
       "      <th>u_in</th>\n",
       "      <th>u_out</th>\n",
       "      <th>pressure</th>\n",
       "    </tr>\n",
       "  </thead>\n",
       "  <tbody>\n",
       "    <tr>\n",
       "      <th>0</th>\n",
       "      <td>1</td>\n",
       "      <td>1</td>\n",
       "      <td>20</td>\n",
       "      <td>50</td>\n",
       "      <td>0.000000</td>\n",
       "      <td>0.083334</td>\n",
       "      <td>0</td>\n",
       "      <td>5.837492</td>\n",
       "    </tr>\n",
       "    <tr>\n",
       "      <th>1</th>\n",
       "      <td>2</td>\n",
       "      <td>1</td>\n",
       "      <td>20</td>\n",
       "      <td>50</td>\n",
       "      <td>0.033652</td>\n",
       "      <td>18.383041</td>\n",
       "      <td>0</td>\n",
       "      <td>5.907794</td>\n",
       "    </tr>\n",
       "    <tr>\n",
       "      <th>2</th>\n",
       "      <td>3</td>\n",
       "      <td>1</td>\n",
       "      <td>20</td>\n",
       "      <td>50</td>\n",
       "      <td>0.067514</td>\n",
       "      <td>22.509278</td>\n",
       "      <td>0</td>\n",
       "      <td>7.876254</td>\n",
       "    </tr>\n",
       "    <tr>\n",
       "      <th>3</th>\n",
       "      <td>4</td>\n",
       "      <td>1</td>\n",
       "      <td>20</td>\n",
       "      <td>50</td>\n",
       "      <td>0.101542</td>\n",
       "      <td>22.808822</td>\n",
       "      <td>0</td>\n",
       "      <td>11.742872</td>\n",
       "    </tr>\n",
       "    <tr>\n",
       "      <th>4</th>\n",
       "      <td>5</td>\n",
       "      <td>1</td>\n",
       "      <td>20</td>\n",
       "      <td>50</td>\n",
       "      <td>0.135756</td>\n",
       "      <td>25.355850</td>\n",
       "      <td>0</td>\n",
       "      <td>12.234987</td>\n",
       "    </tr>\n",
       "    <tr>\n",
       "      <th>5</th>\n",
       "      <td>6</td>\n",
       "      <td>1</td>\n",
       "      <td>20</td>\n",
       "      <td>50</td>\n",
       "      <td>0.169698</td>\n",
       "      <td>27.259866</td>\n",
       "      <td>0</td>\n",
       "      <td>12.867706</td>\n",
       "    </tr>\n",
       "    <tr>\n",
       "      <th>6</th>\n",
       "      <td>7</td>\n",
       "      <td>1</td>\n",
       "      <td>20</td>\n",
       "      <td>50</td>\n",
       "      <td>0.203708</td>\n",
       "      <td>27.127486</td>\n",
       "      <td>0</td>\n",
       "      <td>14.695562</td>\n",
       "    </tr>\n",
       "    <tr>\n",
       "      <th>7</th>\n",
       "      <td>8</td>\n",
       "      <td>1</td>\n",
       "      <td>20</td>\n",
       "      <td>50</td>\n",
       "      <td>0.237723</td>\n",
       "      <td>26.807732</td>\n",
       "      <td>0</td>\n",
       "      <td>15.890699</td>\n",
       "    </tr>\n",
       "    <tr>\n",
       "      <th>8</th>\n",
       "      <td>9</td>\n",
       "      <td>1</td>\n",
       "      <td>20</td>\n",
       "      <td>50</td>\n",
       "      <td>0.271776</td>\n",
       "      <td>27.864715</td>\n",
       "      <td>0</td>\n",
       "      <td>15.539188</td>\n",
       "    </tr>\n",
       "    <tr>\n",
       "      <th>9</th>\n",
       "      <td>10</td>\n",
       "      <td>1</td>\n",
       "      <td>20</td>\n",
       "      <td>50</td>\n",
       "      <td>0.305732</td>\n",
       "      <td>28.313036</td>\n",
       "      <td>0</td>\n",
       "      <td>15.750094</td>\n",
       "    </tr>\n",
       "  </tbody>\n",
       "</table>\n",
       "</div>"
      ],
      "text/plain": [
       "   id  breath_id   R   C  time_step       u_in  u_out   pressure\n",
       "0   1          1  20  50   0.000000   0.083334      0   5.837492\n",
       "1   2          1  20  50   0.033652  18.383041      0   5.907794\n",
       "2   3          1  20  50   0.067514  22.509278      0   7.876254\n",
       "3   4          1  20  50   0.101542  22.808822      0  11.742872\n",
       "4   5          1  20  50   0.135756  25.355850      0  12.234987\n",
       "5   6          1  20  50   0.169698  27.259866      0  12.867706\n",
       "6   7          1  20  50   0.203708  27.127486      0  14.695562\n",
       "7   8          1  20  50   0.237723  26.807732      0  15.890699\n",
       "8   9          1  20  50   0.271776  27.864715      0  15.539188\n",
       "9  10          1  20  50   0.305732  28.313036      0  15.750094"
      ]
     },
     "execution_count": 7,
     "metadata": {},
     "output_type": "execute_result"
    }
   ],
   "source": [
    "train.head(10)"
   ]
  },
  {
   "cell_type": "code",
   "execution_count": 8,
   "id": "41f508df",
   "metadata": {
    "execution": {
     "iopub.execute_input": "2022-05-24T07:02:16.990906Z",
     "iopub.status.busy": "2022-05-24T07:02:16.990257Z",
     "iopub.status.idle": "2022-05-24T07:02:17.002968Z",
     "shell.execute_reply": "2022-05-24T07:02:17.001930Z"
    },
    "papermill": {
     "duration": 0.072787,
     "end_time": "2022-05-24T07:02:17.005085",
     "exception": false,
     "start_time": "2022-05-24T07:02:16.932298",
     "status": "completed"
    },
    "tags": []
   },
   "outputs": [
    {
     "data": {
      "text/html": [
       "<div>\n",
       "<style scoped>\n",
       "    .dataframe tbody tr th:only-of-type {\n",
       "        vertical-align: middle;\n",
       "    }\n",
       "\n",
       "    .dataframe tbody tr th {\n",
       "        vertical-align: top;\n",
       "    }\n",
       "\n",
       "    .dataframe thead th {\n",
       "        text-align: right;\n",
       "    }\n",
       "</style>\n",
       "<table border=\"1\" class=\"dataframe\">\n",
       "  <thead>\n",
       "    <tr style=\"text-align: right;\">\n",
       "      <th></th>\n",
       "      <th>id</th>\n",
       "      <th>breath_id</th>\n",
       "      <th>R</th>\n",
       "      <th>C</th>\n",
       "      <th>time_step</th>\n",
       "      <th>u_in</th>\n",
       "      <th>u_out</th>\n",
       "      <th>pressure</th>\n",
       "    </tr>\n",
       "  </thead>\n",
       "  <tbody>\n",
       "    <tr>\n",
       "      <th>6035990</th>\n",
       "      <td>6035991</td>\n",
       "      <td>125749</td>\n",
       "      <td>50</td>\n",
       "      <td>10</td>\n",
       "      <td>2.337683</td>\n",
       "      <td>1.367263</td>\n",
       "      <td>1</td>\n",
       "      <td>4.009636</td>\n",
       "    </tr>\n",
       "    <tr>\n",
       "      <th>6035991</th>\n",
       "      <td>6035992</td>\n",
       "      <td>125749</td>\n",
       "      <td>50</td>\n",
       "      <td>10</td>\n",
       "      <td>2.371120</td>\n",
       "      <td>1.362261</td>\n",
       "      <td>1</td>\n",
       "      <td>4.009636</td>\n",
       "    </tr>\n",
       "    <tr>\n",
       "      <th>6035992</th>\n",
       "      <td>6035993</td>\n",
       "      <td>125749</td>\n",
       "      <td>50</td>\n",
       "      <td>10</td>\n",
       "      <td>2.404458</td>\n",
       "      <td>1.357586</td>\n",
       "      <td>1</td>\n",
       "      <td>4.009636</td>\n",
       "    </tr>\n",
       "    <tr>\n",
       "      <th>6035993</th>\n",
       "      <td>6035994</td>\n",
       "      <td>125749</td>\n",
       "      <td>50</td>\n",
       "      <td>10</td>\n",
       "      <td>2.437786</td>\n",
       "      <td>1.353205</td>\n",
       "      <td>1</td>\n",
       "      <td>4.009636</td>\n",
       "    </tr>\n",
       "    <tr>\n",
       "      <th>6035994</th>\n",
       "      <td>6035995</td>\n",
       "      <td>125749</td>\n",
       "      <td>50</td>\n",
       "      <td>10</td>\n",
       "      <td>2.471192</td>\n",
       "      <td>1.420711</td>\n",
       "      <td>1</td>\n",
       "      <td>3.939334</td>\n",
       "    </tr>\n",
       "    <tr>\n",
       "      <th>6035995</th>\n",
       "      <td>6035996</td>\n",
       "      <td>125749</td>\n",
       "      <td>50</td>\n",
       "      <td>10</td>\n",
       "      <td>2.504603</td>\n",
       "      <td>1.489714</td>\n",
       "      <td>1</td>\n",
       "      <td>3.869032</td>\n",
       "    </tr>\n",
       "    <tr>\n",
       "      <th>6035996</th>\n",
       "      <td>6035997</td>\n",
       "      <td>125749</td>\n",
       "      <td>50</td>\n",
       "      <td>10</td>\n",
       "      <td>2.537961</td>\n",
       "      <td>1.488497</td>\n",
       "      <td>1</td>\n",
       "      <td>3.869032</td>\n",
       "    </tr>\n",
       "    <tr>\n",
       "      <th>6035997</th>\n",
       "      <td>6035998</td>\n",
       "      <td>125749</td>\n",
       "      <td>50</td>\n",
       "      <td>10</td>\n",
       "      <td>2.571408</td>\n",
       "      <td>1.558978</td>\n",
       "      <td>1</td>\n",
       "      <td>3.798729</td>\n",
       "    </tr>\n",
       "    <tr>\n",
       "      <th>6035998</th>\n",
       "      <td>6035999</td>\n",
       "      <td>125749</td>\n",
       "      <td>50</td>\n",
       "      <td>10</td>\n",
       "      <td>2.604744</td>\n",
       "      <td>1.272663</td>\n",
       "      <td>1</td>\n",
       "      <td>4.079938</td>\n",
       "    </tr>\n",
       "    <tr>\n",
       "      <th>6035999</th>\n",
       "      <td>6036000</td>\n",
       "      <td>125749</td>\n",
       "      <td>50</td>\n",
       "      <td>10</td>\n",
       "      <td>2.638017</td>\n",
       "      <td>1.482739</td>\n",
       "      <td>1</td>\n",
       "      <td>3.869032</td>\n",
       "    </tr>\n",
       "  </tbody>\n",
       "</table>\n",
       "</div>"
      ],
      "text/plain": [
       "              id  breath_id   R   C  time_step      u_in  u_out  pressure\n",
       "6035990  6035991     125749  50  10   2.337683  1.367263      1  4.009636\n",
       "6035991  6035992     125749  50  10   2.371120  1.362261      1  4.009636\n",
       "6035992  6035993     125749  50  10   2.404458  1.357586      1  4.009636\n",
       "6035993  6035994     125749  50  10   2.437786  1.353205      1  4.009636\n",
       "6035994  6035995     125749  50  10   2.471192  1.420711      1  3.939334\n",
       "6035995  6035996     125749  50  10   2.504603  1.489714      1  3.869032\n",
       "6035996  6035997     125749  50  10   2.537961  1.488497      1  3.869032\n",
       "6035997  6035998     125749  50  10   2.571408  1.558978      1  3.798729\n",
       "6035998  6035999     125749  50  10   2.604744  1.272663      1  4.079938\n",
       "6035999  6036000     125749  50  10   2.638017  1.482739      1  3.869032"
      ]
     },
     "execution_count": 8,
     "metadata": {},
     "output_type": "execute_result"
    }
   ],
   "source": [
    "train.tail(10)"
   ]
  },
  {
   "cell_type": "code",
   "execution_count": 9,
   "id": "5d43707d",
   "metadata": {
    "execution": {
     "iopub.execute_input": "2022-05-24T07:02:17.120057Z",
     "iopub.status.busy": "2022-05-24T07:02:17.119435Z",
     "iopub.status.idle": "2022-05-24T07:02:18.733963Z",
     "shell.execute_reply": "2022-05-24T07:02:18.733103Z"
    },
    "papermill": {
     "duration": 1.673836,
     "end_time": "2022-05-24T07:02:18.736334",
     "exception": false,
     "start_time": "2022-05-24T07:02:17.062498",
     "status": "completed"
    },
    "tags": []
   },
   "outputs": [
    {
     "data": {
      "text/html": [
       "<div>\n",
       "<style scoped>\n",
       "    .dataframe tbody tr th:only-of-type {\n",
       "        vertical-align: middle;\n",
       "    }\n",
       "\n",
       "    .dataframe tbody tr th {\n",
       "        vertical-align: top;\n",
       "    }\n",
       "\n",
       "    .dataframe thead th {\n",
       "        text-align: right;\n",
       "    }\n",
       "</style>\n",
       "<table border=\"1\" class=\"dataframe\">\n",
       "  <thead>\n",
       "    <tr style=\"text-align: right;\">\n",
       "      <th></th>\n",
       "      <th>id</th>\n",
       "      <th>breath_id</th>\n",
       "      <th>R</th>\n",
       "      <th>C</th>\n",
       "      <th>time_step</th>\n",
       "      <th>u_in</th>\n",
       "      <th>u_out</th>\n",
       "      <th>pressure</th>\n",
       "    </tr>\n",
       "  </thead>\n",
       "  <tbody>\n",
       "    <tr>\n",
       "      <th>count</th>\n",
       "      <td>6.036000e+06</td>\n",
       "      <td>6.036000e+06</td>\n",
       "      <td>6.036000e+06</td>\n",
       "      <td>6.036000e+06</td>\n",
       "      <td>6.036000e+06</td>\n",
       "      <td>6.036000e+06</td>\n",
       "      <td>6.036000e+06</td>\n",
       "      <td>6.036000e+06</td>\n",
       "    </tr>\n",
       "    <tr>\n",
       "      <th>mean</th>\n",
       "      <td>3.018000e+06</td>\n",
       "      <td>6.283886e+04</td>\n",
       "      <td>2.703618e+01</td>\n",
       "      <td>2.608072e+01</td>\n",
       "      <td>1.307225e+00</td>\n",
       "      <td>7.321615e+00</td>\n",
       "      <td>6.204493e-01</td>\n",
       "      <td>1.122041e+01</td>\n",
       "    </tr>\n",
       "    <tr>\n",
       "      <th>std</th>\n",
       "      <td>1.742443e+06</td>\n",
       "      <td>3.633526e+04</td>\n",
       "      <td>1.959549e+01</td>\n",
       "      <td>1.715231e+01</td>\n",
       "      <td>7.659778e-01</td>\n",
       "      <td>1.343470e+01</td>\n",
       "      <td>4.852752e-01</td>\n",
       "      <td>8.109703e+00</td>\n",
       "    </tr>\n",
       "    <tr>\n",
       "      <th>min</th>\n",
       "      <td>1.000000e+00</td>\n",
       "      <td>1.000000e+00</td>\n",
       "      <td>5.000000e+00</td>\n",
       "      <td>1.000000e+01</td>\n",
       "      <td>0.000000e+00</td>\n",
       "      <td>0.000000e+00</td>\n",
       "      <td>0.000000e+00</td>\n",
       "      <td>-1.895744e+00</td>\n",
       "    </tr>\n",
       "    <tr>\n",
       "      <th>25%</th>\n",
       "      <td>1.509001e+06</td>\n",
       "      <td>3.137700e+04</td>\n",
       "      <td>5.000000e+00</td>\n",
       "      <td>1.000000e+01</td>\n",
       "      <td>6.428995e-01</td>\n",
       "      <td>3.936623e-01</td>\n",
       "      <td>0.000000e+00</td>\n",
       "      <td>6.329607e+00</td>\n",
       "    </tr>\n",
       "    <tr>\n",
       "      <th>50%</th>\n",
       "      <td>3.018000e+06</td>\n",
       "      <td>6.276550e+04</td>\n",
       "      <td>2.000000e+01</td>\n",
       "      <td>2.000000e+01</td>\n",
       "      <td>1.308123e+00</td>\n",
       "      <td>4.386146e+00</td>\n",
       "      <td>1.000000e+00</td>\n",
       "      <td>7.032628e+00</td>\n",
       "    </tr>\n",
       "    <tr>\n",
       "      <th>75%</th>\n",
       "      <td>4.527000e+06</td>\n",
       "      <td>9.430100e+04</td>\n",
       "      <td>5.000000e+01</td>\n",
       "      <td>5.000000e+01</td>\n",
       "      <td>1.965502e+00</td>\n",
       "      <td>4.983895e+00</td>\n",
       "      <td>1.000000e+00</td>\n",
       "      <td>1.364103e+01</td>\n",
       "    </tr>\n",
       "    <tr>\n",
       "      <th>max</th>\n",
       "      <td>6.036000e+06</td>\n",
       "      <td>1.257490e+05</td>\n",
       "      <td>5.000000e+01</td>\n",
       "      <td>5.000000e+01</td>\n",
       "      <td>2.937238e+00</td>\n",
       "      <td>1.000000e+02</td>\n",
       "      <td>1.000000e+00</td>\n",
       "      <td>6.482099e+01</td>\n",
       "    </tr>\n",
       "  </tbody>\n",
       "</table>\n",
       "</div>"
      ],
      "text/plain": [
       "                 id     breath_id             R             C     time_step  \\\n",
       "count  6.036000e+06  6.036000e+06  6.036000e+06  6.036000e+06  6.036000e+06   \n",
       "mean   3.018000e+06  6.283886e+04  2.703618e+01  2.608072e+01  1.307225e+00   \n",
       "std    1.742443e+06  3.633526e+04  1.959549e+01  1.715231e+01  7.659778e-01   \n",
       "min    1.000000e+00  1.000000e+00  5.000000e+00  1.000000e+01  0.000000e+00   \n",
       "25%    1.509001e+06  3.137700e+04  5.000000e+00  1.000000e+01  6.428995e-01   \n",
       "50%    3.018000e+06  6.276550e+04  2.000000e+01  2.000000e+01  1.308123e+00   \n",
       "75%    4.527000e+06  9.430100e+04  5.000000e+01  5.000000e+01  1.965502e+00   \n",
       "max    6.036000e+06  1.257490e+05  5.000000e+01  5.000000e+01  2.937238e+00   \n",
       "\n",
       "               u_in         u_out      pressure  \n",
       "count  6.036000e+06  6.036000e+06  6.036000e+06  \n",
       "mean   7.321615e+00  6.204493e-01  1.122041e+01  \n",
       "std    1.343470e+01  4.852752e-01  8.109703e+00  \n",
       "min    0.000000e+00  0.000000e+00 -1.895744e+00  \n",
       "25%    3.936623e-01  0.000000e+00  6.329607e+00  \n",
       "50%    4.386146e+00  1.000000e+00  7.032628e+00  \n",
       "75%    4.983895e+00  1.000000e+00  1.364103e+01  \n",
       "max    1.000000e+02  1.000000e+00  6.482099e+01  "
      ]
     },
     "execution_count": 9,
     "metadata": {},
     "output_type": "execute_result"
    }
   ],
   "source": [
    "train.describe()"
   ]
  },
  {
   "cell_type": "code",
   "execution_count": 10,
   "id": "5bc1869c",
   "metadata": {
    "execution": {
     "iopub.execute_input": "2022-05-24T07:02:18.854111Z",
     "iopub.status.busy": "2022-05-24T07:02:18.853839Z",
     "iopub.status.idle": "2022-05-24T07:02:18.867192Z",
     "shell.execute_reply": "2022-05-24T07:02:18.866353Z"
    },
    "papermill": {
     "duration": 0.075247,
     "end_time": "2022-05-24T07:02:18.869533",
     "exception": false,
     "start_time": "2022-05-24T07:02:18.794286",
     "status": "completed"
    },
    "tags": []
   },
   "outputs": [
    {
     "name": "stdout",
     "output_type": "stream",
     "text": [
      "<class 'pandas.core.frame.DataFrame'>\n",
      "RangeIndex: 6036000 entries, 0 to 6035999\n",
      "Data columns (total 8 columns):\n",
      " #   Column     Dtype  \n",
      "---  ------     -----  \n",
      " 0   id         int64  \n",
      " 1   breath_id  int64  \n",
      " 2   R          int64  \n",
      " 3   C          int64  \n",
      " 4   time_step  float64\n",
      " 5   u_in       float64\n",
      " 6   u_out      int64  \n",
      " 7   pressure   float64\n",
      "dtypes: float64(3), int64(5)\n",
      "memory usage: 368.4 MB\n"
     ]
    }
   ],
   "source": [
    "train.info()"
   ]
  },
  {
   "cell_type": "code",
   "execution_count": 11,
   "id": "b6c54a36",
   "metadata": {
    "execution": {
     "iopub.execute_input": "2022-05-24T07:02:18.984702Z",
     "iopub.status.busy": "2022-05-24T07:02:18.984385Z",
     "iopub.status.idle": "2022-05-24T07:02:18.996419Z",
     "shell.execute_reply": "2022-05-24T07:02:18.995591Z"
    },
    "papermill": {
     "duration": 0.071849,
     "end_time": "2022-05-24T07:02:18.998394",
     "exception": false,
     "start_time": "2022-05-24T07:02:18.926545",
     "status": "completed"
    },
    "tags": []
   },
   "outputs": [
    {
     "data": {
      "text/html": [
       "<div>\n",
       "<style scoped>\n",
       "    .dataframe tbody tr th:only-of-type {\n",
       "        vertical-align: middle;\n",
       "    }\n",
       "\n",
       "    .dataframe tbody tr th {\n",
       "        vertical-align: top;\n",
       "    }\n",
       "\n",
       "    .dataframe thead th {\n",
       "        text-align: right;\n",
       "    }\n",
       "</style>\n",
       "<table border=\"1\" class=\"dataframe\">\n",
       "  <thead>\n",
       "    <tr style=\"text-align: right;\">\n",
       "      <th></th>\n",
       "      <th>id</th>\n",
       "      <th>breath_id</th>\n",
       "      <th>R</th>\n",
       "      <th>C</th>\n",
       "      <th>time_step</th>\n",
       "      <th>u_in</th>\n",
       "      <th>u_out</th>\n",
       "    </tr>\n",
       "  </thead>\n",
       "  <tbody>\n",
       "    <tr>\n",
       "      <th>0</th>\n",
       "      <td>1</td>\n",
       "      <td>0</td>\n",
       "      <td>5</td>\n",
       "      <td>20</td>\n",
       "      <td>0.000000</td>\n",
       "      <td>0.000000</td>\n",
       "      <td>0</td>\n",
       "    </tr>\n",
       "    <tr>\n",
       "      <th>1</th>\n",
       "      <td>2</td>\n",
       "      <td>0</td>\n",
       "      <td>5</td>\n",
       "      <td>20</td>\n",
       "      <td>0.031904</td>\n",
       "      <td>7.515046</td>\n",
       "      <td>0</td>\n",
       "    </tr>\n",
       "    <tr>\n",
       "      <th>2</th>\n",
       "      <td>3</td>\n",
       "      <td>0</td>\n",
       "      <td>5</td>\n",
       "      <td>20</td>\n",
       "      <td>0.063827</td>\n",
       "      <td>14.651675</td>\n",
       "      <td>0</td>\n",
       "    </tr>\n",
       "    <tr>\n",
       "      <th>3</th>\n",
       "      <td>4</td>\n",
       "      <td>0</td>\n",
       "      <td>5</td>\n",
       "      <td>20</td>\n",
       "      <td>0.095751</td>\n",
       "      <td>21.230610</td>\n",
       "      <td>0</td>\n",
       "    </tr>\n",
       "    <tr>\n",
       "      <th>4</th>\n",
       "      <td>5</td>\n",
       "      <td>0</td>\n",
       "      <td>5</td>\n",
       "      <td>20</td>\n",
       "      <td>0.127644</td>\n",
       "      <td>26.320956</td>\n",
       "      <td>0</td>\n",
       "    </tr>\n",
       "    <tr>\n",
       "      <th>5</th>\n",
       "      <td>6</td>\n",
       "      <td>0</td>\n",
       "      <td>5</td>\n",
       "      <td>20</td>\n",
       "      <td>0.159557</td>\n",
       "      <td>30.486938</td>\n",
       "      <td>0</td>\n",
       "    </tr>\n",
       "    <tr>\n",
       "      <th>6</th>\n",
       "      <td>7</td>\n",
       "      <td>0</td>\n",
       "      <td>5</td>\n",
       "      <td>20</td>\n",
       "      <td>0.191471</td>\n",
       "      <td>33.545950</td>\n",
       "      <td>0</td>\n",
       "    </tr>\n",
       "    <tr>\n",
       "      <th>7</th>\n",
       "      <td>8</td>\n",
       "      <td>0</td>\n",
       "      <td>5</td>\n",
       "      <td>20</td>\n",
       "      <td>0.223402</td>\n",
       "      <td>35.717600</td>\n",
       "      <td>0</td>\n",
       "    </tr>\n",
       "    <tr>\n",
       "      <th>8</th>\n",
       "      <td>9</td>\n",
       "      <td>0</td>\n",
       "      <td>5</td>\n",
       "      <td>20</td>\n",
       "      <td>0.255337</td>\n",
       "      <td>36.971061</td>\n",
       "      <td>0</td>\n",
       "    </tr>\n",
       "    <tr>\n",
       "      <th>9</th>\n",
       "      <td>10</td>\n",
       "      <td>0</td>\n",
       "      <td>5</td>\n",
       "      <td>20</td>\n",
       "      <td>0.287230</td>\n",
       "      <td>37.542219</td>\n",
       "      <td>0</td>\n",
       "    </tr>\n",
       "  </tbody>\n",
       "</table>\n",
       "</div>"
      ],
      "text/plain": [
       "   id  breath_id  R   C  time_step       u_in  u_out\n",
       "0   1          0  5  20   0.000000   0.000000      0\n",
       "1   2          0  5  20   0.031904   7.515046      0\n",
       "2   3          0  5  20   0.063827  14.651675      0\n",
       "3   4          0  5  20   0.095751  21.230610      0\n",
       "4   5          0  5  20   0.127644  26.320956      0\n",
       "5   6          0  5  20   0.159557  30.486938      0\n",
       "6   7          0  5  20   0.191471  33.545950      0\n",
       "7   8          0  5  20   0.223402  35.717600      0\n",
       "8   9          0  5  20   0.255337  36.971061      0\n",
       "9  10          0  5  20   0.287230  37.542219      0"
      ]
     },
     "execution_count": 11,
     "metadata": {},
     "output_type": "execute_result"
    }
   ],
   "source": [
    "test.head(10)"
   ]
  },
  {
   "cell_type": "markdown",
   "id": "768a2b51",
   "metadata": {
    "papermill": {
     "duration": 0.059301,
     "end_time": "2022-05-24T07:02:19.116104",
     "exception": false,
     "start_time": "2022-05-24T07:02:19.056803",
     "status": "completed"
    },
    "tags": []
   },
   "source": [
    "# Finding Missing Value"
   ]
  },
  {
   "cell_type": "code",
   "execution_count": 12,
   "id": "dfa6418c",
   "metadata": {
    "execution": {
     "iopub.execute_input": "2022-05-24T07:02:19.234794Z",
     "iopub.status.busy": "2022-05-24T07:02:19.234493Z",
     "iopub.status.idle": "2022-05-24T07:02:19.361112Z",
     "shell.execute_reply": "2022-05-24T07:02:19.360349Z"
    },
    "papermill": {
     "duration": 0.186982,
     "end_time": "2022-05-24T07:02:19.363052",
     "exception": false,
     "start_time": "2022-05-24T07:02:19.176070",
     "status": "completed"
    },
    "tags": []
   },
   "outputs": [
    {
     "data": {
      "text/plain": [
       "id           0\n",
       "breath_id    0\n",
       "R            0\n",
       "C            0\n",
       "time_step    0\n",
       "u_in         0\n",
       "u_out        0\n",
       "dtype: int64"
      ]
     },
     "execution_count": 12,
     "metadata": {},
     "output_type": "execute_result"
    }
   ],
   "source": [
    "train.isnull().sum()\n",
    "test.isnull().sum()"
   ]
  },
  {
   "cell_type": "code",
   "execution_count": 13,
   "id": "cb607700",
   "metadata": {
    "execution": {
     "iopub.execute_input": "2022-05-24T07:02:19.478984Z",
     "iopub.status.busy": "2022-05-24T07:02:19.478702Z",
     "iopub.status.idle": "2022-05-24T07:02:29.489253Z",
     "shell.execute_reply": "2022-05-24T07:02:29.487462Z"
    },
    "papermill": {
     "duration": 10.071875,
     "end_time": "2022-05-24T07:02:29.492389",
     "exception": false,
     "start_time": "2022-05-24T07:02:19.420514",
     "status": "completed"
    },
    "tags": []
   },
   "outputs": [
    {
     "name": "stdout",
     "output_type": "stream",
     "text": [
      "Requirement already satisfied: missingno in c:\\users\\rajes\\anaconda3\\lib\\site-packages (0.5.1)\n",
      "Requirement already satisfied: numpy in c:\\users\\rajes\\anaconda3\\lib\\site-packages (from missingno) (1.20.1)\n",
      "Requirement already satisfied: matplotlib in c:\\users\\rajes\\anaconda3\\lib\\site-packages (from missingno) (3.3.4)\n",
      "Requirement already satisfied: seaborn in c:\\users\\rajes\\anaconda3\\lib\\site-packages (from missingno) (0.11.1)\n",
      "Requirement already satisfied: scipy in c:\\users\\rajes\\anaconda3\\lib\\site-packages (from missingno) (1.6.2)\n",
      "Requirement already satisfied: python-dateutil>=2.1 in c:\\users\\rajes\\anaconda3\\lib\\site-packages (from matplotlib->missingno) (2.8.1)\n",
      "Requirement already satisfied: pillow>=6.2.0 in c:\\users\\rajes\\anaconda3\\lib\\site-packages (from matplotlib->missingno) (8.2.0)\n",
      "Requirement already satisfied: kiwisolver>=1.0.1 in c:\\users\\rajes\\anaconda3\\lib\\site-packages (from matplotlib->missingno) (1.3.1)\n",
      "Requirement already satisfied: pyparsing!=2.0.4,!=2.1.2,!=2.1.6,>=2.0.3 in c:\\users\\rajes\\anaconda3\\lib\\site-packages (from matplotlib->missingno) (2.4.7)\n",
      "Requirement already satisfied: cycler>=0.10 in c:\\users\\rajes\\anaconda3\\lib\\site-packages (from matplotlib->missingno) (0.10.0)\n",
      "Requirement already satisfied: six in c:\\users\\rajes\\anaconda3\\lib\\site-packages (from cycler>=0.10->matplotlib->missingno) (1.15.0)\n",
      "Requirement already satisfied: pandas>=0.23 in c:\\users\\rajes\\anaconda3\\lib\\site-packages (from seaborn->missingno) (1.2.4)\n",
      "Requirement already satisfied: pytz>=2017.3 in c:\\users\\rajes\\anaconda3\\lib\\site-packages (from pandas>=0.23->seaborn->missingno) (2021.1)\n",
      "Note: you may need to restart the kernel to use updated packages.\n"
     ]
    }
   ],
   "source": [
    "pip install missingno"
   ]
  },
  {
   "cell_type": "code",
   "execution_count": 14,
   "id": "02d588d9",
   "metadata": {
    "execution": {
     "iopub.execute_input": "2022-05-24T07:02:29.618931Z",
     "iopub.status.busy": "2022-05-24T07:02:29.617907Z",
     "iopub.status.idle": "2022-05-24T07:02:29.624684Z",
     "shell.execute_reply": "2022-05-24T07:02:29.623691Z"
    },
    "papermill": {
     "duration": 0.071254,
     "end_time": "2022-05-24T07:02:29.626723",
     "exception": false,
     "start_time": "2022-05-24T07:02:29.555469",
     "status": "completed"
    },
    "tags": []
   },
   "outputs": [],
   "source": [
    "import missingno as msno"
   ]
  },
  {
   "cell_type": "code",
   "execution_count": 15,
   "id": "51b141ef",
   "metadata": {
    "execution": {
     "iopub.execute_input": "2022-05-24T07:02:29.747417Z",
     "iopub.status.busy": "2022-05-24T07:02:29.747136Z",
     "iopub.status.idle": "2022-05-24T07:02:30.819182Z",
     "shell.execute_reply": "2022-05-24T07:02:30.818148Z"
    },
    "papermill": {
     "duration": 1.135944,
     "end_time": "2022-05-24T07:02:30.822467",
     "exception": false,
     "start_time": "2022-05-24T07:02:29.686523",
     "status": "completed"
    },
    "tags": []
   },
   "outputs": [
    {
     "data": {
      "image/png": "[encoded data removed]",
      "text/plain": [
       "<Figure size 1440x216 with 3 Axes>"
      ]
     },
     "metadata": {
      "needs_background": "light"
     },
     "output_type": "display_data"
    }
   ],
   "source": [
    "msno.bar(train, figsize = (20,3), fontsize = 12)\n",
    "plt.grid();"
   ]
  },
  {
   "cell_type": "code",
   "execution_count": 16,
   "id": "0472308d",
   "metadata": {
    "execution": {
     "iopub.execute_input": "2022-05-24T07:02:30.950829Z",
     "iopub.status.busy": "2022-05-24T07:02:30.949862Z",
     "iopub.status.idle": "2022-05-24T07:02:31.593525Z",
     "shell.execute_reply": "2022-05-24T07:02:31.592425Z"
    },
    "papermill": {
     "duration": 0.706909,
     "end_time": "2022-05-24T07:02:31.595800",
     "exception": false,
     "start_time": "2022-05-24T07:02:30.888891",
     "status": "completed"
    },
    "tags": []
   },
   "outputs": [
    {
     "data": {
      "image/png": "[encoded data removed]",
      "text/plain": [
       "<Figure size 1440x216 with 3 Axes>"
      ]
     },
     "metadata": {
      "needs_background": "light"
     },
     "output_type": "display_data"
    }
   ],
   "source": [
    "msno.bar(test, figsize=(20,3),fontsize=12)\n",
    "plt.grid();"
   ]
  },
  {
   "cell_type": "markdown",
   "id": "18aee4dc",
   "metadata": {
    "papermill": {
     "duration": 0.061124,
     "end_time": "2022-05-24T07:02:31.719468",
     "exception": false,
     "start_time": "2022-05-24T07:02:31.658344",
     "status": "completed"
    },
    "tags": []
   },
   "source": [
    "# In data no missing values are been observed"
   ]
  },
  {
   "cell_type": "markdown",
   "id": "e3e0508e",
   "metadata": {
    "papermill": {
     "duration": 0.060387,
     "end_time": "2022-05-24T07:02:31.841359",
     "exception": false,
     "start_time": "2022-05-24T07:02:31.780972",
     "status": "completed"
    },
    "tags": []
   },
   "source": [
    "Duplicate Records in both data set"
   ]
  },
  {
   "cell_type": "code",
   "execution_count": 25,
   "id": "c3ae6903",
   "metadata": {
    "execution": {
     "iopub.execute_input": "2022-05-24T07:02:31.964294Z",
     "iopub.status.busy": "2022-05-24T07:02:31.963735Z",
     "iopub.status.idle": "2022-05-24T07:02:39.605931Z",
     "shell.execute_reply": "2022-05-24T07:02:39.605064Z"
    },
    "papermill": {
     "duration": 7.706398,
     "end_time": "2022-05-24T07:02:39.608296",
     "exception": false,
     "start_time": "2022-05-24T07:02:31.901898",
     "status": "completed"
    },
    "tags": []
   },
   "outputs": [
    {
     "data": {
      "text/plain": [
       "0"
      ]
     },
     "execution_count": 25,
     "metadata": {},
     "output_type": "execute_result"
    }
   ],
   "source": [
    "train.duplicated().sum()"
   ]
  },
  {
   "cell_type": "code",
   "execution_count": 26,
   "id": "956769e7",
   "metadata": {},
   "outputs": [
    {
     "data": {
      "text/plain": [
       "0"
      ]
     },
     "execution_count": 26,
     "metadata": {},
     "output_type": "execute_result"
    }
   ],
   "source": [
    "test.duplicated().sum()"
   ]
  },
  {
   "cell_type": "code",
   "execution_count": 27,
   "id": "753a008d",
   "metadata": {},
   "outputs": [
    {
     "data": {
      "text/plain": [
       "False    6036000\n",
       "dtype: int64"
      ]
     },
     "execution_count": 27,
     "metadata": {},
     "output_type": "execute_result"
    }
   ],
   "source": [
    "train.duplicated().value_counts()"
   ]
  },
  {
   "cell_type": "markdown",
   "id": "85240c68",
   "metadata": {
    "papermill": {
     "duration": 0.060885,
     "end_time": "2022-05-24T07:02:39.731231",
     "exception": false,
     "start_time": "2022-05-24T07:02:39.670346",
     "status": "completed"
    },
    "tags": []
   },
   "source": [
    "# Exploratory Data Analysis"
   ]
  },
  {
   "cell_type": "code",
   "execution_count": 18,
   "id": "fc4a6062",
   "metadata": {
    "execution": {
     "iopub.execute_input": "2022-05-24T07:02:39.855830Z",
     "iopub.status.busy": "2022-05-24T07:02:39.855557Z",
     "iopub.status.idle": "2022-05-24T07:02:41.445925Z",
     "shell.execute_reply": "2022-05-24T07:02:41.445034Z"
    },
    "papermill": {
     "duration": 1.656066,
     "end_time": "2022-05-24T07:02:41.448503",
     "exception": false,
     "start_time": "2022-05-24T07:02:39.792437",
     "status": "completed"
    },
    "tags": []
   },
   "outputs": [
    {
     "data": {
      "text/plain": [
       "0.000000    75450\n",
       "0.031934       46\n",
       "0.031935       44\n",
       "0.031920       43\n",
       "0.031938       43\n",
       "            ...  \n",
       "1.252204        1\n",
       "2.262712        1\n",
       "2.237243        1\n",
       "2.252335        1\n",
       "0.289541        1\n",
       "Name: time_step, Length: 3767571, dtype: int64"
      ]
     },
     "execution_count": 18,
     "metadata": {},
     "output_type": "execute_result"
    }
   ],
   "source": [
    "train['time_step'].value_counts()"
   ]
  },
  {
   "cell_type": "code",
   "execution_count": 19,
   "id": "d7c8dfe1",
   "metadata": {
    "execution": {
     "iopub.execute_input": "2022-05-24T07:02:41.574147Z",
     "iopub.status.busy": "2022-05-24T07:02:41.573845Z",
     "iopub.status.idle": "2022-05-24T07:02:43.001593Z",
     "shell.execute_reply": "2022-05-24T07:02:43.000645Z"
    },
    "papermill": {
     "duration": 1.492882,
     "end_time": "2022-05-24T07:02:43.003696",
     "exception": false,
     "start_time": "2022-05-24T07:02:41.510814",
     "status": "completed"
    },
    "tags": []
   },
   "outputs": [
    {
     "data": {
      "text/plain": [
       "0.000000      1432253\n",
       "100.000000      21739\n",
       "1.277707           76\n",
       "1.494747           70\n",
       "0.058727           67\n",
       "               ...   \n",
       "2.798517            1\n",
       "4.527380            1\n",
       "24.749642           1\n",
       "4.035597            1\n",
       "4.968208            1\n",
       "Name: u_in, Length: 4020300, dtype: int64"
      ]
     },
     "execution_count": 19,
     "metadata": {},
     "output_type": "execute_result"
    }
   ],
   "source": [
    "train['u_in'].value_counts()"
   ]
  },
  {
   "cell_type": "code",
   "execution_count": 20,
   "id": "41b88c86",
   "metadata": {
    "execution": {
     "iopub.execute_input": "2022-05-24T07:02:43.130404Z",
     "iopub.status.busy": "2022-05-24T07:02:43.130109Z",
     "iopub.status.idle": "2022-05-24T07:02:43.168089Z",
     "shell.execute_reply": "2022-05-24T07:02:43.167511Z"
    },
    "papermill": {
     "duration": 0.103324,
     "end_time": "2022-05-24T07:02:43.169934",
     "exception": false,
     "start_time": "2022-05-24T07:02:43.066610",
     "status": "completed"
    },
    "tags": []
   },
   "outputs": [
    {
     "data": {
      "text/plain": [
       "1    3745032\n",
       "0    2290968\n",
       "Name: u_out, dtype: int64"
      ]
     },
     "execution_count": 20,
     "metadata": {},
     "output_type": "execute_result"
    }
   ],
   "source": [
    "train['u_out'].value_counts()"
   ]
  },
  {
   "cell_type": "code",
   "execution_count": 21,
   "id": "c77843e9",
   "metadata": {
    "execution": {
     "iopub.execute_input": "2022-05-24T07:02:43.297256Z",
     "iopub.status.busy": "2022-05-24T07:02:43.296935Z",
     "iopub.status.idle": "2022-05-24T07:02:43.384025Z",
     "shell.execute_reply": "2022-05-24T07:02:43.382969Z"
    },
    "papermill": {
     "duration": 0.153345,
     "end_time": "2022-05-24T07:02:43.386101",
     "exception": false,
     "start_time": "2022-05-24T07:02:43.232756",
     "status": "completed"
    },
    "tags": []
   },
   "outputs": [
    {
     "data": {
      "text/plain": [
       "16392     80\n",
       "113328    80\n",
       "72363     80\n",
       "96935     80\n",
       "92837     80\n",
       "          ..\n",
       "71011     80\n",
       "62815     80\n",
       "46423     80\n",
       "38227     80\n",
       "4094      80\n",
       "Name: breath_id, Length: 75450, dtype: int64"
      ]
     },
     "execution_count": 21,
     "metadata": {},
     "output_type": "execute_result"
    }
   ],
   "source": [
    "train['breath_id'].value_counts()"
   ]
  },
  {
   "cell_type": "code",
   "execution_count": 23,
   "id": "1219a7f1",
   "metadata": {
    "execution": {
     "iopub.execute_input": "2022-05-24T07:02:43.740838Z",
     "iopub.status.busy": "2022-05-24T07:02:43.740302Z",
     "iopub.status.idle": "2022-05-24T07:02:43.777635Z",
     "shell.execute_reply": "2022-05-24T07:02:43.776721Z"
    },
    "papermill": {
     "duration": 0.104218,
     "end_time": "2022-05-24T07:02:43.779740",
     "exception": false,
     "start_time": "2022-05-24T07:02:43.675522",
     "status": "completed"
    },
    "tags": []
   },
   "outputs": [
    {
     "data": {
      "text/plain": [
       "50    2410080\n",
       "5     1988800\n",
       "20    1637120\n",
       "Name: R, dtype: int64"
      ]
     },
     "execution_count": 23,
     "metadata": {},
     "output_type": "execute_result"
    }
   ],
   "source": [
    "train['R'].value_counts()"
   ]
  },
  {
   "cell_type": "code",
   "execution_count": 24,
   "id": "70860eb2",
   "metadata": {
    "execution": {
     "iopub.execute_input": "2022-05-24T07:02:43.907710Z",
     "iopub.status.busy": "2022-05-24T07:02:43.907387Z",
     "iopub.status.idle": "2022-05-24T07:02:43.953899Z",
     "shell.execute_reply": "2022-05-24T07:02:43.952907Z"
    },
    "papermill": {
     "duration": 0.112979,
     "end_time": "2022-05-24T07:02:43.955847",
     "exception": false,
     "start_time": "2022-05-24T07:02:43.842868",
     "status": "completed"
    },
    "tags": []
   },
   "outputs": [
    {
     "data": {
      "text/plain": [
       "75450"
      ]
     },
     "execution_count": 24,
     "metadata": {},
     "output_type": "execute_result"
    }
   ],
   "source": [
    "len(train['breath_id'].unique())"
   ]
  },
  {
   "cell_type": "code",
   "execution_count": 25,
   "id": "ed633e9a",
   "metadata": {
    "execution": {
     "iopub.execute_input": "2022-05-24T07:02:44.085648Z",
     "iopub.status.busy": "2022-05-24T07:02:44.085009Z",
     "iopub.status.idle": "2022-05-24T07:02:44.124572Z",
     "shell.execute_reply": "2022-05-24T07:02:44.123904Z"
    },
    "papermill": {
     "duration": 0.107311,
     "end_time": "2022-05-24T07:02:44.126687",
     "exception": false,
     "start_time": "2022-05-24T07:02:44.019376",
     "status": "completed"
    },
    "tags": []
   },
   "outputs": [
    {
     "data": {
      "text/plain": [
       "10    2244720\n",
       "50    1971680\n",
       "20    1819600\n",
       "Name: C, dtype: int64"
      ]
     },
     "execution_count": 25,
     "metadata": {},
     "output_type": "execute_result"
    }
   ],
   "source": [
    "train['C'].value_counts()"
   ]
  },
  {
   "cell_type": "code",
   "execution_count": 9,
   "id": "723619d0",
   "metadata": {},
   "outputs": [
    {
     "data": {
      "image/png": "[encoded data removed]",
      "text/plain": [
       "<Figure size 864x576 with 4 Axes>"
      ]
     },
     "metadata": {
      "needs_background": "light"
     },
     "output_type": "display_data"
    }
   ],
   "source": [
    "fig, ax = plt.subplots(figsize = (12, 8))\n",
    "plt.subplot(2, 2, 1)\n",
    "sns.countplot(x='R', data=train)\n",
    "plt.title('Counts of R in train');\n",
    "plt.subplot(2, 2, 2)\n",
    "sns.countplot(x='R', data=test)\n",
    "plt.title('Counts of R in test');\n",
    "plt.subplot(2, 2, 3)\n",
    "sns.countplot(x='C', data=train)\n",
    "plt.title('Counts of C in train');\n",
    "plt.subplot(2, 2, 4)\n",
    "sns.countplot(x='C', data=test)\n",
    "plt.title('Counts of C in test');"
   ]
  },
  {
   "cell_type": "code",
   "execution_count": 26,
   "id": "cbd9cf26",
   "metadata": {
    "execution": {
     "iopub.execute_input": "2022-05-24T07:02:44.255711Z",
     "iopub.status.busy": "2022-05-24T07:02:44.254990Z",
     "iopub.status.idle": "2022-05-24T07:02:44.341706Z",
     "shell.execute_reply": "2022-05-24T07:02:44.340834Z"
    },
    "papermill": {
     "duration": 0.15381,
     "end_time": "2022-05-24T07:02:44.344052",
     "exception": false,
     "start_time": "2022-05-24T07:02:44.190242",
     "status": "completed"
    },
    "tags": []
   },
   "outputs": [
    {
     "data": {
      "text/plain": [
       " 6.399909     198642\n",
       " 6.470211     188844\n",
       " 6.329607     180688\n",
       " 6.259305     180582\n",
       " 6.610815     164401\n",
       "               ...  \n",
       " 62.711927         6\n",
       " 62.641625         5\n",
       " 63.274345         4\n",
       " 62.360417         3\n",
       "-1.895744          3\n",
       "Name: pressure, Length: 950, dtype: int64"
      ]
     },
     "execution_count": 26,
     "metadata": {},
     "output_type": "execute_result"
    }
   ],
   "source": [
    "train['pressure'].value_counts()\n",
    "#Normal lung compliance is around 100 ml/cmH20\n",
    "#Conversely, the administration of positive pressure of 5 cm H2O will generate an increase in lung volume of 500 mL"
   ]
  },
  {
   "cell_type": "code",
   "execution_count": 27,
   "id": "5276381f",
   "metadata": {
    "execution": {
     "iopub.execute_input": "2022-05-24T07:02:44.473851Z",
     "iopub.status.busy": "2022-05-24T07:02:44.473011Z",
     "iopub.status.idle": "2022-05-24T07:02:46.343056Z",
     "shell.execute_reply": "2022-05-24T07:02:46.342401Z"
    },
    "papermill": {
     "duration": 1.936867,
     "end_time": "2022-05-24T07:02:46.344960",
     "exception": false,
     "start_time": "2022-05-24T07:02:44.408093",
     "status": "completed"
    },
    "tags": []
   },
   "outputs": [
    {
     "name": "stderr",
     "output_type": "stream",
     "text": [
      "C:\\Users\\rajes\\anaconda3\\lib\\site-packages\\seaborn\\distributions.py:2557: FutureWarning: `distplot` is a deprecated function and will be removed in a future version. Please adapt your code to use either `displot` (a figure-level function with similar flexibility) or `histplot` (an axes-level function for histograms).\n",
      "  warnings.warn(msg, FutureWarning)\n"
     ]
    },
    {
     "data": {
      "text/plain": [
       "<AxesSubplot:xlabel='pressure'>"
      ]
     },
     "execution_count": 27,
     "metadata": {},
     "output_type": "execute_result"
    },
    {
     "data": {
      "image/png": "[encoded data removed]",
      "text/plain": [
       "<Figure size 1080x360 with 1 Axes>"
      ]
     },
     "metadata": {
      "needs_background": "light"
     },
     "output_type": "display_data"
    }
   ],
   "source": [
    "plt.figure(figsize = (15,5))\n",
    "sns.distplot(train['pressure'],kde=False,bins=1000)"
   ]
  },
  {
   "cell_type": "code",
   "execution_count": 28,
   "id": "93a0d4aa",
   "metadata": {
    "execution": {
     "iopub.execute_input": "2022-05-24T07:02:46.477408Z",
     "iopub.status.busy": "2022-05-24T07:02:46.477099Z",
     "iopub.status.idle": "2022-05-24T07:02:47.898962Z",
     "shell.execute_reply": "2022-05-24T07:02:47.898018Z"
    },
    "papermill": {
     "duration": 1.490579,
     "end_time": "2022-05-24T07:02:47.900912",
     "exception": false,
     "start_time": "2022-05-24T07:02:46.410333",
     "status": "completed"
    },
    "tags": []
   },
   "outputs": [
    {
     "data": {
      "text/html": [
       "<div>\n",
       "<style scoped>\n",
       "    .dataframe tbody tr th:only-of-type {\n",
       "        vertical-align: middle;\n",
       "    }\n",
       "\n",
       "    .dataframe tbody tr th {\n",
       "        vertical-align: top;\n",
       "    }\n",
       "\n",
       "    .dataframe thead th {\n",
       "        text-align: right;\n",
       "    }\n",
       "</style>\n",
       "<table border=\"1\" class=\"dataframe\">\n",
       "  <thead>\n",
       "    <tr style=\"text-align: right;\">\n",
       "      <th></th>\n",
       "      <th>id</th>\n",
       "      <th>breath_id</th>\n",
       "      <th>R</th>\n",
       "      <th>C</th>\n",
       "      <th>time_step</th>\n",
       "      <th>u_in</th>\n",
       "      <th>u_out</th>\n",
       "      <th>pressure</th>\n",
       "    </tr>\n",
       "  </thead>\n",
       "  <tbody>\n",
       "    <tr>\n",
       "      <th>id</th>\n",
       "      <td>1.000000</td>\n",
       "      <td>0.999999</td>\n",
       "      <td>0.001853</td>\n",
       "      <td>0.007222</td>\n",
       "      <td>-0.000199</td>\n",
       "      <td>-0.002380</td>\n",
       "      <td>-0.000089</td>\n",
       "      <td>-0.002402</td>\n",
       "    </tr>\n",
       "    <tr>\n",
       "      <th>breath_id</th>\n",
       "      <td>0.999999</td>\n",
       "      <td>1.000000</td>\n",
       "      <td>0.001860</td>\n",
       "      <td>0.007222</td>\n",
       "      <td>-0.000213</td>\n",
       "      <td>-0.002378</td>\n",
       "      <td>-0.000100</td>\n",
       "      <td>-0.002394</td>\n",
       "    </tr>\n",
       "    <tr>\n",
       "      <th>R</th>\n",
       "      <td>0.001853</td>\n",
       "      <td>0.001860</td>\n",
       "      <td>1.000000</td>\n",
       "      <td>-0.096070</td>\n",
       "      <td>-0.014535</td>\n",
       "      <td>-0.148120</td>\n",
       "      <td>-0.007594</td>\n",
       "      <td>0.015976</td>\n",
       "    </tr>\n",
       "    <tr>\n",
       "      <th>C</th>\n",
       "      <td>0.007222</td>\n",
       "      <td>0.007222</td>\n",
       "      <td>-0.096070</td>\n",
       "      <td>1.000000</td>\n",
       "      <td>0.004936</td>\n",
       "      <td>0.151002</td>\n",
       "      <td>0.003720</td>\n",
       "      <td>-0.036727</td>\n",
       "    </tr>\n",
       "    <tr>\n",
       "      <th>time_step</th>\n",
       "      <td>-0.000199</td>\n",
       "      <td>-0.000213</td>\n",
       "      <td>-0.014535</td>\n",
       "      <td>0.004936</td>\n",
       "      <td>1.000000</td>\n",
       "      <td>-0.352276</td>\n",
       "      <td>0.839191</td>\n",
       "      <td>-0.524829</td>\n",
       "    </tr>\n",
       "    <tr>\n",
       "      <th>u_in</th>\n",
       "      <td>-0.002380</td>\n",
       "      <td>-0.002378</td>\n",
       "      <td>-0.148120</td>\n",
       "      <td>0.151002</td>\n",
       "      <td>-0.352276</td>\n",
       "      <td>1.000000</td>\n",
       "      <td>-0.416985</td>\n",
       "      <td>0.308136</td>\n",
       "    </tr>\n",
       "    <tr>\n",
       "      <th>u_out</th>\n",
       "      <td>-0.000089</td>\n",
       "      <td>-0.000100</td>\n",
       "      <td>-0.007594</td>\n",
       "      <td>0.003720</td>\n",
       "      <td>0.839191</td>\n",
       "      <td>-0.416985</td>\n",
       "      <td>1.000000</td>\n",
       "      <td>-0.614910</td>\n",
       "    </tr>\n",
       "    <tr>\n",
       "      <th>pressure</th>\n",
       "      <td>-0.002402</td>\n",
       "      <td>-0.002394</td>\n",
       "      <td>0.015976</td>\n",
       "      <td>-0.036727</td>\n",
       "      <td>-0.524829</td>\n",
       "      <td>0.308136</td>\n",
       "      <td>-0.614910</td>\n",
       "      <td>1.000000</td>\n",
       "    </tr>\n",
       "  </tbody>\n",
       "</table>\n",
       "</div>"
      ],
      "text/plain": [
       "                 id  breath_id         R         C  time_step      u_in  \\\n",
       "id         1.000000   0.999999  0.001853  0.007222  -0.000199 -0.002380   \n",
       "breath_id  0.999999   1.000000  0.001860  0.007222  -0.000213 -0.002378   \n",
       "R          0.001853   0.001860  1.000000 -0.096070  -0.014535 -0.148120   \n",
       "C          0.007222   0.007222 -0.096070  1.000000   0.004936  0.151002   \n",
       "time_step -0.000199  -0.000213 -0.014535  0.004936   1.000000 -0.352276   \n",
       "u_in      -0.002380  -0.002378 -0.148120  0.151002  -0.352276  1.000000   \n",
       "u_out     -0.000089  -0.000100 -0.007594  0.003720   0.839191 -0.416985   \n",
       "pressure  -0.002402  -0.002394  0.015976 -0.036727  -0.524829  0.308136   \n",
       "\n",
       "              u_out  pressure  \n",
       "id        -0.000089 -0.002402  \n",
       "breath_id -0.000100 -0.002394  \n",
       "R         -0.007594  0.015976  \n",
       "C          0.003720 -0.036727  \n",
       "time_step  0.839191 -0.524829  \n",
       "u_in      -0.416985  0.308136  \n",
       "u_out      1.000000 -0.614910  \n",
       "pressure  -0.614910  1.000000  "
      ]
     },
     "execution_count": 28,
     "metadata": {},
     "output_type": "execute_result"
    }
   ],
   "source": [
    "train.corr()"
   ]
  },
  {
   "cell_type": "code",
   "execution_count": 29,
   "id": "9261ed23",
   "metadata": {
    "execution": {
     "iopub.execute_input": "2022-05-24T07:02:48.033965Z",
     "iopub.status.busy": "2022-05-24T07:02:48.033541Z",
     "iopub.status.idle": "2022-05-24T07:02:48.341806Z",
     "shell.execute_reply": "2022-05-24T07:02:48.341060Z"
    },
    "papermill": {
     "duration": 0.378356,
     "end_time": "2022-05-24T07:02:48.344888",
     "exception": false,
     "start_time": "2022-05-24T07:02:47.966532",
     "status": "completed"
    },
    "tags": []
   },
   "outputs": [],
   "source": [
    "HM_train = train.copy()\n",
    "HM_train.drop(['id'], axis = 1, inplace = True)"
   ]
  },
  {
   "cell_type": "code",
   "execution_count": 30,
   "id": "6d338598",
   "metadata": {
    "execution": {
     "iopub.execute_input": "2022-05-24T07:02:48.483157Z",
     "iopub.status.busy": "2022-05-24T07:02:48.482305Z",
     "iopub.status.idle": "2022-05-24T07:02:50.010813Z",
     "shell.execute_reply": "2022-05-24T07:02:50.009809Z"
    },
    "papermill": {
     "duration": 1.597765,
     "end_time": "2022-05-24T07:02:50.013433",
     "exception": false,
     "start_time": "2022-05-24T07:02:48.415668",
     "status": "completed"
    },
    "tags": []
   },
   "outputs": [
    {
     "data": {
      "image/png": "[encoded data removed]",
      "text/plain": [
       "<Figure size 1080x720 with 2 Axes>"
      ]
     },
     "metadata": {
      "needs_background": "light"
     },
     "output_type": "display_data"
    }
   ],
   "source": [
    "plt.figure(figsize = (15,10))\n",
    "sns.heatmap(HM_train.corr(), annot = True, fmt = '3.2f' , annot_kws={'size' : 12}, cmap=\"Set1\")\n",
    "plt.xticks(fontsize = 14)\n",
    "plt.yticks(fontsize = 14)\n",
    "plt.show()"
   ]
  },
  {
   "cell_type": "markdown",
   "id": "cdd72f64",
   "metadata": {
    "papermill": {
     "duration": 0.068479,
     "end_time": "2022-05-24T07:02:50.151345",
     "exception": false,
     "start_time": "2022-05-24T07:02:50.082866",
     "status": "completed"
    },
    "tags": []
   },
   "source": [
    "Observations:-\n",
    "\n",
    "1) Only the control input for the exploratory solenoid valve i.e. u_out, showing high positive correlation with time_step(84) and moderately negative correlation to Pressure(-61).\n",
    "2) Pressure and time_step negatively correlated(-52).\n",
    "3) u_in has positive correlation with pressure(31). Important to note its correlated to every variablesin dataset.\n",
    "4) C&R not siginificantly correlated with any variables, though its do show correlation with u_in and cannot oversight.\n",
    "5) breath_id do not show any correlation with any variables. Since its nuetral it better we drop this variables fm data. "
   ]
  },
  {
   "cell_type": "markdown",
   "id": "692b7db9",
   "metadata": {
    "papermill": {
     "duration": 0.067165,
     "end_time": "2022-05-24T07:02:50.287851",
     "exception": false,
     "start_time": "2022-05-24T07:02:50.220686",
     "status": "completed"
    },
    "tags": []
   },
   "source": []
  },
  {
   "cell_type": "markdown",
   "id": "0a60b438",
   "metadata": {
    "papermill": {
     "duration": 0.069921,
     "end_time": "2022-05-24T07:02:50.425531",
     "exception": false,
     "start_time": "2022-05-24T07:02:50.355610",
     "status": "completed"
    },
    "tags": []
   },
   "source": [
    "After evaluation of covariaent matrix its seems varibale ID & breath_id not much siginificant variable and lets drop from data"
   ]
  },
  {
   "cell_type": "code",
   "execution_count": 31,
   "id": "fd9aa477",
   "metadata": {
    "execution": {
     "iopub.execute_input": "2022-05-24T07:02:50.698409Z",
     "iopub.status.busy": "2022-05-24T07:02:50.697889Z",
     "iopub.status.idle": "2022-05-24T07:02:51.483470Z",
     "shell.execute_reply": "2022-05-24T07:02:51.482753Z"
    },
    "papermill": {
     "duration": 0.856082,
     "end_time": "2022-05-24T07:02:51.485471",
     "exception": false,
     "start_time": "2022-05-24T07:02:50.629389",
     "status": "completed"
    },
    "tags": []
   },
   "outputs": [
    {
     "data": {
      "text/html": [
       "<div>\n",
       "<style scoped>\n",
       "    .dataframe tbody tr th:only-of-type {\n",
       "        vertical-align: middle;\n",
       "    }\n",
       "\n",
       "    .dataframe tbody tr th {\n",
       "        vertical-align: top;\n",
       "    }\n",
       "\n",
       "    .dataframe thead tr th {\n",
       "        text-align: left;\n",
       "    }\n",
       "\n",
       "    .dataframe thead tr:last-of-type th {\n",
       "        text-align: right;\n",
       "    }\n",
       "</style>\n",
       "<table border=\"1\" class=\"dataframe\">\n",
       "  <thead>\n",
       "    <tr>\n",
       "      <th></th>\n",
       "      <th colspan=\"3\" halign=\"left\">time_step</th>\n",
       "      <th colspan=\"3\" halign=\"left\">u_in</th>\n",
       "      <th colspan=\"3\" halign=\"left\">u_out</th>\n",
       "      <th colspan=\"3\" halign=\"left\">C</th>\n",
       "      <th colspan=\"3\" halign=\"left\">R</th>\n",
       "    </tr>\n",
       "    <tr>\n",
       "      <th></th>\n",
       "      <th>min</th>\n",
       "      <th>max</th>\n",
       "      <th>mean</th>\n",
       "      <th>min</th>\n",
       "      <th>max</th>\n",
       "      <th>mean</th>\n",
       "      <th>min</th>\n",
       "      <th>max</th>\n",
       "      <th>mean</th>\n",
       "      <th>min</th>\n",
       "      <th>max</th>\n",
       "      <th>mean</th>\n",
       "      <th>min</th>\n",
       "      <th>max</th>\n",
       "      <th>mean</th>\n",
       "    </tr>\n",
       "    <tr>\n",
       "      <th>pressure</th>\n",
       "      <th></th>\n",
       "      <th></th>\n",
       "      <th></th>\n",
       "      <th></th>\n",
       "      <th></th>\n",
       "      <th></th>\n",
       "      <th></th>\n",
       "      <th></th>\n",
       "      <th></th>\n",
       "      <th></th>\n",
       "      <th></th>\n",
       "      <th></th>\n",
       "      <th></th>\n",
       "      <th></th>\n",
       "      <th></th>\n",
       "    </tr>\n",
       "  </thead>\n",
       "  <tbody>\n",
       "    <tr>\n",
       "      <th>-1.895744</th>\n",
       "      <td>0.300619</td>\n",
       "      <td>2.571832</td>\n",
       "      <td>1.647237</td>\n",
       "      <td>0.074548</td>\n",
       "      <td>0.519523</td>\n",
       "      <td>0.223554</td>\n",
       "      <td>0</td>\n",
       "      <td>1</td>\n",
       "      <td>0.666667</td>\n",
       "      <td>10</td>\n",
       "      <td>10</td>\n",
       "      <td>10.000000</td>\n",
       "      <td>50</td>\n",
       "      <td>50</td>\n",
       "      <td>50.0</td>\n",
       "    </tr>\n",
       "    <tr>\n",
       "      <th>-1.825442</th>\n",
       "      <td>0.000000</td>\n",
       "      <td>2.638597</td>\n",
       "      <td>1.506164</td>\n",
       "      <td>0.000000</td>\n",
       "      <td>0.474771</td>\n",
       "      <td>0.116325</td>\n",
       "      <td>0</td>\n",
       "      <td>1</td>\n",
       "      <td>0.724638</td>\n",
       "      <td>10</td>\n",
       "      <td>10</td>\n",
       "      <td>10.000000</td>\n",
       "      <td>50</td>\n",
       "      <td>50</td>\n",
       "      <td>50.0</td>\n",
       "    </tr>\n",
       "    <tr>\n",
       "      <th>-1.755140</th>\n",
       "      <td>0.000000</td>\n",
       "      <td>2.638705</td>\n",
       "      <td>1.477318</td>\n",
       "      <td>0.000000</td>\n",
       "      <td>0.778829</td>\n",
       "      <td>0.144561</td>\n",
       "      <td>0</td>\n",
       "      <td>1</td>\n",
       "      <td>0.695853</td>\n",
       "      <td>10</td>\n",
       "      <td>10</td>\n",
       "      <td>10.000000</td>\n",
       "      <td>50</td>\n",
       "      <td>50</td>\n",
       "      <td>50.0</td>\n",
       "    </tr>\n",
       "    <tr>\n",
       "      <th>-1.684838</th>\n",
       "      <td>0.000000</td>\n",
       "      <td>2.638545</td>\n",
       "      <td>1.325082</td>\n",
       "      <td>0.000000</td>\n",
       "      <td>0.973513</td>\n",
       "      <td>0.169434</td>\n",
       "      <td>0</td>\n",
       "      <td>1</td>\n",
       "      <td>0.626450</td>\n",
       "      <td>10</td>\n",
       "      <td>10</td>\n",
       "      <td>10.000000</td>\n",
       "      <td>50</td>\n",
       "      <td>50</td>\n",
       "      <td>50.0</td>\n",
       "    </tr>\n",
       "    <tr>\n",
       "      <th>-1.614536</th>\n",
       "      <td>0.000000</td>\n",
       "      <td>2.638074</td>\n",
       "      <td>1.336913</td>\n",
       "      <td>0.000000</td>\n",
       "      <td>0.931810</td>\n",
       "      <td>0.172052</td>\n",
       "      <td>0</td>\n",
       "      <td>1</td>\n",
       "      <td>0.629820</td>\n",
       "      <td>10</td>\n",
       "      <td>10</td>\n",
       "      <td>10.000000</td>\n",
       "      <td>50</td>\n",
       "      <td>50</td>\n",
       "      <td>50.0</td>\n",
       "    </tr>\n",
       "    <tr>\n",
       "      <th>...</th>\n",
       "      <td>...</td>\n",
       "      <td>...</td>\n",
       "      <td>...</td>\n",
       "      <td>...</td>\n",
       "      <td>...</td>\n",
       "      <td>...</td>\n",
       "      <td>...</td>\n",
       "      <td>...</td>\n",
       "      <td>...</td>\n",
       "      <td>...</td>\n",
       "      <td>...</td>\n",
       "      <td>...</td>\n",
       "      <td>...</td>\n",
       "      <td>...</td>\n",
       "      <td>...</td>\n",
       "    </tr>\n",
       "    <tr>\n",
       "      <th>64.539783</th>\n",
       "      <td>0.289053</td>\n",
       "      <td>0.707320</td>\n",
       "      <td>0.498278</td>\n",
       "      <td>18.145218</td>\n",
       "      <td>45.938317</td>\n",
       "      <td>31.050581</td>\n",
       "      <td>0</td>\n",
       "      <td>0</td>\n",
       "      <td>0.000000</td>\n",
       "      <td>20</td>\n",
       "      <td>20</td>\n",
       "      <td>20.000000</td>\n",
       "      <td>50</td>\n",
       "      <td>50</td>\n",
       "      <td>50.0</td>\n",
       "    </tr>\n",
       "    <tr>\n",
       "      <th>64.610085</th>\n",
       "      <td>0.224439</td>\n",
       "      <td>0.579560</td>\n",
       "      <td>0.330840</td>\n",
       "      <td>20.322627</td>\n",
       "      <td>55.896150</td>\n",
       "      <td>41.628188</td>\n",
       "      <td>0</td>\n",
       "      <td>0</td>\n",
       "      <td>0.000000</td>\n",
       "      <td>20</td>\n",
       "      <td>20</td>\n",
       "      <td>20.000000</td>\n",
       "      <td>50</td>\n",
       "      <td>50</td>\n",
       "      <td>50.0</td>\n",
       "    </tr>\n",
       "    <tr>\n",
       "      <th>64.680387</th>\n",
       "      <td>0.225111</td>\n",
       "      <td>0.544988</td>\n",
       "      <td>0.398462</td>\n",
       "      <td>22.225579</td>\n",
       "      <td>54.207582</td>\n",
       "      <td>33.818024</td>\n",
       "      <td>0</td>\n",
       "      <td>0</td>\n",
       "      <td>0.000000</td>\n",
       "      <td>20</td>\n",
       "      <td>20</td>\n",
       "      <td>20.000000</td>\n",
       "      <td>50</td>\n",
       "      <td>50</td>\n",
       "      <td>50.0</td>\n",
       "    </tr>\n",
       "    <tr>\n",
       "      <th>64.750690</th>\n",
       "      <td>0.225200</td>\n",
       "      <td>0.610822</td>\n",
       "      <td>0.421672</td>\n",
       "      <td>21.639683</td>\n",
       "      <td>57.283838</td>\n",
       "      <td>37.182475</td>\n",
       "      <td>0</td>\n",
       "      <td>0</td>\n",
       "      <td>0.000000</td>\n",
       "      <td>20</td>\n",
       "      <td>20</td>\n",
       "      <td>20.000000</td>\n",
       "      <td>50</td>\n",
       "      <td>50</td>\n",
       "      <td>50.0</td>\n",
       "    </tr>\n",
       "    <tr>\n",
       "      <th>64.820992</th>\n",
       "      <td>0.192034</td>\n",
       "      <td>0.738674</td>\n",
       "      <td>0.410525</td>\n",
       "      <td>0.000000</td>\n",
       "      <td>62.927168</td>\n",
       "      <td>37.735088</td>\n",
       "      <td>0</td>\n",
       "      <td>0</td>\n",
       "      <td>0.000000</td>\n",
       "      <td>10</td>\n",
       "      <td>20</td>\n",
       "      <td>19.977038</td>\n",
       "      <td>50</td>\n",
       "      <td>50</td>\n",
       "      <td>50.0</td>\n",
       "    </tr>\n",
       "  </tbody>\n",
       "</table>\n",
       "<p>950 rows × 15 columns</p>\n",
       "</div>"
      ],
      "text/plain": [
       "           time_step                           u_in                        \\\n",
       "                 min       max      mean        min        max       mean   \n",
       "pressure                                                                    \n",
       "-1.895744   0.300619  2.571832  1.647237   0.074548   0.519523   0.223554   \n",
       "-1.825442   0.000000  2.638597  1.506164   0.000000   0.474771   0.116325   \n",
       "-1.755140   0.000000  2.638705  1.477318   0.000000   0.778829   0.144561   \n",
       "-1.684838   0.000000  2.638545  1.325082   0.000000   0.973513   0.169434   \n",
       "-1.614536   0.000000  2.638074  1.336913   0.000000   0.931810   0.172052   \n",
       "...              ...       ...       ...        ...        ...        ...   \n",
       " 64.539783  0.289053  0.707320  0.498278  18.145218  45.938317  31.050581   \n",
       " 64.610085  0.224439  0.579560  0.330840  20.322627  55.896150  41.628188   \n",
       " 64.680387  0.225111  0.544988  0.398462  22.225579  54.207582  33.818024   \n",
       " 64.750690  0.225200  0.610822  0.421672  21.639683  57.283838  37.182475   \n",
       " 64.820992  0.192034  0.738674  0.410525   0.000000  62.927168  37.735088   \n",
       "\n",
       "           u_out                 C                  R            \n",
       "             min max      mean min max       mean min max  mean  \n",
       "pressure                                                         \n",
       "-1.895744      0   1  0.666667  10  10  10.000000  50  50  50.0  \n",
       "-1.825442      0   1  0.724638  10  10  10.000000  50  50  50.0  \n",
       "-1.755140      0   1  0.695853  10  10  10.000000  50  50  50.0  \n",
       "-1.684838      0   1  0.626450  10  10  10.000000  50  50  50.0  \n",
       "-1.614536      0   1  0.629820  10  10  10.000000  50  50  50.0  \n",
       "...          ...  ..       ...  ..  ..        ...  ..  ..   ...  \n",
       " 64.539783     0   0  0.000000  20  20  20.000000  50  50  50.0  \n",
       " 64.610085     0   0  0.000000  20  20  20.000000  50  50  50.0  \n",
       " 64.680387     0   0  0.000000  20  20  20.000000  50  50  50.0  \n",
       " 64.750690     0   0  0.000000  20  20  20.000000  50  50  50.0  \n",
       " 64.820992     0   0  0.000000  10  20  19.977038  50  50  50.0  \n",
       "\n",
       "[950 rows x 15 columns]"
      ]
     },
     "execution_count": 31,
     "metadata": {},
     "output_type": "execute_result"
    }
   ],
   "source": [
    "train.groupby(\"pressure\")[['time_step','u_in','u_out','C','R']].agg(['min','max','mean']) "
   ]
  },
  {
   "cell_type": "markdown",
   "id": "4cd79972",
   "metadata": {
    "papermill": {
     "duration": 0.069155,
     "end_time": "2022-05-24T07:02:51.624055",
     "exception": false,
     "start_time": "2022-05-24T07:02:51.554900",
     "status": "completed"
    },
    "tags": []
   },
   "source": [
    "Observation:-\n",
    "Its been observed that pressure has total 950 combinations, this may have been occured in data because of different lungs characterstics at different time_step.\n",
    "\n",
    "It means though Target variables seems continous in natuer in dataset, it is suitable to predecit with application of regression model and must look for additonal feature engneering. "
   ]
  },
  {
   "cell_type": "code",
   "execution_count": 4,
   "id": "85d731ce",
   "metadata": {
    "execution": {
     "iopub.execute_input": "2022-05-24T07:02:51.762029Z",
     "iopub.status.busy": "2022-05-24T07:02:51.761433Z",
     "iopub.status.idle": "2022-05-24T07:02:52.130294Z",
     "shell.execute_reply": "2022-05-24T07:02:52.129403Z"
    },
    "papermill": {
     "duration": 0.440541,
     "end_time": "2022-05-24T07:02:52.132406",
     "exception": false,
     "start_time": "2022-05-24T07:02:51.691865",
     "status": "completed"
    },
    "scrolled": true,
    "tags": []
   },
   "outputs": [
    {
     "data": {
      "image/png": "[encoded data removed]",
      "text/plain": [
       "<Figure size 1440x432 with 1 Axes>"
      ]
     },
     "metadata": {
      "needs_background": "light"
     },
     "output_type": "display_data"
    }
   ],
   "source": [
    "plt.figure(figsize = (20,6))\n",
    "plt.plot(train.time_step[:240], linewidth = 2, color = 'g', label=\"time step\")\n",
    "plt.plot(train.pressure[:240],linewidth = 2, color = 'r', label=\"pressure\")\n",
    "plt.plot(train.u_out[:240], linewidth = 2, color = 'k', label=\"u_out\")\n",
    "plt.plot(train.u_in[:240], linewidth = 2, color = 'b', label=\"u_in\")\n",
    "plt.xticks(np.arange(0, 241,10))\n",
    "plt.xlim([-1, 241])                        \n",
    "\n",
    "plt.legend()\n",
    "                        \n",
    "plt.show()"
   ]
  },
  {
   "cell_type": "markdown",
   "id": "0f6e94a9",
   "metadata": {
    "papermill": {
     "duration": 0.069985,
     "end_time": "2022-05-24T07:02:52.273683",
     "exception": false,
     "start_time": "2022-05-24T07:02:52.203698",
     "status": "completed"
    },
    "tags": []
   },
   "source": [
    "Observation:-\n",
    "1) Inspiratory length = 80 i.e. breath cycle is 80 unit long.\n",
    "\n",
    "2) In every cycle, u_in raise sharp at 0 and then start decreasing. At 30 it falls sharp to 0 and remains at same from 30 to 50 unit and then raise exponentially and become constant till the end of the each breath cycle.\n",
    "\n",
    "3) When its fall u_out increase upto 1 and stay constant till next 50 unit long. So toal u_in & u_out complets in 1 breath cycle of 80units.\n",
    "\n",
    "4) Pressure raise when u_in triggered. It falls sharp after the fall of u_in to 0.\n",
    "\n",
    "5) The pressure does not fall to 0 rather it hold the memory till the next trigger of u_in. Its remain constant in entire breathing proces at alomost 5point."
   ]
  },
  {
   "cell_type": "code",
   "execution_count": 13,
   "id": "575079f1",
   "metadata": {},
   "outputs": [
    {
     "data": {
      "image/png": "[encoded data removed]",
      "text/plain": [
       "<Figure size 720x216 with 2 Axes>"
      ]
     },
     "metadata": {
      "needs_background": "light"
     },
     "output_type": "display_data"
    }
   ],
   "source": [
    "fig, ax1 = plt.subplots(figsize = (10, 3))\n",
    "\n",
    "breath_1 = train.loc[train['breath_id'] == 1]\n",
    "ax2 = ax1.twinx()\n",
    "\n",
    "ax1.plot(breath_1['time_step'], breath_1['pressure'], 'r-', label='pressure')\n",
    "ax1.plot(breath_1['time_step'], breath_1['u_in'], 'g-', label='u_in')\n",
    "ax2.plot(breath_1['time_step'], breath_1['u_out'], 'b-', label='u_out')\n",
    "\n",
    "ax1.set_xlabel('Timestep')\n",
    "\n",
    "ax1.legend(loc=(1.1, 0.8))\n",
    "ax2.legend(loc=(1.1, 0.7))\n",
    "plt.show()"
   ]
  },
  {
   "cell_type": "code",
   "execution_count": 5,
   "id": "228c047e",
   "metadata": {
    "execution": {
     "iopub.execute_input": "2022-05-24T07:02:52.415294Z",
     "iopub.status.busy": "2022-05-24T07:02:52.415004Z",
     "iopub.status.idle": "2022-05-24T07:02:52.575752Z",
     "shell.execute_reply": "2022-05-24T07:02:52.574924Z"
    },
    "papermill": {
     "duration": 0.23413,
     "end_time": "2022-05-24T07:02:52.578133",
     "exception": false,
     "start_time": "2022-05-24T07:02:52.344003",
     "status": "completed"
    },
    "tags": []
   },
   "outputs": [],
   "source": [
    "train=train.drop(['id'], axis = 1)\n",
    "test=test.drop(['id'], axis = 1)"
   ]
  },
  {
   "cell_type": "code",
   "execution_count": 5,
   "id": "1fc5ed7e",
   "metadata": {
    "execution": {
     "iopub.execute_input": "2022-05-24T07:02:52.722503Z",
     "iopub.status.busy": "2022-05-24T07:02:52.721949Z",
     "iopub.status.idle": "2022-05-24T07:02:52.737724Z",
     "shell.execute_reply": "2022-05-24T07:02:52.736712Z"
    },
    "papermill": {
     "duration": 0.0894,
     "end_time": "2022-05-24T07:02:52.740061",
     "exception": false,
     "start_time": "2022-05-24T07:02:52.650661",
     "status": "completed"
    },
    "tags": []
   },
   "outputs": [
    {
     "name": "stdout",
     "output_type": "stream",
     "text": [
      "<class 'pandas.core.frame.DataFrame'>\n",
      "RangeIndex: 6036000 entries, 0 to 6035999\n",
      "Data columns (total 7 columns):\n",
      " #   Column     Dtype  \n",
      "---  ------     -----  \n",
      " 0   breath_id  int64  \n",
      " 1   R          int64  \n",
      " 2   C          int64  \n",
      " 3   time_step  float64\n",
      " 4   u_in       float64\n",
      " 5   u_out      int64  \n",
      " 6   pressure   float64\n",
      "dtypes: float64(3), int64(4)\n",
      "memory usage: 322.4 MB\n",
      "====================================\n",
      "<class 'pandas.core.frame.DataFrame'>\n",
      "RangeIndex: 4024000 entries, 0 to 4023999\n",
      "Data columns (total 6 columns):\n",
      " #   Column     Dtype  \n",
      "---  ------     -----  \n",
      " 0   breath_id  int64  \n",
      " 1   R          int64  \n",
      " 2   C          int64  \n",
      " 3   time_step  float64\n",
      " 4   u_in       float64\n",
      " 5   u_out      int64  \n",
      "dtypes: float64(2), int64(4)\n",
      "memory usage: 184.2 MB\n"
     ]
    }
   ],
   "source": [
    "train.info()\n",
    "print('====================================')\n",
    "test.info()"
   ]
  },
  {
   "cell_type": "code",
   "execution_count": 6,
   "id": "cff0ccaa",
   "metadata": {
    "execution": {
     "iopub.execute_input": "2022-05-24T07:02:54.158902Z",
     "iopub.status.busy": "2022-05-24T07:02:54.158614Z",
     "iopub.status.idle": "2022-05-24T07:02:54.259331Z",
     "shell.execute_reply": "2022-05-24T07:02:54.258369Z"
    },
    "papermill": {
     "duration": 0.175229,
     "end_time": "2022-05-24T07:02:54.261249",
     "exception": false,
     "start_time": "2022-05-24T07:02:54.086020",
     "status": "completed"
    },
    "tags": []
   },
   "outputs": [],
   "source": [
    "X = train.drop(columns=['pressure'],axis=1)\n",
    "y = train['pressure']"
   ]
  },
  {
   "cell_type": "code",
   "execution_count": 7,
   "id": "be741a6c",
   "metadata": {
    "execution": {
     "iopub.execute_input": "2022-05-24T07:02:54.544714Z",
     "iopub.status.busy": "2022-05-24T07:02:54.544412Z",
     "iopub.status.idle": "2022-05-24T07:02:55.933509Z",
     "shell.execute_reply": "2022-05-24T07:02:55.932703Z"
    },
    "papermill": {
     "duration": 1.463294,
     "end_time": "2022-05-24T07:02:55.935719",
     "exception": false,
     "start_time": "2022-05-24T07:02:54.472425",
     "status": "completed"
    },
    "tags": []
   },
   "outputs": [],
   "source": [
    "X_train, X_validation, y_train, y_validation = train_test_split(X, y, test_size=0.30, random_state=1000)"
   ]
  },
  {
   "cell_type": "code",
   "execution_count": 8,
   "id": "17a4b733",
   "metadata": {
    "execution": {
     "iopub.execute_input": "2022-05-24T07:02:56.079068Z",
     "iopub.status.busy": "2022-05-24T07:02:56.078800Z",
     "iopub.status.idle": "2022-05-24T07:02:56.085095Z",
     "shell.execute_reply": "2022-05-24T07:02:56.084191Z"
    },
    "papermill": {
     "duration": 0.080236,
     "end_time": "2022-05-24T07:02:56.087027",
     "exception": false,
     "start_time": "2022-05-24T07:02:56.006791",
     "status": "completed"
    },
    "tags": []
   },
   "outputs": [
    {
     "name": "stdout",
     "output_type": "stream",
     "text": [
      "Dimension of X_train: (4225200, 6) \n",
      "Dimension of X_validation: (1810800, 6) \n",
      "Dimension of y_train: (4225200,) \n",
      "Dimension of y_validation: (1810800,)\n"
     ]
    }
   ],
   "source": [
    "print('Dimension of X_train:', X_train.shape,'\\nDimension of X_validation:', X_validation.shape,'\\nDimension of y_train:', y_train.shape,'\\nDimension of y_validation:', y_validation.shape)"
   ]
  },
  {
   "cell_type": "markdown",
   "id": "5f27be14",
   "metadata": {
    "papermill": {
     "duration": 0.070684,
     "end_time": "2022-05-24T07:02:56.228675",
     "exception": false,
     "start_time": "2022-05-24T07:02:56.157991",
     "status": "completed"
    },
    "tags": []
   },
   "source": [
    "# Building Model"
   ]
  },
  {
   "cell_type": "markdown",
   "id": "ca51d046",
   "metadata": {
    "papermill": {
     "duration": 0.070806,
     "end_time": "2022-05-24T07:02:56.370280",
     "exception": false,
     "start_time": "2022-05-24T07:02:56.299474",
     "status": "completed"
    },
    "tags": []
   },
   "source": [
    "**Linear Regression**"
   ]
  },
  {
   "cell_type": "code",
   "execution_count": 9,
   "id": "18007c3c",
   "metadata": {
    "execution": {
     "iopub.execute_input": "2022-05-24T07:02:56.516210Z",
     "iopub.status.busy": "2022-05-24T07:02:56.515200Z",
     "iopub.status.idle": "2022-05-24T07:02:57.294327Z",
     "shell.execute_reply": "2022-05-24T07:02:57.293507Z"
    },
    "papermill": {
     "duration": 0.853395,
     "end_time": "2022-05-24T07:02:57.296475",
     "exception": false,
     "start_time": "2022-05-24T07:02:56.443080",
     "status": "completed"
    },
    "tags": []
   },
   "outputs": [
    {
     "data": {
      "text/html": [
       "<style>#sk-container-id-1 {color: black;background-color: white;}#sk-container-id-1 pre{padding: 0;}#sk-container-id-1 div.sk-toggleable {background-color: white;}#sk-container-id-1 label.sk-toggleable__label {cursor: pointer;display: block;width: 100%;margin-bottom: 0;padding: 0.3em;box-sizing: border-box;text-align: center;}#sk-container-id-1 label.sk-toggleable__label-arrow:before {content: \"▸\";float: left;margin-right: 0.25em;color: #696969;}#sk-container-id-1 label.sk-toggleable__label-arrow:hover:before {color: black;}#sk-container-id-1 div.sk-estimator:hover label.sk-toggleable__label-arrow:before {color: black;}#sk-container-id-1 div.sk-toggleable__content {max-height: 0;max-width: 0;overflow: hidden;text-align: left;background-color: #f0f8ff;}#sk-container-id-1 div.sk-toggleable__content pre {margin: 0.2em;color: black;border-radius: 0.25em;background-color: #f0f8ff;}#sk-container-id-1 input.sk-toggleable__control:checked~div.sk-toggleable__content {max-height: 200px;max-width: 100%;overflow: auto;}#sk-container-id-1 input.sk-toggleable__control:checked~label.sk-toggleable__label-arrow:before {content: \"▾\";}#sk-container-id-1 div.sk-estimator input.sk-toggleable__control:checked~label.sk-toggleable__label {background-color: #d4ebff;}#sk-container-id-1 div.sk-label input.sk-toggleable__control:checked~label.sk-toggleable__label {background-color: #d4ebff;}#sk-container-id-1 input.sk-hidden--visually {border: 0;clip: rect(1px 1px 1px 1px);clip: rect(1px, 1px, 1px, 1px);height: 1px;margin: -1px;overflow: hidden;padding: 0;position: absolute;width: 1px;}#sk-container-id-1 div.sk-estimator {font-family: monospace;background-color: #f0f8ff;border: 1px dotted black;border-radius: 0.25em;box-sizing: border-box;margin-bottom: 0.5em;}#sk-container-id-1 div.sk-estimator:hover {background-color: #d4ebff;}#sk-container-id-1 div.sk-parallel-item::after {content: \"\";width: 100%;border-bottom: 1px solid gray;flex-grow: 1;}#sk-container-id-1 div.sk-label:hover label.sk-toggleable__label {background-color: #d4ebff;}#sk-container-id-1 div.sk-serial::before {content: \"\";position: absolute;border-left: 1px solid gray;box-sizing: border-box;top: 0;bottom: 0;left: 50%;z-index: 0;}#sk-container-id-1 div.sk-serial {display: flex;flex-direction: column;align-items: center;background-color: white;padding-right: 0.2em;padding-left: 0.2em;position: relative;}#sk-container-id-1 div.sk-item {position: relative;z-index: 1;}#sk-container-id-1 div.sk-parallel {display: flex;align-items: stretch;justify-content: center;background-color: white;position: relative;}#sk-container-id-1 div.sk-item::before, #sk-container-id-1 div.sk-parallel-item::before {content: \"\";position: absolute;border-left: 1px solid gray;box-sizing: border-box;top: 0;bottom: 0;left: 50%;z-index: -1;}#sk-container-id-1 div.sk-parallel-item {display: flex;flex-direction: column;z-index: 1;position: relative;background-color: white;}#sk-container-id-1 div.sk-parallel-item:first-child::after {align-self: flex-end;width: 50%;}#sk-container-id-1 div.sk-parallel-item:last-child::after {align-self: flex-start;width: 50%;}#sk-container-id-1 div.sk-parallel-item:only-child::after {width: 0;}#sk-container-id-1 div.sk-dashed-wrapped {border: 1px dashed gray;margin: 0 0.4em 0.5em 0.4em;box-sizing: border-box;padding-bottom: 0.4em;background-color: white;}#sk-container-id-1 div.sk-label label {font-family: monospace;font-weight: bold;display: inline-block;line-height: 1.2em;}#sk-container-id-1 div.sk-label-container {text-align: center;}#sk-container-id-1 div.sk-container {/* jupyter's `normalize.less` sets `[hidden] { display: none; }` but bootstrap.min.css set `[hidden] { display: none !important; }` so we also need the `!important` here to be able to override the default hidden behavior on the sphinx rendered scikit-learn.org. See: https://github.com/scikit-learn/scikit-learn/issues/21755 */display: inline-block !important;position: relative;}#sk-container-id-1 div.sk-text-repr-fallback {display: none;}</style><div id=\"sk-container-id-1\" class=\"sk-top-container\"><div class=\"sk-text-repr-fallback\"><pre>LinearRegression()</pre><b>In a Jupyter environment, please rerun this cell to show the HTML representation or trust the notebook. <br />On GitHub, the HTML representation is unable to render, please try loading this page with nbviewer.org.</b></div><div class=\"sk-container\" hidden><div class=\"sk-item\"><div class=\"sk-estimator sk-toggleable\"><input class=\"sk-toggleable__control sk-hidden--visually\" id=\"sk-estimator-id-1\" type=\"checkbox\" checked><label for=\"sk-estimator-id-1\" class=\"sk-toggleable__label sk-toggleable__label-arrow\">LinearRegression</label><div class=\"sk-toggleable__content\"><pre>LinearRegression()</pre></div></div></div></div></div>"
      ],
      "text/plain": [
       "LinearRegression()"
      ]
     },
     "execution_count": 9,
     "metadata": {},
     "output_type": "execute_result"
    }
   ],
   "source": [
    "LR_model = LinearRegression()\n",
    "LR_model.fit(X_train, y_train)"
   ]
  },
  {
   "cell_type": "code",
   "execution_count": 10,
   "id": "92161210",
   "metadata": {
    "execution": {
     "iopub.execute_input": "2022-05-24T07:02:57.443899Z",
     "iopub.status.busy": "2022-05-24T07:02:57.443414Z",
     "iopub.status.idle": "2022-05-24T07:02:57.606324Z",
     "shell.execute_reply": "2022-05-24T07:02:57.605312Z"
    },
    "papermill": {
     "duration": 0.240683,
     "end_time": "2022-05-24T07:02:57.609810",
     "exception": false,
     "start_time": "2022-05-24T07:02:57.369127",
     "status": "completed"
    },
    "tags": []
   },
   "outputs": [],
   "source": [
    "LR_train_predict = LR_model.predict(X_train)\n",
    "LR_validation_predict = LR_model.predict(X_validation)"
   ]
  },
  {
   "cell_type": "code",
   "execution_count": 11,
   "id": "b6756b05",
   "metadata": {},
   "outputs": [],
   "source": [
    "from yellowbrick.regressor import PredictionError"
   ]
  },
  {
   "cell_type": "code",
   "execution_count": 12,
   "id": "5e9ca64a",
   "metadata": {},
   "outputs": [
    {
     "name": "stderr",
     "output_type": "stream",
     "text": [
      "C:\\Users\\rajes\\anaconda3\\lib\\site-packages\\sklearn\\base.py:450: UserWarning: X does not have valid feature names, but LinearRegression was fitted with feature names\n",
      "  warnings.warn(\n"
     ]
    },
    {
     "data": {
      "image/png": "[encoded data removed]",
      "text/plain": [
       "<Figure size 576x396 with 1 Axes>"
      ]
     },
     "metadata": {},
     "output_type": "display_data"
    },
    {
     "data": {
      "text/plain": [
       "<AxesSubplot:title={'center':'Prediction Error for LinearRegression'}, xlabel='$y$', ylabel='$\\\\hat{y}$'>"
      ]
     },
     "execution_count": 12,
     "metadata": {},
     "output_type": "execute_result"
    }
   ],
   "source": [
    "visualizer = PredictionError(LR_model)\n",
    "\n",
    "visualizer.fit(X_train, y_train)  # Fit the training data to the visualizer\n",
    "visualizer.score(X_validation, y_validation)  # Evaluate the model on the test data\n",
    "visualizer.show()                 # Finalize and render the figure"
   ]
  },
  {
   "cell_type": "code",
   "execution_count": null,
   "id": "62ec62b7",
   "metadata": {},
   "outputs": [],
   "source": [
    "from sklearn.metrics import mean_squared_error\n",
    "from math import sqrt"
   ]
  },
  {
   "cell_type": "code",
   "execution_count": 11,
   "id": "9f42536c",
   "metadata": {
    "execution": {
     "iopub.execute_input": "2022-05-24T07:02:57.810319Z",
     "iopub.status.busy": "2022-05-24T07:02:57.810063Z",
     "iopub.status.idle": "2022-05-24T07:02:57.974143Z",
     "shell.execute_reply": "2022-05-24T07:02:57.973283Z"
    },
    "papermill": {
     "duration": 0.238856,
     "end_time": "2022-05-24T07:02:57.976607",
     "exception": false,
     "start_time": "2022-05-24T07:02:57.737751",
     "status": "completed"
    },
    "tags": []
   },
   "outputs": [],
   "source": [
    "LR_R2_train = r2_score(y_train,LR_train_predict)\n",
    "LR_R2_validation = r2_score(y_validation,LR_validation_predict)\n",
    "\n",
    "LR_MAPE_train = mean_absolute_percentage_error(y_train,LR_train_predict)\n",
    "LR_MAPE_validation =mean_absolute_percentage_error(y_validation,LR_validation_predict)\n",
    "\n",
    "LR_RMSE_train = sqrt(mean_squared_error(y_train,LR_train_predict))\n",
    "LR_RMSE_validation =sqrt(mean_squared_error(y_validation,LR_validation_predict))"
   ]
  },
  {
   "cell_type": "code",
   "execution_count": 12,
   "id": "fa79ec11",
   "metadata": {
    "execution": {
     "iopub.execute_input": "2022-05-24T07:02:58.120649Z",
     "iopub.status.busy": "2022-05-24T07:02:58.120315Z",
     "iopub.status.idle": "2022-05-24T07:02:58.131429Z",
     "shell.execute_reply": "2022-05-24T07:02:58.130826Z"
    },
    "papermill": {
     "duration": 0.084884,
     "end_time": "2022-05-24T07:02:58.133164",
     "exception": false,
     "start_time": "2022-05-24T07:02:58.048280",
     "status": "completed"
    },
    "tags": []
   },
   "outputs": [
    {
     "data": {
      "text/html": [
       "<div>\n",
       "<style scoped>\n",
       "    .dataframe tbody tr th:only-of-type {\n",
       "        vertical-align: middle;\n",
       "    }\n",
       "\n",
       "    .dataframe tbody tr th {\n",
       "        vertical-align: top;\n",
       "    }\n",
       "\n",
       "    .dataframe thead th {\n",
       "        text-align: right;\n",
       "    }\n",
       "</style>\n",
       "<table border=\"1\" class=\"dataframe\">\n",
       "  <thead>\n",
       "    <tr style=\"text-align: right;\">\n",
       "      <th></th>\n",
       "      <th>R Squared Score</th>\n",
       "      <th>MAPE Score</th>\n",
       "      <th>RMSE Score</th>\n",
       "    </tr>\n",
       "  </thead>\n",
       "  <tbody>\n",
       "    <tr>\n",
       "      <th>Linear Regression</th>\n",
       "      <td>0.384116</td>\n",
       "      <td>0.488537</td>\n",
       "      <td>6.366561</td>\n",
       "    </tr>\n",
       "  </tbody>\n",
       "</table>\n",
       "</div>"
      ],
      "text/plain": [
       "                   R Squared Score  MAPE Score  RMSE Score\n",
       "Linear Regression         0.384116    0.488537    6.366561"
      ]
     },
     "execution_count": 12,
     "metadata": {},
     "output_type": "execute_result"
    }
   ],
   "source": [
    "resultsLR = pd.DataFrame({'R Squared Score': LR_R2_validation,\n",
    "                          'MAPE Score':LR_MAPE_validation,\n",
    "                         'RMSE Score':LR_RMSE_validation}\n",
    "                           ,index=['Linear Regression'])\n",
    "\n",
    "resultsLR"
   ]
  },
  {
   "cell_type": "markdown",
   "id": "ce2b18a0",
   "metadata": {
    "papermill": {
     "duration": 0.074516,
     "end_time": "2022-05-24T07:02:58.281311",
     "exception": false,
     "start_time": "2022-05-24T07:02:58.206795",
     "status": "completed"
    },
    "tags": []
   },
   "source": [
    "**Light Gradient Boosted Machine Regressor**"
   ]
  },
  {
   "cell_type": "code",
   "execution_count": 13,
   "id": "18bc40cd",
   "metadata": {
    "execution": {
     "iopub.execute_input": "2022-05-24T07:02:58.465551Z",
     "iopub.status.busy": "2022-05-24T07:02:58.465248Z",
     "iopub.status.idle": "2022-05-24T07:03:39.376535Z",
     "shell.execute_reply": "2022-05-24T07:03:39.375539Z"
    },
    "papermill": {
     "duration": 41.083424,
     "end_time": "2022-05-24T07:03:39.454247",
     "exception": false,
     "start_time": "2022-05-24T07:02:58.370823",
     "status": "completed"
    },
    "tags": []
   },
   "outputs": [
    {
     "data": {
      "text/html": [
       "<style>#sk-container-id-2 {color: black;background-color: white;}#sk-container-id-2 pre{padding: 0;}#sk-container-id-2 div.sk-toggleable {background-color: white;}#sk-container-id-2 label.sk-toggleable__label {cursor: pointer;display: block;width: 100%;margin-bottom: 0;padding: 0.3em;box-sizing: border-box;text-align: center;}#sk-container-id-2 label.sk-toggleable__label-arrow:before {content: \"▸\";float: left;margin-right: 0.25em;color: #696969;}#sk-container-id-2 label.sk-toggleable__label-arrow:hover:before {color: black;}#sk-container-id-2 div.sk-estimator:hover label.sk-toggleable__label-arrow:before {color: black;}#sk-container-id-2 div.sk-toggleable__content {max-height: 0;max-width: 0;overflow: hidden;text-align: left;background-color: #f0f8ff;}#sk-container-id-2 div.sk-toggleable__content pre {margin: 0.2em;color: black;border-radius: 0.25em;background-color: #f0f8ff;}#sk-container-id-2 input.sk-toggleable__control:checked~div.sk-toggleable__content {max-height: 200px;max-width: 100%;overflow: auto;}#sk-container-id-2 input.sk-toggleable__control:checked~label.sk-toggleable__label-arrow:before {content: \"▾\";}#sk-container-id-2 div.sk-estimator input.sk-toggleable__control:checked~label.sk-toggleable__label {background-color: #d4ebff;}#sk-container-id-2 div.sk-label input.sk-toggleable__control:checked~label.sk-toggleable__label {background-color: #d4ebff;}#sk-container-id-2 input.sk-hidden--visually {border: 0;clip: rect(1px 1px 1px 1px);clip: rect(1px, 1px, 1px, 1px);height: 1px;margin: -1px;overflow: hidden;padding: 0;position: absolute;width: 1px;}#sk-container-id-2 div.sk-estimator {font-family: monospace;background-color: #f0f8ff;border: 1px dotted black;border-radius: 0.25em;box-sizing: border-box;margin-bottom: 0.5em;}#sk-container-id-2 div.sk-estimator:hover {background-color: #d4ebff;}#sk-container-id-2 div.sk-parallel-item::after {content: \"\";width: 100%;border-bottom: 1px solid gray;flex-grow: 1;}#sk-container-id-2 div.sk-label:hover label.sk-toggleable__label {background-color: #d4ebff;}#sk-container-id-2 div.sk-serial::before {content: \"\";position: absolute;border-left: 1px solid gray;box-sizing: border-box;top: 0;bottom: 0;left: 50%;z-index: 0;}#sk-container-id-2 div.sk-serial {display: flex;flex-direction: column;align-items: center;background-color: white;padding-right: 0.2em;padding-left: 0.2em;position: relative;}#sk-container-id-2 div.sk-item {position: relative;z-index: 1;}#sk-container-id-2 div.sk-parallel {display: flex;align-items: stretch;justify-content: center;background-color: white;position: relative;}#sk-container-id-2 div.sk-item::before, #sk-container-id-2 div.sk-parallel-item::before {content: \"\";position: absolute;border-left: 1px solid gray;box-sizing: border-box;top: 0;bottom: 0;left: 50%;z-index: -1;}#sk-container-id-2 div.sk-parallel-item {display: flex;flex-direction: column;z-index: 1;position: relative;background-color: white;}#sk-container-id-2 div.sk-parallel-item:first-child::after {align-self: flex-end;width: 50%;}#sk-container-id-2 div.sk-parallel-item:last-child::after {align-self: flex-start;width: 50%;}#sk-container-id-2 div.sk-parallel-item:only-child::after {width: 0;}#sk-container-id-2 div.sk-dashed-wrapped {border: 1px dashed gray;margin: 0 0.4em 0.5em 0.4em;box-sizing: border-box;padding-bottom: 0.4em;background-color: white;}#sk-container-id-2 div.sk-label label {font-family: monospace;font-weight: bold;display: inline-block;line-height: 1.2em;}#sk-container-id-2 div.sk-label-container {text-align: center;}#sk-container-id-2 div.sk-container {/* jupyter's `normalize.less` sets `[hidden] { display: none; }` but bootstrap.min.css set `[hidden] { display: none !important; }` so we also need the `!important` here to be able to override the default hidden behavior on the sphinx rendered scikit-learn.org. See: https://github.com/scikit-learn/scikit-learn/issues/21755 */display: inline-block !important;position: relative;}#sk-container-id-2 div.sk-text-repr-fallback {display: none;}</style><div id=\"sk-container-id-2\" class=\"sk-top-container\"><div class=\"sk-text-repr-fallback\"><pre>Pipeline(steps=[(&#x27;standardscaler&#x27;, StandardScaler()),\n",
       "                (&#x27;lgbmregressor&#x27;,\n",
       "                 LGBMRegressor(max_depth=10, n_estimators=2151,\n",
       "                               num_leaves=45))])</pre><b>In a Jupyter environment, please rerun this cell to show the HTML representation or trust the notebook. <br />On GitHub, the HTML representation is unable to render, please try loading this page with nbviewer.org.</b></div><div class=\"sk-container\" hidden><div class=\"sk-item sk-dashed-wrapped\"><div class=\"sk-label-container\"><div class=\"sk-label sk-toggleable\"><input class=\"sk-toggleable__control sk-hidden--visually\" id=\"sk-estimator-id-2\" type=\"checkbox\" ><label for=\"sk-estimator-id-2\" class=\"sk-toggleable__label sk-toggleable__label-arrow\">Pipeline</label><div class=\"sk-toggleable__content\"><pre>Pipeline(steps=[(&#x27;standardscaler&#x27;, StandardScaler()),\n",
       "                (&#x27;lgbmregressor&#x27;,\n",
       "                 LGBMRegressor(max_depth=10, n_estimators=2151,\n",
       "                               num_leaves=45))])</pre></div></div></div><div class=\"sk-serial\"><div class=\"sk-item\"><div class=\"sk-estimator sk-toggleable\"><input class=\"sk-toggleable__control sk-hidden--visually\" id=\"sk-estimator-id-3\" type=\"checkbox\" ><label for=\"sk-estimator-id-3\" class=\"sk-toggleable__label sk-toggleable__label-arrow\">StandardScaler</label><div class=\"sk-toggleable__content\"><pre>StandardScaler()</pre></div></div></div><div class=\"sk-item\"><div class=\"sk-estimator sk-toggleable\"><input class=\"sk-toggleable__control sk-hidden--visually\" id=\"sk-estimator-id-4\" type=\"checkbox\" ><label for=\"sk-estimator-id-4\" class=\"sk-toggleable__label sk-toggleable__label-arrow\">LGBMRegressor</label><div class=\"sk-toggleable__content\"><pre>LGBMRegressor(max_depth=10, n_estimators=2151, num_leaves=45)</pre></div></div></div></div></div></div></div>"
      ],
      "text/plain": [
       "Pipeline(steps=[('standardscaler', StandardScaler()),\n",
       "                ('lgbmregressor',\n",
       "                 LGBMRegressor(max_depth=10, n_estimators=2151,\n",
       "                               num_leaves=45))])"
      ]
     },
     "execution_count": 13,
     "metadata": {},
     "output_type": "execute_result"
    }
   ],
   "source": [
    "LGBMR_model = make_pipeline(StandardScaler(), LGBMRegressor(n_estimators=2151,max_depth=10,num_leaves= 45))\n",
    "LGBMR_model.fit(X_train, y_train)"
   ]
  },
  {
   "cell_type": "markdown",
   "id": "076f520d",
   "metadata": {
    "papermill": {
     "duration": 0.071478,
     "end_time": "2022-05-24T07:03:39.597232",
     "exception": false,
     "start_time": "2022-05-24T07:03:39.525754",
     "status": "completed"
    },
    "tags": []
   },
   "source": [
    "**Model Evaluation metrics**"
   ]
  },
  {
   "cell_type": "code",
   "execution_count": 17,
   "id": "7d086767",
   "metadata": {},
   "outputs": [
    {
     "name": "stderr",
     "output_type": "stream",
     "text": [
      "C:\\Users\\rajes\\anaconda3\\lib\\site-packages\\sklearn\\base.py:450: UserWarning: X does not have valid feature names, but StandardScaler was fitted with feature names\n",
      "  warnings.warn(\n"
     ]
    },
    {
     "data": {
      "image/png": "[encoded data removed]",
      "text/plain": [
       "<Figure size 432x288 with 1 Axes>"
      ]
     },
     "metadata": {
      "needs_background": "light"
     },
     "output_type": "display_data"
    },
    {
     "data": {
      "text/plain": [
       "<AxesSubplot:title={'center':'Prediction Error for LGBMRegressor'}, xlabel='$y$', ylabel='$\\\\hat{y}$'>"
      ]
     },
     "execution_count": 17,
     "metadata": {},
     "output_type": "execute_result"
    }
   ],
   "source": [
    "visualizer = PredictionError(LGBMR_model)\n",
    "\n",
    "visualizer.fit(X_train, y_train)  # Fit the training data to the visualizer\n",
    "visualizer.score(X_validation, y_validation)  # Evaluate the model on the test data\n",
    "visualizer.show()                 # Finalize and render the figure"
   ]
  },
  {
   "cell_type": "code",
   "execution_count": 14,
   "id": "024590e9",
   "metadata": {},
   "outputs": [],
   "source": [
    "from sklearn.inspection import permutation_importance"
   ]
  },
  {
   "cell_type": "code",
   "execution_count": 18,
   "id": "76bb0ebb",
   "metadata": {},
   "outputs": [],
   "source": [
    "from yellowbrick.regressor import ResidualsPlot"
   ]
  },
  {
   "cell_type": "code",
   "execution_count": 19,
   "id": "5555682e",
   "metadata": {},
   "outputs": [
    {
     "name": "stderr",
     "output_type": "stream",
     "text": [
      "C:\\Users\\rajes\\anaconda3\\lib\\site-packages\\sklearn\\base.py:450: UserWarning: X does not have valid feature names, but StandardScaler was fitted with feature names\n",
      "  warnings.warn(\n"
     ]
    },
    {
     "data": {
      "image/png": "[encoded data removed]",
      "text/plain": [
       "<Figure size 432x288 with 2 Axes>"
      ]
     },
     "metadata": {
      "needs_background": "light"
     },
     "output_type": "display_data"
    },
    {
     "data": {
      "text/plain": [
       "<AxesSubplot:title={'center':'Residuals for LGBMRegressor Model'}, xlabel='Predicted Value', ylabel='Residuals'>"
      ]
     },
     "execution_count": 19,
     "metadata": {},
     "output_type": "execute_result"
    }
   ],
   "source": [
    "visualizer = ResidualsPlot(LGBMR_model)\n",
    "\n",
    "visualizer.fit(X_train, y_train)  # Fit the training data to the visualizer\n",
    "visualizer.score(X_validation, y_validation)  # Evaluate the model on the test data\n",
    "visualizer.show()               # Finalize and render the figure"
   ]
  },
  {
   "cell_type": "code",
   "execution_count": 16,
   "id": "01a5581b",
   "metadata": {
    "execution": {
     "iopub.execute_input": "2022-05-24T07:03:39.745688Z",
     "iopub.status.busy": "2022-05-24T07:03:39.745363Z",
     "iopub.status.idle": "2022-05-24T07:04:26.997088Z",
     "shell.execute_reply": "2022-05-24T07:04:26.996290Z"
    },
    "papermill": {
     "duration": 47.330049,
     "end_time": "2022-05-24T07:04:26.999263",
     "exception": false,
     "start_time": "2022-05-24T07:03:39.669214",
     "status": "completed"
    },
    "tags": []
   },
   "outputs": [],
   "source": [
    "LGBMR_train_predict = LGBMR_model.predict(X_train)\n",
    "LGBMR_validation_predict = LGBMR_model.predict(X_validation)"
   ]
  },
  {
   "cell_type": "code",
   "execution_count": 18,
   "id": "8d196925",
   "metadata": {
    "execution": {
     "iopub.execute_input": "2022-05-24T07:04:27.150642Z",
     "iopub.status.busy": "2022-05-24T07:04:27.146268Z",
     "iopub.status.idle": "2022-05-24T07:04:27.301898Z",
     "shell.execute_reply": "2022-05-24T07:04:27.301014Z"
    },
    "papermill": {
     "duration": 0.232442,
     "end_time": "2022-05-24T07:04:27.304158",
     "exception": false,
     "start_time": "2022-05-24T07:04:27.071716",
     "status": "completed"
    },
    "tags": []
   },
   "outputs": [],
   "source": [
    "LGBMR_R2_train = r2_score(y_train,LGBMR_train_predict)\n",
    "LGBMR_R2_validation = r2_score(y_validation,LGBMR_validation_predict)\n",
    "\n",
    "LGBMR_MAPE_train = mean_absolute_percentage_error(y_train,LGBMR_train_predict)\n",
    "LGBMR_MAPE_validation = mean_absolute_percentage_error(y_validation,LGBMR_validation_predict)\n",
    "\n",
    "LGBMR_RMSE_train = sqrt(mean_squared_error(y_train,LGBMR_train_predict))\n",
    "LGBMR_RMSE_validation =sqrt(mean_squared_error(y_validation,LGBMR_validation_predict))"
   ]
  },
  {
   "cell_type": "code",
   "execution_count": 19,
   "id": "400ebb1a",
   "metadata": {
    "execution": {
     "iopub.execute_input": "2022-05-24T07:04:27.448359Z",
     "iopub.status.busy": "2022-05-24T07:04:27.448072Z",
     "iopub.status.idle": "2022-05-24T07:04:27.460024Z",
     "shell.execute_reply": "2022-05-24T07:04:27.459233Z"
    },
    "papermill": {
     "duration": 0.086129,
     "end_time": "2022-05-24T07:04:27.461877",
     "exception": false,
     "start_time": "2022-05-24T07:04:27.375748",
     "status": "completed"
    },
    "tags": []
   },
   "outputs": [
    {
     "data": {
      "text/html": [
       "<div>\n",
       "<style scoped>\n",
       "    .dataframe tbody tr th:only-of-type {\n",
       "        vertical-align: middle;\n",
       "    }\n",
       "\n",
       "    .dataframe tbody tr th {\n",
       "        vertical-align: top;\n",
       "    }\n",
       "\n",
       "    .dataframe thead th {\n",
       "        text-align: right;\n",
       "    }\n",
       "</style>\n",
       "<table border=\"1\" class=\"dataframe\">\n",
       "  <thead>\n",
       "    <tr style=\"text-align: right;\">\n",
       "      <th></th>\n",
       "      <th>R Squared Score</th>\n",
       "      <th>MAPE Score</th>\n",
       "      <th>RMSE Score</th>\n",
       "    </tr>\n",
       "  </thead>\n",
       "  <tbody>\n",
       "    <tr>\n",
       "      <th>Light Gradient Boosted Machine</th>\n",
       "      <td>0.777182</td>\n",
       "      <td>0.253773</td>\n",
       "      <td>3.829396</td>\n",
       "    </tr>\n",
       "    <tr>\n",
       "      <th>Linear Regression</th>\n",
       "      <td>0.384116</td>\n",
       "      <td>0.488537</td>\n",
       "      <td>6.366561</td>\n",
       "    </tr>\n",
       "  </tbody>\n",
       "</table>\n",
       "</div>"
      ],
      "text/plain": [
       "                                R Squared Score  MAPE Score  RMSE Score\n",
       "Light Gradient Boosted Machine         0.777182    0.253773    3.829396\n",
       "Linear Regression                      0.384116    0.488537    6.366561"
      ]
     },
     "execution_count": 19,
     "metadata": {},
     "output_type": "execute_result"
    }
   ],
   "source": [
    "resultsLGBMR = pd.DataFrame({'R Squared Score': LGBMR_R2_validation,\n",
    "                          'MAPE Score':LGBMR_MAPE_validation,\n",
    "                            'RMSE Score':LGBMR_RMSE_validation}\n",
    "                           ,index=['Light Gradient Boosted Machine'])\n",
    "\n",
    "results2 = pd.concat([resultsLGBMR,resultsLR])\n",
    "results2"
   ]
  },
  {
   "cell_type": "markdown",
   "id": "23fd93c0",
   "metadata": {},
   "source": []
  },
  {
   "cell_type": "markdown",
   "id": "09cd2a32",
   "metadata": {
    "papermill": {
     "duration": 0.071686,
     "end_time": "2022-05-24T07:04:27.605240",
     "exception": false,
     "start_time": "2022-05-24T07:04:27.533554",
     "status": "completed"
    },
    "tags": []
   },
   "source": [
    "**XGBoost Regressor**"
   ]
  },
  {
   "cell_type": "code",
   "execution_count": 16,
   "id": "c37edd14",
   "metadata": {
    "execution": {
     "iopub.execute_input": "2022-05-24T07:04:27.751880Z",
     "iopub.status.busy": "2022-05-24T07:04:27.751588Z",
     "iopub.status.idle": "2022-05-24T07:06:01.109116Z",
     "shell.execute_reply": "2022-05-24T07:06:01.108266Z"
    },
    "papermill": {
     "duration": 93.506149,
     "end_time": "2022-05-24T07:06:01.182773",
     "exception": false,
     "start_time": "2022-05-24T07:04:27.676624",
     "status": "completed"
    },
    "tags": []
   },
   "outputs": [
    {
     "data": {
      "text/html": [
       "<style>#sk-container-id-3 {color: black;background-color: white;}#sk-container-id-3 pre{padding: 0;}#sk-container-id-3 div.sk-toggleable {background-color: white;}#sk-container-id-3 label.sk-toggleable__label {cursor: pointer;display: block;width: 100%;margin-bottom: 0;padding: 0.3em;box-sizing: border-box;text-align: center;}#sk-container-id-3 label.sk-toggleable__label-arrow:before {content: \"▸\";float: left;margin-right: 0.25em;color: #696969;}#sk-container-id-3 label.sk-toggleable__label-arrow:hover:before {color: black;}#sk-container-id-3 div.sk-estimator:hover label.sk-toggleable__label-arrow:before {color: black;}#sk-container-id-3 div.sk-toggleable__content {max-height: 0;max-width: 0;overflow: hidden;text-align: left;background-color: #f0f8ff;}#sk-container-id-3 div.sk-toggleable__content pre {margin: 0.2em;color: black;border-radius: 0.25em;background-color: #f0f8ff;}#sk-container-id-3 input.sk-toggleable__control:checked~div.sk-toggleable__content {max-height: 200px;max-width: 100%;overflow: auto;}#sk-container-id-3 input.sk-toggleable__control:checked~label.sk-toggleable__label-arrow:before {content: \"▾\";}#sk-container-id-3 div.sk-estimator input.sk-toggleable__control:checked~label.sk-toggleable__label {background-color: #d4ebff;}#sk-container-id-3 div.sk-label input.sk-toggleable__control:checked~label.sk-toggleable__label {background-color: #d4ebff;}#sk-container-id-3 input.sk-hidden--visually {border: 0;clip: rect(1px 1px 1px 1px);clip: rect(1px, 1px, 1px, 1px);height: 1px;margin: -1px;overflow: hidden;padding: 0;position: absolute;width: 1px;}#sk-container-id-3 div.sk-estimator {font-family: monospace;background-color: #f0f8ff;border: 1px dotted black;border-radius: 0.25em;box-sizing: border-box;margin-bottom: 0.5em;}#sk-container-id-3 div.sk-estimator:hover {background-color: #d4ebff;}#sk-container-id-3 div.sk-parallel-item::after {content: \"\";width: 100%;border-bottom: 1px solid gray;flex-grow: 1;}#sk-container-id-3 div.sk-label:hover label.sk-toggleable__label {background-color: #d4ebff;}#sk-container-id-3 div.sk-serial::before {content: \"\";position: absolute;border-left: 1px solid gray;box-sizing: border-box;top: 0;bottom: 0;left: 50%;z-index: 0;}#sk-container-id-3 div.sk-serial {display: flex;flex-direction: column;align-items: center;background-color: white;padding-right: 0.2em;padding-left: 0.2em;position: relative;}#sk-container-id-3 div.sk-item {position: relative;z-index: 1;}#sk-container-id-3 div.sk-parallel {display: flex;align-items: stretch;justify-content: center;background-color: white;position: relative;}#sk-container-id-3 div.sk-item::before, #sk-container-id-3 div.sk-parallel-item::before {content: \"\";position: absolute;border-left: 1px solid gray;box-sizing: border-box;top: 0;bottom: 0;left: 50%;z-index: -1;}#sk-container-id-3 div.sk-parallel-item {display: flex;flex-direction: column;z-index: 1;position: relative;background-color: white;}#sk-container-id-3 div.sk-parallel-item:first-child::after {align-self: flex-end;width: 50%;}#sk-container-id-3 div.sk-parallel-item:last-child::after {align-self: flex-start;width: 50%;}#sk-container-id-3 div.sk-parallel-item:only-child::after {width: 0;}#sk-container-id-3 div.sk-dashed-wrapped {border: 1px dashed gray;margin: 0 0.4em 0.5em 0.4em;box-sizing: border-box;padding-bottom: 0.4em;background-color: white;}#sk-container-id-3 div.sk-label label {font-family: monospace;font-weight: bold;display: inline-block;line-height: 1.2em;}#sk-container-id-3 div.sk-label-container {text-align: center;}#sk-container-id-3 div.sk-container {/* jupyter's `normalize.less` sets `[hidden] { display: none; }` but bootstrap.min.css set `[hidden] { display: none !important; }` so we also need the `!important` here to be able to override the default hidden behavior on the sphinx rendered scikit-learn.org. See: https://github.com/scikit-learn/scikit-learn/issues/21755 */display: inline-block !important;position: relative;}#sk-container-id-3 div.sk-text-repr-fallback {display: none;}</style><div id=\"sk-container-id-3\" class=\"sk-top-container\"><div class=\"sk-text-repr-fallback\"><pre>XGBRegressor(base_score=0.5, booster=&#x27;gbtree&#x27;, callbacks=None,\n",
       "             colsample_bylevel=1, colsample_bynode=1, colsample_bytree=1,\n",
       "             early_stopping_rounds=None, enable_categorical=False,\n",
       "             eval_metric=None, gamma=0, gpu_id=-1, grow_policy=&#x27;depthwise&#x27;,\n",
       "             importance_type=None, interaction_constraints=&#x27;&#x27;,\n",
       "             learning_rate=0.300000012, max_bin=256, max_cat_to_onehot=4,\n",
       "             max_delta_step=0, max_depth=10, max_leaves=0, min_child_weight=1,\n",
       "             missing=nan, monotone_constraints=&#x27;()&#x27;, n_estimators=2151,\n",
       "             n_jobs=0, num_parallel_tree=1, predictor=&#x27;auto&#x27;, random_state=0,\n",
       "             reg_alpha=0, reg_lambda=1, ...)</pre><b>In a Jupyter environment, please rerun this cell to show the HTML representation or trust the notebook. <br />On GitHub, the HTML representation is unable to render, please try loading this page with nbviewer.org.</b></div><div class=\"sk-container\" hidden><div class=\"sk-item\"><div class=\"sk-estimator sk-toggleable\"><input class=\"sk-toggleable__control sk-hidden--visually\" id=\"sk-estimator-id-5\" type=\"checkbox\" checked><label for=\"sk-estimator-id-5\" class=\"sk-toggleable__label sk-toggleable__label-arrow\">XGBRegressor</label><div class=\"sk-toggleable__content\"><pre>XGBRegressor(base_score=0.5, booster=&#x27;gbtree&#x27;, callbacks=None,\n",
       "             colsample_bylevel=1, colsample_bynode=1, colsample_bytree=1,\n",
       "             early_stopping_rounds=None, enable_categorical=False,\n",
       "             eval_metric=None, gamma=0, gpu_id=-1, grow_policy=&#x27;depthwise&#x27;,\n",
       "             importance_type=None, interaction_constraints=&#x27;&#x27;,\n",
       "             learning_rate=0.300000012, max_bin=256, max_cat_to_onehot=4,\n",
       "             max_delta_step=0, max_depth=10, max_leaves=0, min_child_weight=1,\n",
       "             missing=nan, monotone_constraints=&#x27;()&#x27;, n_estimators=2151,\n",
       "             n_jobs=0, num_parallel_tree=1, predictor=&#x27;auto&#x27;, random_state=0,\n",
       "             reg_alpha=0, reg_lambda=1, ...)</pre></div></div></div></div></div>"
      ],
      "text/plain": [
       "XGBRegressor(base_score=0.5, booster='gbtree', callbacks=None,\n",
       "             colsample_bylevel=1, colsample_bynode=1, colsample_bytree=1,\n",
       "             early_stopping_rounds=None, enable_categorical=False,\n",
       "             eval_metric=None, gamma=0, gpu_id=-1, grow_policy='depthwise',\n",
       "             importance_type=None, interaction_constraints='',\n",
       "             learning_rate=0.300000012, max_bin=256, max_cat_to_onehot=4,\n",
       "             max_delta_step=0, max_depth=10, max_leaves=0, min_child_weight=1,\n",
       "             missing=nan, monotone_constraints='()', n_estimators=2151,\n",
       "             n_jobs=0, num_parallel_tree=1, predictor='auto', random_state=0,\n",
       "             reg_alpha=0, reg_lambda=1, ...)"
      ]
     },
     "execution_count": 16,
     "metadata": {},
     "output_type": "execute_result"
    }
   ],
   "source": [
    "XGB_model = XGBRegressor(n_estimators=2151,max_depth=10)\n",
    "XGB_model.fit(X_train, y_train)"
   ]
  },
  {
   "cell_type": "code",
   "execution_count": null,
   "id": "67815420",
   "metadata": {},
   "outputs": [],
   "source": [
    "!pip install shap"
   ]
  },
  {
   "cell_type": "code",
   "execution_count": 17,
   "id": "5bda7273",
   "metadata": {},
   "outputs": [],
   "source": [
    "from sklearn.inspection import permutation_importance"
   ]
  },
  {
   "cell_type": "code",
   "execution_count": 19,
   "id": "7154278e",
   "metadata": {},
   "outputs": [
    {
     "data": {
      "text/plain": [
       "array([0.02181114, 0.11967605, 0.1328032 , 0.5523614 , 0.10726143,\n",
       "       0.06608687], dtype=float32)"
      ]
     },
     "execution_count": 19,
     "metadata": {},
     "output_type": "execute_result"
    }
   ],
   "source": [
    "XGB_model.feature_importances_"
   ]
  },
  {
   "cell_type": "code",
   "execution_count": 32,
   "id": "6ad20aa1",
   "metadata": {},
   "outputs": [
    {
     "data": {
      "text/html": [
       "<div>\n",
       "<style scoped>\n",
       "    .dataframe tbody tr th:only-of-type {\n",
       "        vertical-align: middle;\n",
       "    }\n",
       "\n",
       "    .dataframe tbody tr th {\n",
       "        vertical-align: top;\n",
       "    }\n",
       "\n",
       "    .dataframe thead th {\n",
       "        text-align: right;\n",
       "    }\n",
       "</style>\n",
       "<table border=\"1\" class=\"dataframe\">\n",
       "  <thead>\n",
       "    <tr style=\"text-align: right;\">\n",
       "      <th></th>\n",
       "      <th>Feature_Name</th>\n",
       "      <th>Feature_Importance</th>\n",
       "    </tr>\n",
       "  </thead>\n",
       "  <tbody>\n",
       "    <tr>\n",
       "      <th>3</th>\n",
       "      <td>time_step</td>\n",
       "      <td>0.552361</td>\n",
       "    </tr>\n",
       "    <tr>\n",
       "      <th>2</th>\n",
       "      <td>C</td>\n",
       "      <td>0.132803</td>\n",
       "    </tr>\n",
       "    <tr>\n",
       "      <th>1</th>\n",
       "      <td>R</td>\n",
       "      <td>0.119676</td>\n",
       "    </tr>\n",
       "    <tr>\n",
       "      <th>4</th>\n",
       "      <td>u_in</td>\n",
       "      <td>0.107261</td>\n",
       "    </tr>\n",
       "    <tr>\n",
       "      <th>5</th>\n",
       "      <td>u_out</td>\n",
       "      <td>0.066087</td>\n",
       "    </tr>\n",
       "    <tr>\n",
       "      <th>0</th>\n",
       "      <td>breath_id</td>\n",
       "      <td>0.021811</td>\n",
       "    </tr>\n",
       "  </tbody>\n",
       "</table>\n",
       "</div>"
      ],
      "text/plain": [
       "  Feature_Name  Feature_Importance\n",
       "3    time_step            0.552361\n",
       "2            C            0.132803\n",
       "1            R            0.119676\n",
       "4         u_in            0.107261\n",
       "5        u_out            0.066087\n",
       "0    breath_id            0.021811"
      ]
     },
     "execution_count": 32,
     "metadata": {},
     "output_type": "execute_result"
    }
   ],
   "source": [
    "feat_imp = pd.DataFrame({ \n",
    "    'Feature_Name' : X.columns,\n",
    "    'Feature_Importance' : XGB_model.feature_importances_\n",
    "})\n",
    "feat_imp.sort_values('Feature_Importance', ascending = False)"
   ]
  },
  {
   "cell_type": "code",
   "execution_count": 33,
   "id": "008a749b",
   "metadata": {},
   "outputs": [
    {
     "data": {
      "text/plain": [
       "<AxesSubplot:ylabel='Feature_Name'>"
      ]
     },
     "execution_count": 33,
     "metadata": {},
     "output_type": "execute_result"
    },
    {
     "data": {
      "image/png": "[encoded data removed]",
      "text/plain": [
       "<Figure size 432x288 with 1 Axes>"
      ]
     },
     "metadata": {
      "needs_background": "light"
     },
     "output_type": "display_data"
    }
   ],
   "source": [
    "feat_imp.sort_values('Feature_Importance').plot.barh('Feature_Name', 'Feature_Importance')"
   ]
  },
  {
   "cell_type": "code",
   "execution_count": null,
   "id": "af86ff5c",
   "metadata": {},
   "outputs": [],
   "source": [
    "plt.barh(train.feature_names, xgb.feature_importances_)"
   ]
  },
  {
   "cell_type": "code",
   "execution_count": 25,
   "id": "c9c56002",
   "metadata": {},
   "outputs": [
    {
     "data": {
      "image/png": "[encoded data removed]",
      "text/plain": [
       "<Figure size 432x288 with 1 Axes>"
      ]
     },
     "metadata": {
      "needs_background": "light"
     },
     "output_type": "display_data"
    },
    {
     "data": {
      "text/plain": [
       "<AxesSubplot:title={'center':'Prediction Error for XGBRegressor'}, xlabel='$y$', ylabel='$\\\\hat{y}$'>"
      ]
     },
     "execution_count": 25,
     "metadata": {},
     "output_type": "execute_result"
    }
   ],
   "source": [
    "visualizer = PredictionError(XGB_model)\n",
    "\n",
    "visualizer.fit(X_train, y_train)  # Fit the training data to the visualizer\n",
    "visualizer.score(X_validation, y_validation)  # Evaluate the model on the test data\n",
    "visualizer.show()                 # Finalize and render the figure"
   ]
  },
  {
   "cell_type": "code",
   "execution_count": 26,
   "id": "d31788ad",
   "metadata": {},
   "outputs": [
    {
     "data": {
      "image/png": "[encoded data removed]",
      "text/plain": [
       "<Figure size 432x288 with 2 Axes>"
      ]
     },
     "metadata": {
      "needs_background": "light"
     },
     "output_type": "display_data"
    },
    {
     "data": {
      "text/plain": [
       "<AxesSubplot:title={'center':'Residuals for XGBRegressor Model'}, xlabel='Predicted Value', ylabel='Residuals'>"
      ]
     },
     "execution_count": 26,
     "metadata": {},
     "output_type": "execute_result"
    }
   ],
   "source": [
    "visualizer = ResidualsPlot(XGB_model)\n",
    "\n",
    "visualizer.fit(X_train, y_train)  # Fit the training data to the visualizer\n",
    "visualizer.score(X_validation, y_validation)  # Evaluate the model on the test data\n",
    "visualizer.show()               # Finalize and render the figure"
   ]
  },
  {
   "cell_type": "code",
   "execution_count": 37,
   "id": "3fe4d955",
   "metadata": {
    "execution": {
     "iopub.execute_input": "2022-05-24T07:06:01.327916Z",
     "iopub.status.busy": "2022-05-24T07:06:01.327598Z",
     "iopub.status.idle": "2022-05-24T07:06:15.399561Z",
     "shell.execute_reply": "2022-05-24T07:06:15.398657Z"
    },
    "papermill": {
     "duration": 14.147454,
     "end_time": "2022-05-24T07:06:15.401865",
     "exception": false,
     "start_time": "2022-05-24T07:06:01.254411",
     "status": "completed"
    },
    "tags": []
   },
   "outputs": [],
   "source": [
    "XGB_train_predict = XGB_model.predict(X_train)\n",
    "XGB_validation_predict = XGB_model.predict(X_validation)"
   ]
  },
  {
   "cell_type": "code",
   "execution_count": 38,
   "id": "3fcc076e",
   "metadata": {
    "execution": {
     "iopub.execute_input": "2022-05-24T07:06:15.547136Z",
     "iopub.status.busy": "2022-05-24T07:06:15.546862Z",
     "iopub.status.idle": "2022-05-24T07:06:15.681970Z",
     "shell.execute_reply": "2022-05-24T07:06:15.681129Z"
    },
    "papermill": {
     "duration": 0.210467,
     "end_time": "2022-05-24T07:06:15.684152",
     "exception": false,
     "start_time": "2022-05-24T07:06:15.473685",
     "status": "completed"
    },
    "tags": []
   },
   "outputs": [],
   "source": [
    "XGB_R2_train = r2_score(y_train,XGB_train_predict)\n",
    "XGB_R2_validation = r2_score(y_validation,XGB_validation_predict)\n",
    "\n",
    "XGB_MAPE_train = mean_absolute_percentage_error(y_train,XGB_train_predict)\n",
    "XGB_MAPE_validation = mean_absolute_percentage_error(y_validation,XGB_validation_predict)\n",
    "\n",
    "XGB_RMSE_train = sqrt(mean_squared_error(y_train,XGB_train_predict))\n",
    "XGB_RMSE_validation = sqrt(mean_squared_error(y_validation,XGB_validation_predict))"
   ]
  },
  {
   "cell_type": "code",
   "execution_count": 39,
   "id": "dc2f1329",
   "metadata": {
    "execution": {
     "iopub.execute_input": "2022-05-24T07:06:15.830665Z",
     "iopub.status.busy": "2022-05-24T07:06:15.830379Z",
     "iopub.status.idle": "2022-05-24T07:06:15.841185Z",
     "shell.execute_reply": "2022-05-24T07:06:15.840607Z"
    },
    "papermill": {
     "duration": 0.086107,
     "end_time": "2022-05-24T07:06:15.842826",
     "exception": false,
     "start_time": "2022-05-24T07:06:15.756719",
     "status": "completed"
    },
    "tags": []
   },
   "outputs": [
    {
     "data": {
      "text/html": [
       "<div>\n",
       "<style scoped>\n",
       "    .dataframe tbody tr th:only-of-type {\n",
       "        vertical-align: middle;\n",
       "    }\n",
       "\n",
       "    .dataframe tbody tr th {\n",
       "        vertical-align: top;\n",
       "    }\n",
       "\n",
       "    .dataframe thead th {\n",
       "        text-align: right;\n",
       "    }\n",
       "</style>\n",
       "<table border=\"1\" class=\"dataframe\">\n",
       "  <thead>\n",
       "    <tr style=\"text-align: right;\">\n",
       "      <th></th>\n",
       "      <th>R Squared Score</th>\n",
       "      <th>MAPE Score</th>\n",
       "      <th>RMSE Score</th>\n",
       "    </tr>\n",
       "  </thead>\n",
       "  <tbody>\n",
       "    <tr>\n",
       "      <th>XGBoost Regressor</th>\n",
       "      <td>0.750880</td>\n",
       "      <td>0.247958</td>\n",
       "      <td>4.049111</td>\n",
       "    </tr>\n",
       "    <tr>\n",
       "      <th>Light Gradient Boosted Machine</th>\n",
       "      <td>0.777182</td>\n",
       "      <td>0.253773</td>\n",
       "      <td>3.829396</td>\n",
       "    </tr>\n",
       "    <tr>\n",
       "      <th>Linear Regression</th>\n",
       "      <td>0.384116</td>\n",
       "      <td>0.488537</td>\n",
       "      <td>6.366561</td>\n",
       "    </tr>\n",
       "  </tbody>\n",
       "</table>\n",
       "</div>"
      ],
      "text/plain": [
       "                                R Squared Score  MAPE Score  RMSE Score\n",
       "XGBoost Regressor                      0.750880    0.247958    4.049111\n",
       "Light Gradient Boosted Machine         0.777182    0.253773    3.829396\n",
       "Linear Regression                      0.384116    0.488537    6.366561"
      ]
     },
     "execution_count": 39,
     "metadata": {},
     "output_type": "execute_result"
    }
   ],
   "source": [
    "resultsXGB = pd.DataFrame({'R Squared Score': XGB_R2_validation,\n",
    "                          'MAPE Score':XGB_MAPE_validation,\n",
    "                          'RMSE Score':XGB_RMSE_validation}\n",
    "                           ,index=['XGBoost Regressor'])\n",
    "\n",
    "results3 = pd.concat([resultsXGB,results2])\n",
    "results3"
   ]
  },
  {
   "cell_type": "markdown",
   "id": "b1ed5ad9",
   "metadata": {},
   "source": [
    "**Scoring Metrics**\n"
   ]
  },
  {
   "cell_type": "markdown",
   "id": "12bee7dd",
   "metadata": {
    "papermill": {
     "duration": 0.072321,
     "end_time": "2022-05-24T07:06:15.987955",
     "exception": false,
     "start_time": "2022-05-24T07:06:15.915634",
     "status": "completed"
    },
    "tags": []
   },
   "source": [
    "**Random Forest Regressor**"
   ]
  },
  {
   "cell_type": "code",
   "execution_count": 49,
   "id": "41ba4ba6",
   "metadata": {
    "execution": {
     "iopub.execute_input": "2022-05-24T07:06:16.135218Z",
     "iopub.status.busy": "2022-05-24T07:06:16.134671Z",
     "iopub.status.idle": "2022-05-24T07:06:16.138462Z",
     "shell.execute_reply": "2022-05-24T07:06:16.137831Z"
    },
    "papermill": {
     "duration": 0.080465,
     "end_time": "2022-05-24T07:06:16.140905",
     "exception": false,
     "start_time": "2022-05-24T07:06:16.060440",
     "status": "completed"
    },
    "tags": []
   },
   "outputs": [],
   "source": [
    "rf=RandomForestRegressor(n_estimators = 500, max_depth = 10, random_state = 42)"
   ]
  },
  {
   "cell_type": "code",
   "execution_count": null,
   "id": "0e4a951c",
   "metadata": {
    "execution": {
     "iopub.execute_input": "2022-05-24T07:06:16.287577Z",
     "iopub.status.busy": "2022-05-24T07:06:16.286987Z",
     "iopub.status.idle": "2022-05-24T07:06:16.540871Z",
     "shell.execute_reply": "2022-05-24T07:06:16.539770Z"
    },
    "papermill": {
     "duration": 0.328988,
     "end_time": "2022-05-24T07:06:16.542260",
     "exception": true,
     "start_time": "2022-05-24T07:06:16.213272",
     "status": "failed"
    },
    "tags": []
   },
   "outputs": [],
   "source": [
    "rf.fit(X_train, y_train)"
   ]
  },
  {
   "cell_type": "code",
   "execution_count": 43,
   "id": "7eb0c680",
   "metadata": {},
   "outputs": [
    {
     "data": {
      "text/plain": [
       "array([8.96779742e-05, 4.06563585e-02, 4.34993859e-02, 8.02349996e-01,\n",
       "       1.13404170e-01, 4.11063301e-07])"
      ]
     },
     "execution_count": 43,
     "metadata": {},
     "output_type": "execute_result"
    }
   ],
   "source": [
    "rf.feature_importances_"
   ]
  },
  {
   "cell_type": "code",
   "execution_count": 44,
   "id": "78f53687",
   "metadata": {},
   "outputs": [
    {
     "data": {
      "text/html": [
       "<div>\n",
       "<style scoped>\n",
       "    .dataframe tbody tr th:only-of-type {\n",
       "        vertical-align: middle;\n",
       "    }\n",
       "\n",
       "    .dataframe tbody tr th {\n",
       "        vertical-align: top;\n",
       "    }\n",
       "\n",
       "    .dataframe thead th {\n",
       "        text-align: right;\n",
       "    }\n",
       "</style>\n",
       "<table border=\"1\" class=\"dataframe\">\n",
       "  <thead>\n",
       "    <tr style=\"text-align: right;\">\n",
       "      <th></th>\n",
       "      <th>Feature_Name</th>\n",
       "      <th>Feature_Importance</th>\n",
       "    </tr>\n",
       "  </thead>\n",
       "  <tbody>\n",
       "    <tr>\n",
       "      <th>3</th>\n",
       "      <td>time_step</td>\n",
       "      <td>8.023500e-01</td>\n",
       "    </tr>\n",
       "    <tr>\n",
       "      <th>4</th>\n",
       "      <td>u_in</td>\n",
       "      <td>1.134042e-01</td>\n",
       "    </tr>\n",
       "    <tr>\n",
       "      <th>2</th>\n",
       "      <td>C</td>\n",
       "      <td>4.349939e-02</td>\n",
       "    </tr>\n",
       "    <tr>\n",
       "      <th>1</th>\n",
       "      <td>R</td>\n",
       "      <td>4.065636e-02</td>\n",
       "    </tr>\n",
       "    <tr>\n",
       "      <th>0</th>\n",
       "      <td>breath_id</td>\n",
       "      <td>8.967797e-05</td>\n",
       "    </tr>\n",
       "    <tr>\n",
       "      <th>5</th>\n",
       "      <td>u_out</td>\n",
       "      <td>4.110633e-07</td>\n",
       "    </tr>\n",
       "  </tbody>\n",
       "</table>\n",
       "</div>"
      ],
      "text/plain": [
       "  Feature_Name  Feature_Importance\n",
       "3    time_step        8.023500e-01\n",
       "4         u_in        1.134042e-01\n",
       "2            C        4.349939e-02\n",
       "1            R        4.065636e-02\n",
       "0    breath_id        8.967797e-05\n",
       "5        u_out        4.110633e-07"
      ]
     },
     "execution_count": 44,
     "metadata": {},
     "output_type": "execute_result"
    }
   ],
   "source": [
    "feat_imp = pd.DataFrame({ \n",
    "    'Feature_Name' : X.columns,\n",
    "    'Feature_Importance' : rf.feature_importances_\n",
    "})\n",
    "feat_imp.sort_values('Feature_Importance', ascending = False)"
   ]
  },
  {
   "cell_type": "code",
   "execution_count": 45,
   "id": "bbee8827",
   "metadata": {},
   "outputs": [
    {
     "data": {
      "text/plain": [
       "<AxesSubplot:ylabel='Feature_Name'>"
      ]
     },
     "execution_count": 45,
     "metadata": {},
     "output_type": "execute_result"
    },
    {
     "data": {
      "image/png": "[encoded data removed]",
      "text/plain": [
       "<Figure size 432x288 with 1 Axes>"
      ]
     },
     "metadata": {
      "needs_background": "light"
     },
     "output_type": "display_data"
    }
   ],
   "source": [
    "feat_imp.sort_values('Feature_Importance').plot.barh('Feature_Name', 'Feature_Importance')"
   ]
  },
  {
   "cell_type": "code",
   "execution_count": null,
   "id": "6b0bb478",
   "metadata": {},
   "outputs": [],
   "source": []
  },
  {
   "cell_type": "code",
   "execution_count": 46,
   "id": "9fdf3f29",
   "metadata": {},
   "outputs": [],
   "source": [
    "RF_train_predict = rf.predict(X_train)\n",
    "RF_validation_predict=rf.predict(X_validation)"
   ]
  },
  {
   "cell_type": "code",
   "execution_count": 47,
   "id": "582acd53",
   "metadata": {},
   "outputs": [],
   "source": [
    "RF_R2_train = r2_score(y_train,RF_train_predict)\n",
    "RF_R2_validation = r2_score(y_validation,RF_validation_predict)\n",
    "\n",
    "RF_MAPE_train = mean_absolute_percentage_error(y_train,RF_train_predict)\n",
    "RF_MAPE_validation = mean_absolute_percentage_error(y_validation,RF_validation_predict)\n",
    "\n",
    "RF_RMSE_train = sqrt(mean_squared_error(y_train,RF_train_predict))\n",
    "RF_RMSE_validation = sqrt(mean_squared_error(y_validation,RF_validation_predict))"
   ]
  },
  {
   "cell_type": "code",
   "execution_count": 48,
   "id": "bedfbbaf",
   "metadata": {},
   "outputs": [
    {
     "data": {
      "text/html": [
       "<div>\n",
       "<style scoped>\n",
       "    .dataframe tbody tr th:only-of-type {\n",
       "        vertical-align: middle;\n",
       "    }\n",
       "\n",
       "    .dataframe tbody tr th {\n",
       "        vertical-align: top;\n",
       "    }\n",
       "\n",
       "    .dataframe thead th {\n",
       "        text-align: right;\n",
       "    }\n",
       "</style>\n",
       "<table border=\"1\" class=\"dataframe\">\n",
       "  <thead>\n",
       "    <tr style=\"text-align: right;\">\n",
       "      <th></th>\n",
       "      <th>R Squared Score</th>\n",
       "      <th>MAPE Score</th>\n",
       "      <th>RMSE Score</th>\n",
       "    </tr>\n",
       "  </thead>\n",
       "  <tbody>\n",
       "    <tr>\n",
       "      <th>RandomForest Regressor</th>\n",
       "      <td>0.746803</td>\n",
       "      <td>0.273719</td>\n",
       "      <td>4.082108</td>\n",
       "    </tr>\n",
       "    <tr>\n",
       "      <th>XGBoost Regressor</th>\n",
       "      <td>0.750880</td>\n",
       "      <td>0.247958</td>\n",
       "      <td>4.049111</td>\n",
       "    </tr>\n",
       "    <tr>\n",
       "      <th>Light Gradient Boosted Machine</th>\n",
       "      <td>0.777182</td>\n",
       "      <td>0.253773</td>\n",
       "      <td>3.829396</td>\n",
       "    </tr>\n",
       "    <tr>\n",
       "      <th>Linear Regression</th>\n",
       "      <td>0.384116</td>\n",
       "      <td>0.488537</td>\n",
       "      <td>6.366561</td>\n",
       "    </tr>\n",
       "  </tbody>\n",
       "</table>\n",
       "</div>"
      ],
      "text/plain": [
       "                                R Squared Score  MAPE Score  RMSE Score\n",
       "RandomForest Regressor                 0.746803    0.273719    4.082108\n",
       "XGBoost Regressor                      0.750880    0.247958    4.049111\n",
       "Light Gradient Boosted Machine         0.777182    0.253773    3.829396\n",
       "Linear Regression                      0.384116    0.488537    6.366561"
      ]
     },
     "execution_count": 48,
     "metadata": {},
     "output_type": "execute_result"
    }
   ],
   "source": [
    "resultsRF = pd.DataFrame({'R Squared Score': RF_R2_validation,\n",
    "                          'MAPE Score':RF_MAPE_validation,\n",
    "                          'RMSE Score':RF_RMSE_validation}\n",
    "                           ,index=['RandomForest Regressor'])\n",
    "\n",
    "results4 = pd.concat([resultsRF,results3])\n",
    "results4"
   ]
  },
  {
   "cell_type": "code",
   "execution_count": null,
   "id": "eda4b83a",
   "metadata": {},
   "outputs": [],
   "source": [
    "visualizer = PredictionError(rf)\n",
    "\n",
    "visualizer.fit(X_train, y_train)  # Fit the training data to the visualizer\n",
    "visualizer.score(X_validation, y_validation)  # Evaluate the model on the test data\n",
    "visualizer.show()                 # Finalize and render the figure"
   ]
  },
  {
   "cell_type": "code",
   "execution_count": null,
   "id": "53c7ab5a",
   "metadata": {},
   "outputs": [],
   "source": [
    "visualizer = ResidualsPlot(rf)\n",
    "\n",
    "visualizer.fit(X_train, y_train)  # Fit the training data to the visualizer\n",
    "visualizer.score(X_validation, y_validation)  # Evaluate the model on the test data\n",
    "visualizer.show()               # Finalize and render the figure"
   ]
  },
  {
   "cell_type": "markdown",
   "id": "f3e4ab8b",
   "metadata": {},
   "source": [
    "## PART - II **LGBM Model Finalization after FE**"
   ]
  },
  {
   "cell_type": "code",
   "execution_count": 1,
   "id": "8028ae93",
   "metadata": {},
   "outputs": [
    {
     "data": {
      "text/plain": [
       "'C:\\\\Users\\\\rajes\\\\Desktop\\\\BYOP Group I'"
      ]
     },
     "execution_count": 1,
     "metadata": {},
     "output_type": "execute_result"
    }
   ],
   "source": [
    "import os\n",
    "os.getcwd()"
   ]
  },
  {
   "cell_type": "code",
   "execution_count": 2,
   "id": "b7a51fc8",
   "metadata": {},
   "outputs": [],
   "source": [
    "path = 'C:\\\\Users\\\\rajes\\\\Desktop\\\\BYOP Group I'"
   ]
  },
  {
   "cell_type": "code",
   "execution_count": 5,
   "id": "7574f1fe",
   "metadata": {},
   "outputs": [],
   "source": [
    "train = pd.read_csv(os.path.join(path, 'train.csv'))\n",
    "test = pd.read_csv(os.path.join(path, 'test.csv'))"
   ]
  },
  {
   "cell_type": "code",
   "execution_count": 6,
   "id": "2a2eabeb",
   "metadata": {},
   "outputs": [
    {
     "name": "stdout",
     "output_type": "stream",
     "text": [
      "set()\n",
      "set()\n"
     ]
    }
   ],
   "source": [
    "print(set(test['breath_id'].unique()).intersection(set(train['breath_id'].unique())))\n",
    "print(set(train['breath_id'].unique()).intersection(set(test['breath_id'].unique())))"
   ]
  },
  {
   "cell_type": "markdown",
   "id": "128f55cc",
   "metadata": {},
   "source": [
    "## Feature Engineering"
   ]
  },
  {
   "cell_type": "code",
   "execution_count": 7,
   "id": "82923cb5",
   "metadata": {},
   "outputs": [],
   "source": [
    "train['last_value_u_in'] = train.groupby('breath_id')['u_in'].transform('last')\n",
    "train['u_in_lag1'] = train.groupby('breath_id')['u_in'].shift(1)\n",
    "train['u_out_lag1'] = train.groupby('breath_id')['u_out'].shift(1)\n",
    "train['u_in_lag_back1'] = train.groupby('breath_id')['u_in'].shift(-1)\n",
    "train['u_out_lag_back1'] = train.groupby('breath_id')['u_out'].shift(-1)\n",
    "train['u_in_lag2'] = train.groupby('breath_id')['u_in'].shift(2)\n",
    "train['u_out_lag2'] = train.groupby('breath_id')['u_out'].shift(2)\n",
    "train['u_in_lag_back2'] = train.groupby('breath_id')['u_in'].shift(-2)\n",
    "train['u_out_lag_back2'] = train.groupby('breath_id')['u_out'].shift(-2)\n",
    "train['u_in_lag3'] = train.groupby('breath_id')['u_in'].shift(3)\n",
    "train['u_out_lag3'] = train.groupby('breath_id')['u_out'].shift(3)\n",
    "train['u_in_lag_back3'] = train.groupby('breath_id')['u_in'].shift(-3)\n",
    "train['u_out_lag_back3'] = train.groupby('breath_id')['u_out'].shift(-3)\n",
    "train = train.fillna(0)\n",
    "\n",
    "\n",
    "train['R__C'] = train[\"R\"].astype(str) + '__' + train[\"C\"].astype(str)\n",
    "\n",
    "# max value of u_in and u_out for each breath\n",
    "train['breath_id__u_in__max'] = train.groupby(['breath_id'])['u_in'].transform('max')\n",
    "train['breath_id__u_out__max'] = train.groupby(['breath_id'])['u_out'].transform('max')\n",
    "\n",
    "# difference between consequitive values\n",
    "train['u_in_diff1'] = train['u_in'] - train['u_in_lag1']\n",
    "train['u_out_diff1'] = train['u_out'] - train['u_out_lag1']\n",
    "train['u_in_diff2'] = train['u_in'] - train['u_in_lag2']\n",
    "train['u_out_diff2'] = train['u_out'] - train['u_out_lag2']\n",
    "\n",
    "train.loc[train['time_step'] == 0, 'u_in_diff'] = 0\n",
    "train.loc[train['time_step'] == 0, 'u_out_diff'] = 0\n",
    "\n",
    "# difference between the current value of u_in and the max value within the breath\n",
    "train['breath_id__u_in__diffmax'] = train.groupby(['breath_id'])['u_in'].transform('max') - train['u_in']\n",
    "train['breath_id__u_in__diffmean'] = train.groupby(['breath_id'])['u_in'].transform('mean') - train['u_in']\n",
    "\n",
    "# OHE\n",
    "train = train.merge(pd.get_dummies(train['R'], prefix='R'), left_index=True, right_index=True).drop(['R'], axis=1)\n",
    "train = train.merge(pd.get_dummies(train['C'], prefix='C'), left_index=True, right_index=True).drop(['C'], axis=1)\n",
    "train = train.merge(pd.get_dummies(train['R__C'], prefix='R__C'), left_index=True, right_index=True).drop(['R__C'], axis=1)\n",
    "\n",
    "\n",
    "train['u_in_cumsum'] = train.groupby(['breath_id'])['u_in'].cumsum()\n",
    "train['time_step_cumsum'] = train.groupby(['breath_id'])['time_step'].cumsum()"
   ]
  },
  {
   "cell_type": "code",
   "execution_count": 17,
   "id": "59c91b91",
   "metadata": {},
   "outputs": [
    {
     "data": {
      "text/html": [
       "<div>\n",
       "<style scoped>\n",
       "    .dataframe tbody tr th:only-of-type {\n",
       "        vertical-align: middle;\n",
       "    }\n",
       "\n",
       "    .dataframe tbody tr th {\n",
       "        vertical-align: top;\n",
       "    }\n",
       "\n",
       "    .dataframe thead th {\n",
       "        text-align: right;\n",
       "    }\n",
       "</style>\n",
       "<table border=\"1\" class=\"dataframe\">\n",
       "  <thead>\n",
       "    <tr style=\"text-align: right;\">\n",
       "      <th></th>\n",
       "      <th>id</th>\n",
       "      <th>breath_id</th>\n",
       "      <th>time_step</th>\n",
       "      <th>u_in</th>\n",
       "      <th>u_out</th>\n",
       "      <th>pressure</th>\n",
       "      <th>last_value_u_in</th>\n",
       "      <th>u_in_lag1</th>\n",
       "      <th>u_out_lag1</th>\n",
       "      <th>u_in_lag_back1</th>\n",
       "      <th>...</th>\n",
       "      <th>R__C_20__20</th>\n",
       "      <th>R__C_20__50</th>\n",
       "      <th>R__C_50__10</th>\n",
       "      <th>R__C_50__20</th>\n",
       "      <th>R__C_50__50</th>\n",
       "      <th>R__C_5__10</th>\n",
       "      <th>R__C_5__20</th>\n",
       "      <th>R__C_5__50</th>\n",
       "      <th>u_in_cumsum</th>\n",
       "      <th>time_step_cumsum</th>\n",
       "    </tr>\n",
       "  </thead>\n",
       "  <tbody>\n",
       "    <tr>\n",
       "      <th>0</th>\n",
       "      <td>1</td>\n",
       "      <td>1</td>\n",
       "      <td>0.000000</td>\n",
       "      <td>0.083334</td>\n",
       "      <td>0</td>\n",
       "      <td>5.837492</td>\n",
       "      <td>4.987079</td>\n",
       "      <td>0.000000</td>\n",
       "      <td>0.0</td>\n",
       "      <td>18.383041</td>\n",
       "      <td>...</td>\n",
       "      <td>0</td>\n",
       "      <td>1</td>\n",
       "      <td>0</td>\n",
       "      <td>0</td>\n",
       "      <td>0</td>\n",
       "      <td>0</td>\n",
       "      <td>0</td>\n",
       "      <td>0</td>\n",
       "      <td>0.083334</td>\n",
       "      <td>0.000000</td>\n",
       "    </tr>\n",
       "    <tr>\n",
       "      <th>1</th>\n",
       "      <td>2</td>\n",
       "      <td>1</td>\n",
       "      <td>0.033652</td>\n",
       "      <td>18.383041</td>\n",
       "      <td>0</td>\n",
       "      <td>5.907794</td>\n",
       "      <td>4.987079</td>\n",
       "      <td>0.083334</td>\n",
       "      <td>0.0</td>\n",
       "      <td>22.509278</td>\n",
       "      <td>...</td>\n",
       "      <td>0</td>\n",
       "      <td>1</td>\n",
       "      <td>0</td>\n",
       "      <td>0</td>\n",
       "      <td>0</td>\n",
       "      <td>0</td>\n",
       "      <td>0</td>\n",
       "      <td>0</td>\n",
       "      <td>18.466375</td>\n",
       "      <td>0.033652</td>\n",
       "    </tr>\n",
       "    <tr>\n",
       "      <th>2</th>\n",
       "      <td>3</td>\n",
       "      <td>1</td>\n",
       "      <td>0.067514</td>\n",
       "      <td>22.509278</td>\n",
       "      <td>0</td>\n",
       "      <td>7.876254</td>\n",
       "      <td>4.987079</td>\n",
       "      <td>18.383041</td>\n",
       "      <td>0.0</td>\n",
       "      <td>22.808822</td>\n",
       "      <td>...</td>\n",
       "      <td>0</td>\n",
       "      <td>1</td>\n",
       "      <td>0</td>\n",
       "      <td>0</td>\n",
       "      <td>0</td>\n",
       "      <td>0</td>\n",
       "      <td>0</td>\n",
       "      <td>0</td>\n",
       "      <td>40.975653</td>\n",
       "      <td>0.101167</td>\n",
       "    </tr>\n",
       "    <tr>\n",
       "      <th>3</th>\n",
       "      <td>4</td>\n",
       "      <td>1</td>\n",
       "      <td>0.101542</td>\n",
       "      <td>22.808822</td>\n",
       "      <td>0</td>\n",
       "      <td>11.742872</td>\n",
       "      <td>4.987079</td>\n",
       "      <td>22.509278</td>\n",
       "      <td>0.0</td>\n",
       "      <td>25.355850</td>\n",
       "      <td>...</td>\n",
       "      <td>0</td>\n",
       "      <td>1</td>\n",
       "      <td>0</td>\n",
       "      <td>0</td>\n",
       "      <td>0</td>\n",
       "      <td>0</td>\n",
       "      <td>0</td>\n",
       "      <td>0</td>\n",
       "      <td>63.784476</td>\n",
       "      <td>0.202709</td>\n",
       "    </tr>\n",
       "    <tr>\n",
       "      <th>4</th>\n",
       "      <td>5</td>\n",
       "      <td>1</td>\n",
       "      <td>0.135756</td>\n",
       "      <td>25.355850</td>\n",
       "      <td>0</td>\n",
       "      <td>12.234987</td>\n",
       "      <td>4.987079</td>\n",
       "      <td>22.808822</td>\n",
       "      <td>0.0</td>\n",
       "      <td>27.259866</td>\n",
       "      <td>...</td>\n",
       "      <td>0</td>\n",
       "      <td>1</td>\n",
       "      <td>0</td>\n",
       "      <td>0</td>\n",
       "      <td>0</td>\n",
       "      <td>0</td>\n",
       "      <td>0</td>\n",
       "      <td>0</td>\n",
       "      <td>89.140326</td>\n",
       "      <td>0.338464</td>\n",
       "    </tr>\n",
       "  </tbody>\n",
       "</table>\n",
       "<p>5 rows × 46 columns</p>\n",
       "</div>"
      ],
      "text/plain": [
       "   id  breath_id  time_step       u_in  u_out   pressure  last_value_u_in  \\\n",
       "0   1          1   0.000000   0.083334      0   5.837492         4.987079   \n",
       "1   2          1   0.033652  18.383041      0   5.907794         4.987079   \n",
       "2   3          1   0.067514  22.509278      0   7.876254         4.987079   \n",
       "3   4          1   0.101542  22.808822      0  11.742872         4.987079   \n",
       "4   5          1   0.135756  25.355850      0  12.234987         4.987079   \n",
       "\n",
       "   u_in_lag1  u_out_lag1  u_in_lag_back1  ...  R__C_20__20  R__C_20__50  \\\n",
       "0   0.000000         0.0       18.383041  ...            0            1   \n",
       "1   0.083334         0.0       22.509278  ...            0            1   \n",
       "2  18.383041         0.0       22.808822  ...            0            1   \n",
       "3  22.509278         0.0       25.355850  ...            0            1   \n",
       "4  22.808822         0.0       27.259866  ...            0            1   \n",
       "\n",
       "   R__C_50__10  R__C_50__20  R__C_50__50  R__C_5__10  R__C_5__20  R__C_5__50  \\\n",
       "0            0            0            0           0           0           0   \n",
       "1            0            0            0           0           0           0   \n",
       "2            0            0            0           0           0           0   \n",
       "3            0            0            0           0           0           0   \n",
       "4            0            0            0           0           0           0   \n",
       "\n",
       "   u_in_cumsum  time_step_cumsum  \n",
       "0     0.083334          0.000000  \n",
       "1    18.466375          0.033652  \n",
       "2    40.975653          0.101167  \n",
       "3    63.784476          0.202709  \n",
       "4    89.140326          0.338464  \n",
       "\n",
       "[5 rows x 46 columns]"
      ]
     },
     "execution_count": 17,
     "metadata": {},
     "output_type": "execute_result"
    }
   ],
   "source": [
    "train.head()"
   ]
  },
  {
   "cell_type": "code",
   "execution_count": 8,
   "id": "339e538f",
   "metadata": {},
   "outputs": [],
   "source": [
    "# all the same for the test data\n",
    "test['last_value_u_in'] = test.groupby('breath_id')['u_in'].transform('last')\n",
    "test['u_in_lag1'] = test.groupby('breath_id')['u_in'].shift(1)\n",
    "test['u_out_lag1'] = test.groupby('breath_id')['u_out'].shift(1)\n",
    "test['u_in_lag_back1'] = test.groupby('breath_id')['u_in'].shift(-1)\n",
    "test['u_out_lag_back1'] = test.groupby('breath_id')['u_out'].shift(-1)\n",
    "test['u_in_lag2'] = test.groupby('breath_id')['u_in'].shift(2)\n",
    "test['u_out_lag2'] = test.groupby('breath_id')['u_out'].shift(2)\n",
    "test['u_in_lag_back2'] = test.groupby('breath_id')['u_in'].shift(-2)\n",
    "test['u_out_lag_back2'] = test.groupby('breath_id')['u_out'].shift(-2)\n",
    "test['u_in_lag3'] = test.groupby('breath_id')['u_in'].shift(3)\n",
    "test['u_out_lag3'] = test.groupby('breath_id')['u_out'].shift(3)\n",
    "test['u_in_lag_back3'] = test.groupby('breath_id')['u_in'].shift(-3)\n",
    "test['u_out_lag_back3'] = test.groupby('breath_id')['u_out'].shift(-3)\n",
    "test = test.fillna(0)\n",
    "test['R__C'] = test[\"R\"].astype(str) + '__' + test[\"C\"].astype(str)\n",
    "\n",
    "test['breath_id__u_in__max'] = test.groupby(['breath_id'])['u_in'].transform('max')\n",
    "test['breath_id__u_out__max'] = test.groupby(['breath_id'])['u_out'].transform('max')\n",
    "\n",
    "test['u_in_diff1'] = test['u_in'] - test['u_in_lag1']\n",
    "test['u_out_diff1'] = test['u_out'] - test['u_out_lag1']\n",
    "test['u_in_diff2'] = test['u_in'] - test['u_in_lag2']\n",
    "test['u_out_diff2'] = test['u_out'] - test['u_out_lag2']\n",
    "test.loc[test['time_step'] == 0, 'u_in_diff'] = 0\n",
    "test.loc[test['time_step'] == 0, 'u_out_diff'] = 0\n",
    "\n",
    "test['breath_id__u_in__diffmax'] = test.groupby(['breath_id'])['u_in'].transform('max') - test['u_in']\n",
    "test['breath_id__u_in__diffmean'] = test.groupby(['breath_id'])['u_in'].transform('mean') - test['u_in']\n",
    "\n",
    "test = test.merge(pd.get_dummies(test['R'], prefix='R'), left_index=True, right_index=True).drop(['R'], axis=1)\n",
    "test = test.merge(pd.get_dummies(test['C'], prefix='C'), left_index=True, right_index=True).drop(['C'], axis=1)\n",
    "test = test.merge(pd.get_dummies(test['R__C'], prefix='R__C'), left_index=True, right_index=True).drop(['R__C'], axis=1)\n",
    "\n",
    "test['u_in_cumsum'] = test.groupby(['breath_id'])['u_in'].cumsum()\n",
    "test['time_step_cumsum'] = test.groupby(['breath_id'])['time_step'].cumsum()"
   ]
  },
  {
   "cell_type": "code",
   "execution_count": 18,
   "id": "2a57b4e0",
   "metadata": {},
   "outputs": [
    {
     "data": {
      "text/html": [
       "<div>\n",
       "<style scoped>\n",
       "    .dataframe tbody tr th:only-of-type {\n",
       "        vertical-align: middle;\n",
       "    }\n",
       "\n",
       "    .dataframe tbody tr th {\n",
       "        vertical-align: top;\n",
       "    }\n",
       "\n",
       "    .dataframe thead th {\n",
       "        text-align: right;\n",
       "    }\n",
       "</style>\n",
       "<table border=\"1\" class=\"dataframe\">\n",
       "  <thead>\n",
       "    <tr style=\"text-align: right;\">\n",
       "      <th></th>\n",
       "      <th>id</th>\n",
       "      <th>breath_id</th>\n",
       "      <th>time_step</th>\n",
       "      <th>u_in</th>\n",
       "      <th>u_out</th>\n",
       "      <th>last_value_u_in</th>\n",
       "      <th>u_in_lag1</th>\n",
       "      <th>u_out_lag1</th>\n",
       "      <th>u_in_lag_back1</th>\n",
       "      <th>u_out_lag_back1</th>\n",
       "      <th>...</th>\n",
       "      <th>R__C_20__20</th>\n",
       "      <th>R__C_20__50</th>\n",
       "      <th>R__C_50__10</th>\n",
       "      <th>R__C_50__20</th>\n",
       "      <th>R__C_50__50</th>\n",
       "      <th>R__C_5__10</th>\n",
       "      <th>R__C_5__20</th>\n",
       "      <th>R__C_5__50</th>\n",
       "      <th>u_in_cumsum</th>\n",
       "      <th>time_step_cumsum</th>\n",
       "    </tr>\n",
       "  </thead>\n",
       "  <tbody>\n",
       "    <tr>\n",
       "      <th>0</th>\n",
       "      <td>1</td>\n",
       "      <td>0</td>\n",
       "      <td>0.000000</td>\n",
       "      <td>0.000000</td>\n",
       "      <td>0</td>\n",
       "      <td>4.973375</td>\n",
       "      <td>0.000000</td>\n",
       "      <td>0.0</td>\n",
       "      <td>7.515046</td>\n",
       "      <td>0.0</td>\n",
       "      <td>...</td>\n",
       "      <td>0</td>\n",
       "      <td>0</td>\n",
       "      <td>0</td>\n",
       "      <td>0</td>\n",
       "      <td>0</td>\n",
       "      <td>0</td>\n",
       "      <td>1</td>\n",
       "      <td>0</td>\n",
       "      <td>0.000000</td>\n",
       "      <td>0.000000</td>\n",
       "    </tr>\n",
       "    <tr>\n",
       "      <th>1</th>\n",
       "      <td>2</td>\n",
       "      <td>0</td>\n",
       "      <td>0.031904</td>\n",
       "      <td>7.515046</td>\n",
       "      <td>0</td>\n",
       "      <td>4.973375</td>\n",
       "      <td>0.000000</td>\n",
       "      <td>0.0</td>\n",
       "      <td>14.651675</td>\n",
       "      <td>0.0</td>\n",
       "      <td>...</td>\n",
       "      <td>0</td>\n",
       "      <td>0</td>\n",
       "      <td>0</td>\n",
       "      <td>0</td>\n",
       "      <td>0</td>\n",
       "      <td>0</td>\n",
       "      <td>1</td>\n",
       "      <td>0</td>\n",
       "      <td>7.515046</td>\n",
       "      <td>0.031904</td>\n",
       "    </tr>\n",
       "    <tr>\n",
       "      <th>2</th>\n",
       "      <td>3</td>\n",
       "      <td>0</td>\n",
       "      <td>0.063827</td>\n",
       "      <td>14.651675</td>\n",
       "      <td>0</td>\n",
       "      <td>4.973375</td>\n",
       "      <td>7.515046</td>\n",
       "      <td>0.0</td>\n",
       "      <td>21.230610</td>\n",
       "      <td>0.0</td>\n",
       "      <td>...</td>\n",
       "      <td>0</td>\n",
       "      <td>0</td>\n",
       "      <td>0</td>\n",
       "      <td>0</td>\n",
       "      <td>0</td>\n",
       "      <td>0</td>\n",
       "      <td>1</td>\n",
       "      <td>0</td>\n",
       "      <td>22.166721</td>\n",
       "      <td>0.095731</td>\n",
       "    </tr>\n",
       "    <tr>\n",
       "      <th>3</th>\n",
       "      <td>4</td>\n",
       "      <td>0</td>\n",
       "      <td>0.095751</td>\n",
       "      <td>21.230610</td>\n",
       "      <td>0</td>\n",
       "      <td>4.973375</td>\n",
       "      <td>14.651675</td>\n",
       "      <td>0.0</td>\n",
       "      <td>26.320956</td>\n",
       "      <td>0.0</td>\n",
       "      <td>...</td>\n",
       "      <td>0</td>\n",
       "      <td>0</td>\n",
       "      <td>0</td>\n",
       "      <td>0</td>\n",
       "      <td>0</td>\n",
       "      <td>0</td>\n",
       "      <td>1</td>\n",
       "      <td>0</td>\n",
       "      <td>43.397331</td>\n",
       "      <td>0.191482</td>\n",
       "    </tr>\n",
       "    <tr>\n",
       "      <th>4</th>\n",
       "      <td>5</td>\n",
       "      <td>0</td>\n",
       "      <td>0.127644</td>\n",
       "      <td>26.320956</td>\n",
       "      <td>0</td>\n",
       "      <td>4.973375</td>\n",
       "      <td>21.230610</td>\n",
       "      <td>0.0</td>\n",
       "      <td>30.486938</td>\n",
       "      <td>0.0</td>\n",
       "      <td>...</td>\n",
       "      <td>0</td>\n",
       "      <td>0</td>\n",
       "      <td>0</td>\n",
       "      <td>0</td>\n",
       "      <td>0</td>\n",
       "      <td>0</td>\n",
       "      <td>1</td>\n",
       "      <td>0</td>\n",
       "      <td>69.718287</td>\n",
       "      <td>0.319126</td>\n",
       "    </tr>\n",
       "  </tbody>\n",
       "</table>\n",
       "<p>5 rows × 45 columns</p>\n",
       "</div>"
      ],
      "text/plain": [
       "   id  breath_id  time_step       u_in  u_out  last_value_u_in  u_in_lag1  \\\n",
       "0   1          0   0.000000   0.000000      0         4.973375   0.000000   \n",
       "1   2          0   0.031904   7.515046      0         4.973375   0.000000   \n",
       "2   3          0   0.063827  14.651675      0         4.973375   7.515046   \n",
       "3   4          0   0.095751  21.230610      0         4.973375  14.651675   \n",
       "4   5          0   0.127644  26.320956      0         4.973375  21.230610   \n",
       "\n",
       "   u_out_lag1  u_in_lag_back1  u_out_lag_back1  ...  R__C_20__20  R__C_20__50  \\\n",
       "0         0.0        7.515046              0.0  ...            0            0   \n",
       "1         0.0       14.651675              0.0  ...            0            0   \n",
       "2         0.0       21.230610              0.0  ...            0            0   \n",
       "3         0.0       26.320956              0.0  ...            0            0   \n",
       "4         0.0       30.486938              0.0  ...            0            0   \n",
       "\n",
       "   R__C_50__10  R__C_50__20  R__C_50__50  R__C_5__10  R__C_5__20  R__C_5__50  \\\n",
       "0            0            0            0           0           1           0   \n",
       "1            0            0            0           0           1           0   \n",
       "2            0            0            0           0           1           0   \n",
       "3            0            0            0           0           1           0   \n",
       "4            0            0            0           0           1           0   \n",
       "\n",
       "   u_in_cumsum  time_step_cumsum  \n",
       "0     0.000000          0.000000  \n",
       "1     7.515046          0.031904  \n",
       "2    22.166721          0.095731  \n",
       "3    43.397331          0.191482  \n",
       "4    69.718287          0.319126  \n",
       "\n",
       "[5 rows x 45 columns]"
      ]
     },
     "execution_count": 18,
     "metadata": {},
     "output_type": "execute_result"
    }
   ],
   "source": [
    "test.head()"
   ]
  },
  {
   "cell_type": "markdown",
   "id": "93316421",
   "metadata": {},
   "source": [
    "## LGBM model Selection for final Predection after FE "
   ]
  },
  {
   "cell_type": "code",
   "execution_count": 9,
   "id": "7f79ebd1",
   "metadata": {},
   "outputs": [],
   "source": [
    "from sklearn.model_selection import GroupKFold\n",
    "from sklearn import metrics\n",
    "import time"
   ]
  },
  {
   "cell_type": "code",
   "execution_count": 10,
   "id": "fbe75e01",
   "metadata": {},
   "outputs": [],
   "source": [
    "scores = []\n",
    "feature_importance = pd.DataFrame()\n",
    "models = []\n",
    "columns = [col for col in train.columns if col not in ['id', 'breath_id', 'pressure']]\n",
    "X = train[columns]\n",
    "y = train['pressure']"
   ]
  },
  {
   "cell_type": "code",
   "execution_count": 11,
   "id": "3c904b8f",
   "metadata": {},
   "outputs": [],
   "source": [
    "params = {'objective': 'regression',\n",
    "          'learning_rate': 0.3,\n",
    "          \"boosting_type\": \"gbdt\",\n",
    "          \"metric\": 'mae',\n",
    "          'n_jobs': -1,\n",
    "          'min_data_in_leaf':32,\n",
    "          'num_leaves':1024,\n",
    "         }"
   ]
  },
  {
   "cell_type": "code",
   "execution_count": 12,
   "id": "b77fd89f",
   "metadata": {},
   "outputs": [
    {
     "name": "stdout",
     "output_type": "stream",
     "text": [
      "Fold 0 started at Mon Jul  4 11:13:33 2022\n"
     ]
    },
    {
     "name": "stderr",
     "output_type": "stream",
     "text": [
      "C:\\Users\\rajes\\anaconda3\\lib\\site-packages\\lightgbm\\sklearn.py:726: UserWarning: 'early_stopping_rounds' argument is deprecated and will be removed in a future release of LightGBM. Pass 'early_stopping()' callback via 'callbacks' argument instead.\n",
      "  _log_warning(\"'early_stopping_rounds' argument is deprecated and will be removed in a future release of LightGBM. \"\n",
      "C:\\Users\\rajes\\anaconda3\\lib\\site-packages\\lightgbm\\sklearn.py:736: UserWarning: 'verbose' argument is deprecated and will be removed in a future release of LightGBM. Pass 'log_evaluation()' callback via 'callbacks' argument instead.\n",
      "  _log_warning(\"'verbose' argument is deprecated and will be removed in a future release of LightGBM. \"\n"
     ]
    },
    {
     "name": "stdout",
     "output_type": "stream",
     "text": [
      "[LightGBM] [Warning] min_data_in_leaf is set=32, min_child_samples=20 will be ignored. Current value: min_data_in_leaf=32\n",
      "[1000]\ttraining's l1: 0.195863\tvalid_1's l1: 0.364183\n",
      "Fold 1 started at Mon Jul  4 11:18:09 2022\n"
     ]
    },
    {
     "name": "stderr",
     "output_type": "stream",
     "text": [
      "C:\\Users\\rajes\\anaconda3\\lib\\site-packages\\lightgbm\\sklearn.py:726: UserWarning: 'early_stopping_rounds' argument is deprecated and will be removed in a future release of LightGBM. Pass 'early_stopping()' callback via 'callbacks' argument instead.\n",
      "  _log_warning(\"'early_stopping_rounds' argument is deprecated and will be removed in a future release of LightGBM. \"\n",
      "C:\\Users\\rajes\\anaconda3\\lib\\site-packages\\lightgbm\\sklearn.py:736: UserWarning: 'verbose' argument is deprecated and will be removed in a future release of LightGBM. Pass 'log_evaluation()' callback via 'callbacks' argument instead.\n",
      "  _log_warning(\"'verbose' argument is deprecated and will be removed in a future release of LightGBM. \"\n"
     ]
    },
    {
     "name": "stdout",
     "output_type": "stream",
     "text": [
      "[LightGBM] [Warning] min_data_in_leaf is set=32, min_child_samples=20 will be ignored. Current value: min_data_in_leaf=32\n",
      "[1000]\ttraining's l1: 0.19484\tvalid_1's l1: 0.364942\n",
      "Fold 2 started at Mon Jul  4 11:23:27 2022\n"
     ]
    },
    {
     "name": "stderr",
     "output_type": "stream",
     "text": [
      "C:\\Users\\rajes\\anaconda3\\lib\\site-packages\\lightgbm\\sklearn.py:726: UserWarning: 'early_stopping_rounds' argument is deprecated and will be removed in a future release of LightGBM. Pass 'early_stopping()' callback via 'callbacks' argument instead.\n",
      "  _log_warning(\"'early_stopping_rounds' argument is deprecated and will be removed in a future release of LightGBM. \"\n",
      "C:\\Users\\rajes\\anaconda3\\lib\\site-packages\\lightgbm\\sklearn.py:736: UserWarning: 'verbose' argument is deprecated and will be removed in a future release of LightGBM. Pass 'log_evaluation()' callback via 'callbacks' argument instead.\n",
      "  _log_warning(\"'verbose' argument is deprecated and will be removed in a future release of LightGBM. \"\n"
     ]
    },
    {
     "name": "stdout",
     "output_type": "stream",
     "text": [
      "[LightGBM] [Warning] min_data_in_leaf is set=32, min_child_samples=20 will be ignored. Current value: min_data_in_leaf=32\n",
      "[1000]\ttraining's l1: 0.194952\tvalid_1's l1: 0.365763\n",
      "Fold 3 started at Mon Jul  4 11:29:01 2022\n"
     ]
    },
    {
     "name": "stderr",
     "output_type": "stream",
     "text": [
      "C:\\Users\\rajes\\anaconda3\\lib\\site-packages\\lightgbm\\sklearn.py:726: UserWarning: 'early_stopping_rounds' argument is deprecated and will be removed in a future release of LightGBM. Pass 'early_stopping()' callback via 'callbacks' argument instead.\n",
      "  _log_warning(\"'early_stopping_rounds' argument is deprecated and will be removed in a future release of LightGBM. \"\n",
      "C:\\Users\\rajes\\anaconda3\\lib\\site-packages\\lightgbm\\sklearn.py:736: UserWarning: 'verbose' argument is deprecated and will be removed in a future release of LightGBM. Pass 'log_evaluation()' callback via 'callbacks' argument instead.\n",
      "  _log_warning(\"'verbose' argument is deprecated and will be removed in a future release of LightGBM. \"\n"
     ]
    },
    {
     "name": "stdout",
     "output_type": "stream",
     "text": [
      "[LightGBM] [Warning] min_data_in_leaf is set=32, min_child_samples=20 will be ignored. Current value: min_data_in_leaf=32\n",
      "[1000]\ttraining's l1: 0.195643\tvalid_1's l1: 0.363522\n",
      "Fold 4 started at Mon Jul  4 11:36:00 2022\n"
     ]
    },
    {
     "name": "stderr",
     "output_type": "stream",
     "text": [
      "C:\\Users\\rajes\\anaconda3\\lib\\site-packages\\lightgbm\\sklearn.py:726: UserWarning: 'early_stopping_rounds' argument is deprecated and will be removed in a future release of LightGBM. Pass 'early_stopping()' callback via 'callbacks' argument instead.\n",
      "  _log_warning(\"'early_stopping_rounds' argument is deprecated and will be removed in a future release of LightGBM. \"\n",
      "C:\\Users\\rajes\\anaconda3\\lib\\site-packages\\lightgbm\\sklearn.py:736: UserWarning: 'verbose' argument is deprecated and will be removed in a future release of LightGBM. Pass 'log_evaluation()' callback via 'callbacks' argument instead.\n",
      "  _log_warning(\"'verbose' argument is deprecated and will be removed in a future release of LightGBM. \"\n"
     ]
    },
    {
     "name": "stdout",
     "output_type": "stream",
     "text": [
      "[LightGBM] [Warning] min_data_in_leaf is set=32, min_child_samples=20 will be ignored. Current value: min_data_in_leaf=32\n",
      "[1000]\ttraining's l1: 0.195397\tvalid_1's l1: 0.365691\n"
     ]
    }
   ],
   "source": [
    "folds = GroupKFold(n_splits=5)\n",
    "for fold_n, (train_index, valid_index) in enumerate(folds.split(train, y, groups=train['breath_id'])):\n",
    "    print(f'Fold {fold_n} started at {time.ctime()}')\n",
    "    X_train, X_valid = X[columns].iloc[train_index], X[columns].iloc[valid_index]\n",
    "    y_train, y_valid = y.iloc[train_index], y.iloc[valid_index]\n",
    "    model = lgb.LGBMRegressor(**params, n_estimators=10000)\n",
    "    model.fit(X_train, y_train, \n",
    "            eval_set=[(X_train, y_train), (X_valid, y_valid)],\n",
    "            verbose=1000, early_stopping_rounds=15)\n",
    "    score = metrics.mean_absolute_error(y_valid, model.predict(X_valid))\n",
    "    \n",
    "    models.append(model)\n",
    "    scores.append(score)\n",
    "\n",
    "    fold_importance = pd.DataFrame()\n",
    "    fold_importance[\"feature\"] = columns\n",
    "    fold_importance[\"importance\"] = model.feature_importances_\n",
    "    fold_importance[\"fold\"] = fold_n + 1\n",
    "    feature_importance = pd.concat([feature_importance, fold_importance], axis=0)"
   ]
  },
  {
   "cell_type": "code",
   "execution_count": 13,
   "id": "80ad0540",
   "metadata": {},
   "outputs": [
    {
     "name": "stdout",
     "output_type": "stream",
     "text": [
      "CV mean score: 0.3632, std: 0.0013.\n"
     ]
    }
   ],
   "source": [
    "print('CV mean score: {0:.4f}, std: {1:.4f}.'.format(np.mean(scores), np.std(scores)))"
   ]
  },
  {
   "cell_type": "code",
   "execution_count": 14,
   "id": "9f6d6c18",
   "metadata": {},
   "outputs": [
    {
     "data": {
      "image/png": "[encoded data removed]",
      "text/plain": [
       "<Figure size 1152x864 with 1 Axes>"
      ]
     },
     "metadata": {
      "needs_background": "light"
     },
     "output_type": "display_data"
    }
   ],
   "source": [
    "feature_importance[\"importance\"] /= 5\n",
    "cols = feature_importance[[\"feature\", \"importance\"]].groupby(\"feature\").mean().sort_values(\n",
    "    by=\"importance\", ascending=False)[:50].index\n",
    "\n",
    "best_features = feature_importance.loc[feature_importance.feature.isin(cols)]\n",
    "\n",
    "plt.figure(figsize=(16, 12));\n",
    "sns.barplot(x=\"importance\", y=\"feature\", data=best_features.sort_values(by=\"importance\", ascending=False));\n",
    "plt.title('LGB Features (avg over folds)');"
   ]
  },
  {
   "cell_type": "code",
   "execution_count": 15,
   "id": "5fa0b566",
   "metadata": {},
   "outputs": [
    {
     "name": "stdout",
     "output_type": "stream",
     "text": [
      "LGBMRegressor(learning_rate=0.3, metric='mae', min_data_in_leaf=32,\n",
      "              n_estimators=10000, num_leaves=1024, objective='regression')\n",
      "LGBMRegressor(learning_rate=0.3, metric='mae', min_data_in_leaf=32,\n",
      "              n_estimators=10000, num_leaves=1024, objective='regression')\n",
      "LGBMRegressor(learning_rate=0.3, metric='mae', min_data_in_leaf=32,\n",
      "              n_estimators=10000, num_leaves=1024, objective='regression')\n",
      "LGBMRegressor(learning_rate=0.3, metric='mae', min_data_in_leaf=32,\n",
      "              n_estimators=10000, num_leaves=1024, objective='regression')\n",
      "LGBMRegressor(learning_rate=0.3, metric='mae', min_data_in_leaf=32,\n",
      "              n_estimators=10000, num_leaves=1024, objective='regression')\n"
     ]
    }
   ],
   "source": [
    "for model in models:\n",
    "    print(model)"
   ]
  },
  {
   "cell_type": "code",
   "execution_count": 16,
   "id": "da473bf7",
   "metadata": {},
   "outputs": [],
   "source": [
    "LGBMR_train_predict = model.predict(X_train)\n",
    "LGBMR_validation_predict = model.predict(X_valid)"
   ]
  },
  {
   "cell_type": "code",
   "execution_count": 34,
   "id": "9d35ae6d",
   "metadata": {},
   "outputs": [],
   "source": [
    "LGBM_R2_train = r2_score(y_train,LGBMR_train_predict)\n",
    "LGBM_R2_validation = r2_score(y_valid,LGBMR_validation_predict)\n",
    "\n",
    "LGBM_MAPE_train = mean_absolute_percentage_error(y_train,LGBMR_train_predict)\n",
    "LGBM_MAPE_validation =mean_absolute_percentage_error(y_valid,LGBMR_validation_predict)\n",
    "\n",
    "LGBM_RMSE_train = sqrt(mean_squared_error(y_train,LGBMR_train_predict))\n",
    "LGBM_RMSE_validation =sqrt(mean_squared_error(y_valid,LGBMR_validation_predict))"
   ]
  },
  {
   "cell_type": "code",
   "execution_count": 35,
   "id": "de2447d3",
   "metadata": {},
   "outputs": [
    {
     "data": {
      "text/html": [
       "<div>\n",
       "<style scoped>\n",
       "    .dataframe tbody tr th:only-of-type {\n",
       "        vertical-align: middle;\n",
       "    }\n",
       "\n",
       "    .dataframe tbody tr th {\n",
       "        vertical-align: top;\n",
       "    }\n",
       "\n",
       "    .dataframe thead th {\n",
       "        text-align: right;\n",
       "    }\n",
       "</style>\n",
       "<table border=\"1\" class=\"dataframe\">\n",
       "  <thead>\n",
       "    <tr style=\"text-align: right;\">\n",
       "      <th></th>\n",
       "      <th>R Squared Score</th>\n",
       "      <th>MAPE Score</th>\n",
       "      <th>RMSE Score</th>\n",
       "    </tr>\n",
       "  </thead>\n",
       "  <tbody>\n",
       "    <tr>\n",
       "      <th>Light Gradient Boosted Machine</th>\n",
       "      <td>0.993824</td>\n",
       "      <td>0.038992</td>\n",
       "      <td>0.637521</td>\n",
       "    </tr>\n",
       "  </tbody>\n",
       "</table>\n",
       "</div>"
      ],
      "text/plain": [
       "                                R Squared Score  MAPE Score  RMSE Score\n",
       "Light Gradient Boosted Machine         0.993824    0.038992    0.637521"
      ]
     },
     "execution_count": 35,
     "metadata": {},
     "output_type": "execute_result"
    }
   ],
   "source": [
    "resultsLR = pd.DataFrame({'R Squared Score': LGBM_R2_validation,\n",
    "                          'MAPE Score':LGBM_MAPE_validation,\n",
    "                         'RMSE Score':LGBM_RMSE_validation}\n",
    "                           ,index=['Light Gradient Boosted Machine'])\n",
    "\n",
    "resultsLR"
   ]
  },
  {
   "cell_type": "code",
   "execution_count": 36,
   "id": "c2212fb0",
   "metadata": {},
   "outputs": [],
   "source": [
    "from yellowbrick.regressor import PredictionError"
   ]
  },
  {
   "cell_type": "code",
   "execution_count": 37,
   "id": "664fde83",
   "metadata": {},
   "outputs": [
    {
     "data": {
      "image/png": "[encoded data removed]",
      "text/plain": [
       "<Figure size 576x396 with 1 Axes>"
      ]
     },
     "metadata": {},
     "output_type": "display_data"
    },
    {
     "data": {
      "text/plain": [
       "<AxesSubplot:title={'center':'Prediction Error for LGBMRegressor'}, xlabel='$y$', ylabel='$\\\\hat{y}$'>"
      ]
     },
     "execution_count": 37,
     "metadata": {},
     "output_type": "execute_result"
    }
   ],
   "source": [
    "visualizer = PredictionError(model)\n",
    "\n",
    "visualizer.fit(X_train, y_train)  # Fit the training data to the visualizer\n",
    "visualizer.score(X_valid, y_valid)  # Evaluate the model on the test data\n",
    "visualizer.show()                 # Fit Show Map"
   ]
  },
  {
   "cell_type": "code",
   "execution_count": 38,
   "id": "e612b5a4",
   "metadata": {},
   "outputs": [],
   "source": [
    "from yellowbrick.regressor import ResidualsPlot"
   ]
  },
  {
   "cell_type": "code",
   "execution_count": 39,
   "id": "51bac3e6",
   "metadata": {},
   "outputs": [
    {
     "data": {
      "image/png": "[encoded data removed]",
      "text/plain": [
       "<Figure size 576x396 with 2 Axes>"
      ]
     },
     "metadata": {},
     "output_type": "display_data"
    },
    {
     "data": {
      "text/plain": [
       "<AxesSubplot:title={'center':'Residuals for LGBMRegressor Model'}, xlabel='Predicted Value', ylabel='Residuals'>"
      ]
     },
     "execution_count": 39,
     "metadata": {},
     "output_type": "execute_result"
    }
   ],
   "source": [
    "visualizer = ResidualsPlot(model)\n",
    "\n",
    "visualizer.fit(X_train, y_train)  # Fit the training data to the visualizer\n",
    "visualizer.score(X_valid, y_valid)  # Evaluate the model on the test data\n",
    "visualizer.show()               # Finalize and render the figure"
   ]
  },
  {
   "cell_type": "code",
   "execution_count": 17,
   "id": "9415d165",
   "metadata": {},
   "outputs": [],
   "source": [
    "Final_Prediction = model.predict(test[columns])"
   ]
  },
  {
   "cell_type": "code",
   "execution_count": 43,
   "id": "4e5ce482",
   "metadata": {},
   "outputs": [],
   "source": [
    "Submission=pd.read_csv('Submission.csv')"
   ]
  },
  {
   "cell_type": "code",
   "execution_count": 44,
   "id": "7fe242b5",
   "metadata": {},
   "outputs": [
    {
     "name": "stderr",
     "output_type": "stream",
     "text": [
      "<ipython-input-44-e10adf72f465>:1: UserWarning: Pandas doesn't allow columns to be created via a new attribute name - see https://pandas.pydata.org/pandas-docs/stable/indexing.html#attribute-access\n",
      "  Submission.pressure = Final_Prediction\n"
     ]
    }
   ],
   "source": [
    "Submission.pressure = Final_Prediction"
   ]
  },
  {
   "cell_type": "code",
   "execution_count": 45,
   "id": "aac241c6",
   "metadata": {
    "papermill": {
     "duration": null,
     "end_time": null,
     "exception": null,
     "start_time": null,
     "status": "pending"
    },
    "tags": []
   },
   "outputs": [
    {
     "data": {
      "text/html": [
       "<div>\n",
       "<style scoped>\n",
       "    .dataframe tbody tr th:only-of-type {\n",
       "        vertical-align: middle;\n",
       "    }\n",
       "\n",
       "    .dataframe tbody tr th {\n",
       "        vertical-align: top;\n",
       "    }\n",
       "\n",
       "    .dataframe thead th {\n",
       "        text-align: right;\n",
       "    }\n",
       "</style>\n",
       "<table border=\"1\" class=\"dataframe\">\n",
       "  <thead>\n",
       "    <tr style=\"text-align: right;\">\n",
       "      <th></th>\n",
       "      <th>6.479057205575613487e+00</th>\n",
       "    </tr>\n",
       "  </thead>\n",
       "  <tbody>\n",
       "    <tr>\n",
       "      <th>0</th>\n",
       "      <td>6.059026</td>\n",
       "    </tr>\n",
       "    <tr>\n",
       "      <th>1</th>\n",
       "      <td>7.157465</td>\n",
       "    </tr>\n",
       "    <tr>\n",
       "      <th>2</th>\n",
       "      <td>7.899375</td>\n",
       "    </tr>\n",
       "    <tr>\n",
       "      <th>3</th>\n",
       "      <td>9.315924</td>\n",
       "    </tr>\n",
       "    <tr>\n",
       "      <th>4</th>\n",
       "      <td>10.344127</td>\n",
       "    </tr>\n",
       "  </tbody>\n",
       "</table>\n",
       "</div>"
      ],
      "text/plain": [
       "   6.479057205575613487e+00\n",
       "0                  6.059026\n",
       "1                  7.157465\n",
       "2                  7.899375\n",
       "3                  9.315924\n",
       "4                 10.344127"
      ]
     },
     "execution_count": 45,
     "metadata": {},
     "output_type": "execute_result"
    }
   ],
   "source": [
    "Submission.head()"
   ]
  },
  {
   "cell_type": "code",
   "execution_count": null,
   "id": "e5ba8df6",
   "metadata": {},
   "outputs": [],
   "source": []
  },
  {
   "cell_type": "code",
   "execution_count": null,
   "id": "501218fa",
   "metadata": {},
   "outputs": [],
   "source": []
  },
  {
   "cell_type": "code",
   "execution_count": null,
   "id": "23cb1067",
   "metadata": {
    "papermill": {
     "duration": null,
     "end_time": null,
     "exception": null,
     "start_time": null,
     "status": "pending"
    },
    "tags": []
   },
   "outputs": [],
   "source": []
  }
 ],
 "metadata": {
  "kernelspec": {
   "display_name": "Python 3 (ipykernel)",
   "language": "python",
   "name": "python3"
  },
  "language_info": {
   "codemirror_mode": {
    "name": "ipython",
    "version": 3
   },
   "file_extension": ".py",
   "mimetype": "text/x-python",
   "name": "python",
   "nbconvert_exporter": "python",
   "pygments_lexer": "ipython3",
   "version": "3.9.12"
  },
  "papermill": {
   "default_parameters": {},
   "duration": 285.783144,
   "end_time": "2022-05-24T07:06:17.739840",
   "environment_variables": {},
   "exception": true,
   "input_path": "__notebook__.ipynb",
   "output_path": "__notebook__.ipynb",
   "parameters": {},
   "start_time": "2022-05-24T07:01:31.956696",
   "version": "2.3.4"
  }
 },
 "nbformat": 4,
 "nbformat_minor": 5
}
